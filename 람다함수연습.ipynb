{
 "cells": [
  {
   "cell_type": "code",
   "execution_count": 1,
   "id": "4bfebcfa-f120-4ef4-847b-a4c42f31d202",
   "metadata": {},
   "outputs": [],
   "source": [
    "def h1():\n",
    "    print(\"hi\")"
   ]
  },
  {
   "cell_type": "code",
   "execution_count": 2,
   "id": "84675591-2ce8-42fa-bba8-48fe20944dc0",
   "metadata": {},
   "outputs": [
    {
     "name": "stdout",
     "output_type": "stream",
     "text": [
      "hi\n"
     ]
    }
   ],
   "source": [
    "h1()"
   ]
  },
  {
   "cell_type": "code",
   "execution_count": 3,
   "id": "7b6e2663-b075-4826-816b-d115a1f8691f",
   "metadata": {},
   "outputs": [],
   "source": [
    "def h2(gift):\n",
    "    print(gift+\"를 받음\")"
   ]
  },
  {
   "cell_type": "code",
   "execution_count": 15,
   "id": "f83879af-3194-46bd-89ea-8dec8a9cfac9",
   "metadata": {},
   "outputs": [
    {
     "name": "stdout",
     "output_type": "stream",
     "text": [
      "사과를 받음\n"
     ]
    }
   ],
   "source": [
    "h2(\"사과\")"
   ]
  },
  {
   "cell_type": "code",
   "execution_count": 9,
   "id": "8b51f54a-3021-47d5-a3c2-ea93153881cc",
   "metadata": {},
   "outputs": [],
   "source": [
    "def h3():\n",
    "    return \"캔디\""
   ]
  },
  {
   "cell_type": "code",
   "execution_count": 10,
   "id": "7bb88d36-26fd-40b1-b336-ab8a64d8ff5f",
   "metadata": {},
   "outputs": [],
   "source": [
    "gift2=\"캔디\""
   ]
  },
  {
   "cell_type": "code",
   "execution_count": 11,
   "id": "e8383217-c563-4cab-bfd8-f098103e090e",
   "metadata": {},
   "outputs": [
    {
     "data": {
      "text/plain": [
       "'캔디'"
      ]
     },
     "execution_count": 11,
     "metadata": {},
     "output_type": "execute_result"
    }
   ],
   "source": [
    "h3()"
   ]
  },
  {
   "cell_type": "code",
   "execution_count": 12,
   "id": "45d1b7ca-099f-4f1c-9b1c-819321d85576",
   "metadata": {},
   "outputs": [],
   "source": [
    "def h4(gift):\n",
    "    print(gift+\"를 받음\")\n",
    "    return \"돈\""
   ]
  },
  {
   "cell_type": "code",
   "execution_count": 16,
   "id": "b993e76d-484d-40e5-8cad-2d1a08906868",
   "metadata": {},
   "outputs": [
    {
     "name": "stdout",
     "output_type": "stream",
     "text": [
      "사과를 받음\n"
     ]
    }
   ],
   "source": [
    "gift3=h4(\"사과\")"
   ]
  },
  {
   "cell_type": "code",
   "execution_count": 18,
   "id": "8a7f8f41-3b0e-4b04-b53b-5632bcda4461",
   "metadata": {},
   "outputs": [
    {
     "data": {
      "text/plain": [
       "'돈'"
      ]
     },
     "execution_count": 18,
     "metadata": {},
     "output_type": "execute_result"
    }
   ],
   "source": [
    "gift3"
   ]
  },
  {
   "cell_type": "code",
   "execution_count": 31,
   "id": "aef7ed4e-5f8f-4b6e-b161-760effa8d1df",
   "metadata": {},
   "outputs": [],
   "source": [
    "# map 함수"
   ]
  },
  {
   "cell_type": "code",
   "execution_count": 21,
   "id": "8f9578e5-5429-47be-bf7b-29433cce3991",
   "metadata": {},
   "outputs": [],
   "source": [
    "def f1():\n",
    "    print(\"hi\")"
   ]
  },
  {
   "cell_type": "code",
   "execution_count": 22,
   "id": "586bc643-debd-4c9b-8701-256a0b1b94f2",
   "metadata": {},
   "outputs": [
    {
     "data": {
      "text/plain": [
       "<map at 0x251746d30d0>"
      ]
     },
     "execution_count": 22,
     "metadata": {},
     "output_type": "execute_result"
    }
   ],
   "source": [
    "map(f1,[1,2,3])"
   ]
  },
  {
   "cell_type": "code",
   "execution_count": 23,
   "id": "eb29e9cf-57e0-40a1-968e-8b75dc7b7db5",
   "metadata": {},
   "outputs": [],
   "source": [
    "def f1(num):\n",
    "    return num+1"
   ]
  },
  {
   "cell_type": "code",
   "execution_count": 24,
   "id": "a017ae80-6a39-4d36-b680-036804488599",
   "metadata": {},
   "outputs": [
    {
     "data": {
      "text/plain": [
       "<map at 0x251746dce80>"
      ]
     },
     "execution_count": 24,
     "metadata": {},
     "output_type": "execute_result"
    }
   ],
   "source": [
    "map(f1,[1,2,3])"
   ]
  },
  {
   "cell_type": "code",
   "execution_count": 25,
   "id": "b857fa7c-c8ab-4329-b3af-83f714612259",
   "metadata": {},
   "outputs": [
    {
     "data": {
      "text/plain": [
       "[2, 3, 4]"
      ]
     },
     "execution_count": 25,
     "metadata": {},
     "output_type": "execute_result"
    }
   ],
   "source": [
    "list(map(f1,[1,2,3]))"
   ]
  },
  {
   "cell_type": "code",
   "execution_count": 27,
   "id": "368957b1-bf59-4750-ac2a-0ebddb5a68da",
   "metadata": {},
   "outputs": [
    {
     "data": {
      "text/plain": [
       "[2, 3, 4]"
      ]
     },
     "execution_count": 27,
     "metadata": {},
     "output_type": "execute_result"
    }
   ],
   "source": [
    "list(map(lambda x:x+1,[1,2,3]))"
   ]
  },
  {
   "cell_type": "code",
   "execution_count": 29,
   "id": "68903889-731e-4db1-9293-49819258a7de",
   "metadata": {},
   "outputs": [
    {
     "data": {
      "text/plain": [
       "[1, 4, 9]"
      ]
     },
     "execution_count": 29,
     "metadata": {},
     "output_type": "execute_result"
    }
   ],
   "source": [
    "list(map(lambda x:x**2,[1,2,3]))"
   ]
  },
  {
   "cell_type": "code",
   "execution_count": 30,
   "id": "841924ce-9e77-40c2-8e44-b520435ca1e4",
   "metadata": {},
   "outputs": [],
   "source": [
    "# yield(양보하다) : return 대신에 사용한다."
   ]
  },
  {
   "cell_type": "code",
   "execution_count": 32,
   "id": "e15d7617-514d-407c-ae09-d86c0cf8ef84",
   "metadata": {},
   "outputs": [],
   "source": [
    "# return 반환하고 종료한다. (중간에 반환 불가)"
   ]
  },
  {
   "cell_type": "code",
   "execution_count": 33,
   "id": "beac4370-f05a-4cc4-91b7-ff68c5f9e650",
   "metadata": {},
   "outputs": [],
   "source": [
    "def return_func():\n",
    "    return"
   ]
  },
  {
   "cell_type": "code",
   "execution_count": 34,
   "id": "32eed0b0-d56a-4535-8ba5-64a72b856060",
   "metadata": {},
   "outputs": [],
   "source": [
    "result=return_func()"
   ]
  },
  {
   "cell_type": "code",
   "execution_count": 36,
   "id": "0608164e-713d-4d25-af44-a13e34281146",
   "metadata": {},
   "outputs": [
    {
     "name": "stdout",
     "output_type": "stream",
     "text": [
      "None\n"
     ]
    }
   ],
   "source": [
    "print(result)"
   ]
  },
  {
   "cell_type": "code",
   "execution_count": 37,
   "id": "b7354676-3cb4-410a-bde3-e20903bd7f80",
   "metadata": {},
   "outputs": [],
   "source": [
    "def return_func(x):\n",
    "    return x\n",
    "    return \"hi\""
   ]
  },
  {
   "cell_type": "code",
   "execution_count": 38,
   "id": "b908e797-7841-4c75-a5af-7027364c5533",
   "metadata": {},
   "outputs": [
    {
     "data": {
      "text/plain": [
       "5"
      ]
     },
     "execution_count": 38,
     "metadata": {},
     "output_type": "execute_result"
    }
   ],
   "source": [
    "return_func(5)   # return \"hi\" 정의는 되었지만 이미 종료했기때문에 반환은 x"
   ]
  },
  {
   "cell_type": "code",
   "execution_count": 42,
   "id": "98d1867a-73fd-40f6-a3f7-d119eaa9b83f",
   "metadata": {},
   "outputs": [],
   "source": [
    "def return_func2(x):\n",
    "    print(\"###1###\")\n",
    "    yield x\n",
    "    print(\"###2###\")\n",
    "    x = x+1\n",
    "    yield x\n",
    "    print(\"###3###\")\n",
    "    x = x+1\n",
    "    yield x"
   ]
  },
  {
   "cell_type": "code",
   "execution_count": 43,
   "id": "e5fddb00-b7ed-4e47-a13e-35a49e369a90",
   "metadata": {},
   "outputs": [
    {
     "data": {
      "text/plain": [
       "<generator object return_func2 at 0x00000251731CBD00>"
      ]
     },
     "execution_count": 43,
     "metadata": {},
     "output_type": "execute_result"
    }
   ],
   "source": [
    "return_func2(1)"
   ]
  },
  {
   "cell_type": "code",
   "execution_count": 44,
   "id": "170913f3-1ac5-4bc7-b091-f2d3895c09b3",
   "metadata": {},
   "outputs": [
    {
     "name": "stdout",
     "output_type": "stream",
     "text": [
      "###1###\n",
      "1\n",
      "###2###\n",
      "2\n",
      "###3###\n",
      "3\n"
     ]
    }
   ],
   "source": [
    "for i in return_func2(1):\n",
    "    print(i)"
   ]
  },
  {
   "cell_type": "code",
   "execution_count": 45,
   "id": "c2132a7e-8ad7-4224-adf2-c9accc281733",
   "metadata": {},
   "outputs": [
    {
     "data": {
      "text/plain": [
       "[3, 8, 11]"
      ]
     },
     "execution_count": 45,
     "metadata": {},
     "output_type": "execute_result"
    }
   ],
   "source": [
    "list(map(lambda tu1,tu2 : tu1+tu2 , (1,2,3),(2,6,8)))"
   ]
  },
  {
   "cell_type": "code",
   "execution_count": 46,
   "id": "c65f3d58-95d4-4d9f-8ddd-d33ab23786b1",
   "metadata": {},
   "outputs": [
    {
     "data": {
      "text/plain": [
       "[3, 8, 11]"
      ]
     },
     "execution_count": 46,
     "metadata": {},
     "output_type": "execute_result"
    }
   ],
   "source": [
    "list(map(lambda li1,li2 : li1+li2 , [1,2,3],[2,6,8]))"
   ]
  },
  {
   "cell_type": "code",
   "execution_count": 48,
   "id": "e898f90d-a17f-485d-851f-50a390df3551",
   "metadata": {},
   "outputs": [],
   "source": [
    "# help(filter)"
   ]
  },
  {
   "cell_type": "code",
   "execution_count": 49,
   "id": "477420ae-b8de-4042-9fe6-bc28e40a5eab",
   "metadata": {},
   "outputs": [],
   "source": [
    "def f5():\n",
    "    return True"
   ]
  },
  {
   "cell_type": "code",
   "execution_count": 50,
   "id": "4ad7d33b-3f82-4e9a-a015-063d95868b4c",
   "metadata": {},
   "outputs": [
    {
     "data": {
      "text/plain": [
       "True"
      ]
     },
     "execution_count": 50,
     "metadata": {},
     "output_type": "execute_result"
    }
   ],
   "source": [
    "f5()"
   ]
  },
  {
   "cell_type": "code",
   "execution_count": 51,
   "id": "3968d961-7b32-427e-88c9-614f5c58887f",
   "metadata": {},
   "outputs": [
    {
     "data": {
      "text/plain": [
       "[1, 2, 3]"
      ]
     },
     "execution_count": 51,
     "metadata": {},
     "output_type": "execute_result"
    }
   ],
   "source": [
    "[i for i in [-3,-2,-1,0,1,2,3] if i>0]"
   ]
  },
  {
   "cell_type": "code",
   "execution_count": 52,
   "id": "59753d92-e2da-4ae4-b63a-8cf7cac26cea",
   "metadata": {},
   "outputs": [
    {
     "data": {
      "text/plain": [
       "[1, 2, 3]"
      ]
     },
     "execution_count": 52,
     "metadata": {},
     "output_type": "execute_result"
    }
   ],
   "source": [
    "list(filter(lambda li : li>0, [-3,-2,-1,0,1,2,3]))"
   ]
  },
  {
   "cell_type": "code",
   "execution_count": 56,
   "id": "3dcc08d0-a11a-4ecd-8b10-a7b986cb6173",
   "metadata": {},
   "outputs": [],
   "source": [
    "# help(zip) # zip(*iterables, strict=False)"
   ]
  },
  {
   "cell_type": "code",
   "execution_count": 57,
   "id": "72039278-3821-4942-a576-b141f56ce47d",
   "metadata": {},
   "outputs": [
    {
     "data": {
      "text/plain": [
       "<zip at 0x25175253e00>"
      ]
     },
     "execution_count": 57,
     "metadata": {},
     "output_type": "execute_result"
    }
   ],
   "source": [
    "zip([1,2,3],[4,5,6])"
   ]
  },
  {
   "cell_type": "code",
   "execution_count": 58,
   "id": "becd1a93-d3ce-446e-a2b6-9b31a006bf3a",
   "metadata": {},
   "outputs": [
    {
     "data": {
      "text/plain": [
       "[(1, 4), (2, 5), (3, 6)]"
      ]
     },
     "execution_count": 58,
     "metadata": {},
     "output_type": "execute_result"
    }
   ],
   "source": [
    "list(zip([1,2,3],[4,5,6]))"
   ]
  },
  {
   "cell_type": "code",
   "execution_count": 59,
   "id": "152f480b-e3ad-4d65-a005-0d905e57bfa3",
   "metadata": {},
   "outputs": [
    {
     "data": {
      "text/plain": [
       "[('봄', '벚꽃'), ('여름', '장미')]"
      ]
     },
     "execution_count": 59,
     "metadata": {},
     "output_type": "execute_result"
    }
   ],
   "source": [
    "list(zip(['봄','여름'],['벚꽃','장미']))"
   ]
  },
  {
   "cell_type": "code",
   "execution_count": 60,
   "id": "d9265b47-1727-42fb-8bef-27b704d119ff",
   "metadata": {},
   "outputs": [
    {
     "data": {
      "text/plain": [
       "[('봄', '벚꽃'), ('여름', '장미')]"
      ]
     },
     "execution_count": 60,
     "metadata": {},
     "output_type": "execute_result"
    }
   ],
   "source": [
    "list(zip(['봄','여름'],['벚꽃','장미','국화']))  # 갯수를 맞추기 않은 경우 무시함"
   ]
  },
  {
   "cell_type": "code",
   "execution_count": 61,
   "id": "f6a6df9c-3797-4553-9a05-a926c135a447",
   "metadata": {},
   "outputs": [
    {
     "data": {
      "text/plain": [
       "[('봄', '벚꽃'), ('여름', '장미')]"
      ]
     },
     "execution_count": 61,
     "metadata": {},
     "output_type": "execute_result"
    }
   ],
   "source": [
    "list(zip(['봄','여름','가을'],['벚꽃','장미']))"
   ]
  },
  {
   "cell_type": "code",
   "execution_count": 63,
   "id": "06d3f89d-3727-4185-b2bd-59a6097b3226",
   "metadata": {},
   "outputs": [
    {
     "name": "stdout",
     "output_type": "stream",
     "text": [
      "봄에는 벚꽃(이)가 핀다\n",
      "여름에는 장미(이)가 핀다\n"
     ]
    }
   ],
   "source": [
    "for season, flower in zip(['봄','여름','가을'],['벚꽃','장미']):\n",
    "    print(f\"{season}에는 {flower}(이)가 핀다\")"
   ]
  },
  {
   "cell_type": "code",
   "execution_count": null,
   "id": "d5f1ed3d-0cb1-4f81-bfc1-df40911e1f72",
   "metadata": {},
   "outputs": [],
   "source": []
  }
 ],
 "metadata": {
  "kernelspec": {
   "display_name": "Python 3 (ipykernel)",
   "language": "python",
   "name": "python3"
  },
  "language_info": {
   "codemirror_mode": {
    "name": "ipython",
    "version": 3
   },
   "file_extension": ".py",
   "mimetype": "text/x-python",
   "name": "python",
   "nbconvert_exporter": "python",
   "pygments_lexer": "ipython3",
   "version": "3.12.4"
  }
 },
 "nbformat": 4,
 "nbformat_minor": 5
}
