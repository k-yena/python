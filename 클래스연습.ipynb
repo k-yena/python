{
 "cells": [
  {
   "cell_type": "code",
   "execution_count": null,
   "id": "2cc58b33-1f2e-41d4-ab32-61050e02c104",
   "metadata": {},
   "outputs": [],
   "source": [
    "# 부모없이 빈 class 생성"
   ]
  },
  {
   "cell_type": "code",
   "execution_count": 1,
   "id": "010864c4-d880-4e5b-86d4-18493826e370",
   "metadata": {},
   "outputs": [],
   "source": [
    "class Car:\n",
    "    pass"
   ]
  },
  {
   "cell_type": "code",
   "execution_count": 3,
   "id": "62f83527-588e-4a72-8702-cf2be514a9e1",
   "metadata": {},
   "outputs": [],
   "source": [
    "my_car_obj1=Car()     # Car() 생성자(constructor): 객체를 생성"
   ]
  },
  {
   "cell_type": "code",
   "execution_count": 4,
   "id": "356f7c9c-5f95-472e-9370-1e21f5006cb4",
   "metadata": {},
   "outputs": [],
   "source": [
    "my_car_obj2=Car()"
   ]
  },
  {
   "cell_type": "code",
   "execution_count": 6,
   "id": "081567e2-c006-4575-8110-de13362860f8",
   "metadata": {},
   "outputs": [
    {
     "data": {
      "text/plain": [
       "2546440176752"
      ]
     },
     "execution_count": 6,
     "metadata": {},
     "output_type": "execute_result"
    }
   ],
   "source": [
    "id(my_car_obj1)"
   ]
  },
  {
   "cell_type": "code",
   "execution_count": 8,
   "id": "d0c7d704-fd92-4d5e-a303-38f324e2585d",
   "metadata": {},
   "outputs": [
    {
     "data": {
      "text/plain": [
       "2546439595664"
      ]
     },
     "execution_count": 8,
     "metadata": {},
     "output_type": "execute_result"
    }
   ],
   "source": [
    "id(my_car_obj2)"
   ]
  },
  {
   "cell_type": "code",
   "execution_count": 9,
   "id": "19cfbace-d0fb-439b-89e6-725c0da77315",
   "metadata": {},
   "outputs": [],
   "source": [
    "# 계산기 만드는 과정"
   ]
  },
  {
   "cell_type": "code",
   "execution_count": 44,
   "id": "f9b5bbb3-b6b6-42f5-a928-047a689174b3",
   "metadata": {},
   "outputs": [],
   "source": [
    "class Caculator:\n",
    "    def __init__(self):      # 객체초기화 (self : 클래스 자기 자신에 객체를 초기화)\n",
    "        self.num1=0          # 인스턴스(객체) 변수\n",
    "        self.num2=0\n",
    "    def add(self,num1,num2):       # 매개변수 num1,num2  --> 인스턴스 변수가 아니다!!!!(중요함!!!)\n",
    "        self.num1=num1          # 인스턴스(객체) 변수\n",
    "        self.num2=num2\n",
    "        return self.num1+self.num2"
   ]
  },
  {
   "cell_type": "code",
   "execution_count": 45,
   "id": "0a76d7a2-deae-40c4-ab99-9991ac9a65fa",
   "metadata": {},
   "outputs": [],
   "source": [
    "mycalc=Caculator()    #Caculator() "
   ]
  },
  {
   "cell_type": "code",
   "execution_count": 46,
   "id": "82ded5fd-0149-4c0a-b543-c6222a411554",
   "metadata": {},
   "outputs": [
    {
     "data": {
      "text/plain": [
       "0"
      ]
     },
     "execution_count": 46,
     "metadata": {},
     "output_type": "execute_result"
    }
   ],
   "source": [
    "mycalc.num1"
   ]
  },
  {
   "cell_type": "code",
   "execution_count": 47,
   "id": "6ae57cb4-f1b2-4df5-b5b5-704f8b79017d",
   "metadata": {},
   "outputs": [
    {
     "data": {
      "text/plain": [
       "0"
      ]
     },
     "execution_count": 47,
     "metadata": {},
     "output_type": "execute_result"
    }
   ],
   "source": [
    "mycalc.num2"
   ]
  },
  {
   "cell_type": "code",
   "execution_count": 48,
   "id": "00fa3d6e-adb6-415a-9423-b1dad647679d",
   "metadata": {},
   "outputs": [],
   "source": [
    "result=mycalc.add(7,3)"
   ]
  },
  {
   "cell_type": "code",
   "execution_count": 49,
   "id": "5b2c45b2-33c6-41c2-be17-263bb5483c92",
   "metadata": {},
   "outputs": [
    {
     "data": {
      "text/plain": [
       "7"
      ]
     },
     "execution_count": 49,
     "metadata": {},
     "output_type": "execute_result"
    }
   ],
   "source": [
    "mycalc.num1"
   ]
  },
  {
   "cell_type": "code",
   "execution_count": 50,
   "id": "b6b8a718-3b0f-4b27-bd3a-dfa909bfe08f",
   "metadata": {},
   "outputs": [
    {
     "data": {
      "text/plain": [
       "3"
      ]
     },
     "execution_count": 50,
     "metadata": {},
     "output_type": "execute_result"
    }
   ],
   "source": [
    "mycalc.num2"
   ]
  },
  {
   "cell_type": "code",
   "execution_count": 51,
   "id": "58d941eb-fb11-4ece-866b-73d206a0a693",
   "metadata": {},
   "outputs": [
    {
     "data": {
      "text/plain": [
       "10"
      ]
     },
     "execution_count": 51,
     "metadata": {},
     "output_type": "execute_result"
    }
   ],
   "source": [
    "result"
   ]
  },
  {
   "cell_type": "code",
   "execution_count": 52,
   "id": "a35c5e1b-a9c2-4330-8666-f00659dd1965",
   "metadata": {},
   "outputs": [],
   "source": [
    "#  클래스 간에는 3가지 관계(사용, 포함, 상속)가 있다."
   ]
  },
  {
   "cell_type": "code",
   "execution_count": 53,
   "id": "6b9429f3-a6b2-4896-a750-5d434a1f0fe4",
   "metadata": {},
   "outputs": [],
   "source": [
    "# 1) 사용 관계\n",
    "# 회사원이 결산 보고서 문서를 프리터를 사용해서 출력한다."
   ]
  },
  {
   "cell_type": "code",
   "execution_count": 56,
   "id": "400fe23c-ffe2-493c-bd19-4f8859da1f73",
   "metadata": {},
   "outputs": [],
   "source": [
    "# 회사원이라는 틀에서 홍길동 객체를 찍어내보자.\n",
    "# 프린터라는 틀에서 레이저 프린터 객체를 생성(만들어보자,찍어내보자.)해보자"
   ]
  },
  {
   "cell_type": "code",
   "execution_count": 83,
   "id": "2d50da8d-d64f-4804-8865-735dddbcf2b9",
   "metadata": {},
   "outputs": [],
   "source": [
    "class OfficeWorker:\n",
    "    def __init__(self,name):        \n",
    "        self.name=name\n",
    "    def work(self):\n",
    "        print(f\"{self.name}이/가 일한다.\")\n",
    "    def use_printer(self, printer):\n",
    "        print('프린터를 사용해서 문서를 출력한다.')"
   ]
  },
  {
   "cell_type": "code",
   "execution_count": 84,
   "id": "720d2738-ac1d-4a29-a895-69ef0a00ab35",
   "metadata": {},
   "outputs": [],
   "source": [
    "class Printer:\n",
    "    def print_document(self,document):\n",
    "        print(f\"{document}를 인쇄한다\")"
   ]
  },
  {
   "cell_type": "code",
   "execution_count": 85,
   "id": "9abfd24d-638b-4acb-976a-064b579ac81b",
   "metadata": {},
   "outputs": [],
   "source": [
    "hong=OfficeWorker(\"홍길동\")  "
   ]
  },
  {
   "cell_type": "code",
   "execution_count": 86,
   "id": "2835ff9f-6283-43a6-a374-c5ce0990a35b",
   "metadata": {},
   "outputs": [
    {
     "data": {
      "text/plain": [
       "'홍길동'"
      ]
     },
     "execution_count": 86,
     "metadata": {},
     "output_type": "execute_result"
    }
   ],
   "source": [
    "hong.name"
   ]
  },
  {
   "cell_type": "code",
   "execution_count": 87,
   "id": "68aba9cc-9121-44c8-85ca-a4660054483d",
   "metadata": {},
   "outputs": [
    {
     "name": "stdout",
     "output_type": "stream",
     "text": [
      "홍길동이/가 일한다.\n"
     ]
    }
   ],
   "source": [
    "hong.work()"
   ]
  },
  {
   "cell_type": "code",
   "execution_count": 88,
   "id": "e4facb73-f2f2-4cbd-b5df-f7ed2fc12826",
   "metadata": {},
   "outputs": [],
   "source": [
    "laser_print=Printer()"
   ]
  },
  {
   "cell_type": "code",
   "execution_count": 89,
   "id": "1d89f465-76f2-4764-b5f6-b5072fcb6556",
   "metadata": {},
   "outputs": [
    {
     "name": "stdout",
     "output_type": "stream",
     "text": [
      "결산 보고서를 인쇄한다\n"
     ]
    }
   ],
   "source": [
    "laser_print.print_document(\"결산 보고서\")"
   ]
  },
  {
   "cell_type": "code",
   "execution_count": 90,
   "id": "5ba63263-707f-4ac1-b7c0-ad0e9e6e33ba",
   "metadata": {},
   "outputs": [
    {
     "name": "stdout",
     "output_type": "stream",
     "text": [
      "프린터를 사용해서 문서를 출력한다.\n"
     ]
    }
   ],
   "source": [
    "hong.use_printer(laser_print)"
   ]
  },
  {
   "cell_type": "code",
   "execution_count": null,
   "id": "5d834012-4e8a-4be2-82d6-98c585327533",
   "metadata": {},
   "outputs": [],
   "source": []
  }
 ],
 "metadata": {
  "kernelspec": {
   "display_name": "Python 3 (ipykernel)",
   "language": "python",
   "name": "python3"
  },
  "language_info": {
   "codemirror_mode": {
    "name": "ipython",
    "version": 3
   },
   "file_extension": ".py",
   "mimetype": "text/x-python",
   "name": "python",
   "nbconvert_exporter": "python",
   "pygments_lexer": "ipython3",
   "version": "3.12.4"
  }
 },
 "nbformat": 4,
 "nbformat_minor": 5
}
