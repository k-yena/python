{
 "cells": [
  {
   "cell_type": "code",
   "execution_count": 40,
   "id": "bf7a6972-8cde-444c-a935-75c16f423de7",
   "metadata": {},
   "outputs": [],
   "source": [
    "# 사용 관계 클래스 연습"
   ]
  },
  {
   "cell_type": "code",
   "execution_count": 3,
   "id": "9af029e0-2b91-4dff-af24-920b4d74478f",
   "metadata": {},
   "outputs": [],
   "source": [
    "class Student:\n",
    "    def __init__(self,name):\n",
    "        self.name=name\n",
    "    def std(self):\n",
    "        print(f'{self.name}학생의 나이는 {self.age}살이고 공부를 한다.')\n",
    "    def eat(self, menu):\n",
    "        print(f'{self.name} 학생이 {menu}를 먹는다.')"
   ]
  },
  {
   "cell_type": "code",
   "execution_count": 4,
   "id": "e9ebc5b1-a8db-4d81-82b5-40dd0c9f54c4",
   "metadata": {},
   "outputs": [],
   "source": [
    "class Restaurant:\n",
    "    def __init__(self, menu):\n",
    "        self.menu=menu"
   ]
  },
  {
   "cell_type": "code",
   "execution_count": 5,
   "id": "47760995-3709-40d3-8eaf-04ba91c6207c",
   "metadata": {},
   "outputs": [],
   "source": [
    "hong=Student(\"홍길동\")"
   ]
  },
  {
   "cell_type": "code",
   "execution_count": 6,
   "id": "420cc1a9-06b0-48bd-8965-a03905dd204d",
   "metadata": {},
   "outputs": [],
   "source": [
    "chinese_rest=Restaurant(\"짜장면\")"
   ]
  },
  {
   "cell_type": "code",
   "execution_count": 7,
   "id": "7fda5a30-af32-4207-a00a-8060afb12a77",
   "metadata": {},
   "outputs": [
    {
     "data": {
      "text/plain": [
       "'짜장면'"
      ]
     },
     "execution_count": 7,
     "metadata": {},
     "output_type": "execute_result"
    }
   ],
   "source": [
    "chinese_rest.menu"
   ]
  },
  {
   "cell_type": "code",
   "execution_count": 8,
   "id": "0ac90205-84b1-47e5-bf33-0f6d5bf40a7f",
   "metadata": {},
   "outputs": [
    {
     "name": "stdout",
     "output_type": "stream",
     "text": [
      "홍길동 학생이 짜장면를 먹는다.\n"
     ]
    }
   ],
   "source": [
    "hong.eat(chinese_rest.menu)"
   ]
  },
  {
   "cell_type": "code",
   "execution_count": 9,
   "id": "0edc4a33-6a26-4689-9521-93786c78198d",
   "metadata": {},
   "outputs": [],
   "source": [
    "# 2 포함 관계 클래스 연습"
   ]
  },
  {
   "cell_type": "code",
   "execution_count": 12,
   "id": "cfd631bf-fd92-4dd2-afff-c6c49769fa22",
   "metadata": {},
   "outputs": [],
   "source": [
    "# 차와 엔진 관계"
   ]
  },
  {
   "cell_type": "code",
   "execution_count": 13,
   "id": "e06db6af-560a-4fac-87f2-72c66046f08c",
   "metadata": {},
   "outputs": [],
   "source": [
    "# 차가 만들어질 때(생성될 때) 엔진이 초기화 되어야 함"
   ]
  },
  {
   "cell_type": "code",
   "execution_count": 26,
   "id": "0178669d-26e9-4af1-b95a-92a3c367b357",
   "metadata": {},
   "outputs": [],
   "source": [
    "class Car():\n",
    "    def __init__(self):\n",
    "        self.engine=Engine()\n",
    "    def drive(self):\n",
    "        print(\"차가 달린다.\")"
   ]
  },
  {
   "cell_type": "code",
   "execution_count": 27,
   "id": "b694ca2f-8b02-4f3b-8351-ba5334579086",
   "metadata": {},
   "outputs": [],
   "source": [
    "class Engine():\n",
    "    def start(self):\n",
    "        print(\"엔진이 시작\")"
   ]
  },
  {
   "cell_type": "code",
   "execution_count": 28,
   "id": "1b210a01-9bb8-422d-b566-831916dbde07",
   "metadata": {},
   "outputs": [],
   "source": [
    "mycar=Car()"
   ]
  },
  {
   "cell_type": "code",
   "execution_count": 31,
   "id": "b664d0a8-5d72-46a0-9a42-b97f19ac9258",
   "metadata": {},
   "outputs": [
    {
     "data": {
      "text/plain": [
       "<__main__.Engine at 0x1ebabba3bf0>"
      ]
     },
     "execution_count": 31,
     "metadata": {},
     "output_type": "execute_result"
    }
   ],
   "source": [
    "mycar.engine"
   ]
  },
  {
   "cell_type": "code",
   "execution_count": 21,
   "id": "736d5d6c-5893-4deb-bd49-b2c7b64f2995",
   "metadata": {},
   "outputs": [
    {
     "name": "stdout",
     "output_type": "stream",
     "text": [
      "차가 달린다.\n"
     ]
    }
   ],
   "source": [
    "mycar.drive()"
   ]
  },
  {
   "cell_type": "code",
   "execution_count": 22,
   "id": "6e771df1-ce6e-4dd1-937b-518f658a1f4c",
   "metadata": {},
   "outputs": [],
   "source": [
    "four_engine=Engine()"
   ]
  },
  {
   "cell_type": "code",
   "execution_count": 23,
   "id": "bbccc3d7-34e8-4ba3-9fb2-83e0e6cbc4d6",
   "metadata": {},
   "outputs": [
    {
     "name": "stdout",
     "output_type": "stream",
     "text": [
      "엔진이 시작\n"
     ]
    }
   ],
   "source": [
    "four_engine.start()"
   ]
  },
  {
   "cell_type": "code",
   "execution_count": 43,
   "id": "111fd1a6-75ec-45f7-ba14-e526f15d4afd",
   "metadata": {},
   "outputs": [],
   "source": [
    "# 필통은 연필을 가지다(have 관계)"
   ]
  },
  {
   "cell_type": "code",
   "execution_count": 33,
   "id": "168530da-8ac8-4f1d-ac9f-7cd8fc8a5477",
   "metadata": {},
   "outputs": [],
   "source": [
    "# 연필이 있는 필통"
   ]
  },
  {
   "cell_type": "code",
   "execution_count": 35,
   "id": "958a5290-0eaf-4994-8e11-d71b06640374",
   "metadata": {},
   "outputs": [],
   "source": [
    "class PencilCase:\n",
    "    def __init__(self):\n",
    "        self.pencil=Pencil()"
   ]
  },
  {
   "cell_type": "code",
   "execution_count": 36,
   "id": "df5ef886-f554-4291-b139-677883c67381",
   "metadata": {},
   "outputs": [],
   "source": [
    "class Pencil:\n",
    "    def write(self):\n",
    "        print(\"쓰다\")"
   ]
  },
  {
   "cell_type": "code",
   "execution_count": 37,
   "id": "2770427d-9fd2-4399-9d42-18192ec00a7d",
   "metadata": {},
   "outputs": [],
   "source": [
    "my_pencil_case=PencilCase()"
   ]
  },
  {
   "cell_type": "code",
   "execution_count": 38,
   "id": "1216e6d8-bf35-4515-8e40-141db2a46cff",
   "metadata": {},
   "outputs": [
    {
     "data": {
      "text/plain": [
       "<__main__.Pencil at 0x1ebabdb5af0>"
      ]
     },
     "execution_count": 38,
     "metadata": {},
     "output_type": "execute_result"
    }
   ],
   "source": [
    "my_pencil_case.pencil"
   ]
  },
  {
   "cell_type": "code",
   "execution_count": 39,
   "id": "b3d38247-f747-4236-98e4-5e348c20e8fc",
   "metadata": {},
   "outputs": [
    {
     "name": "stdout",
     "output_type": "stream",
     "text": [
      "쓰다\n"
     ]
    }
   ],
   "source": [
    "my_pencil_case.pencil.write()"
   ]
  },
  {
   "cell_type": "code",
   "execution_count": 46,
   "id": "a3594fa6-0d83-4d94-b411-86a72bd756ae",
   "metadata": {},
   "outputs": [],
   "source": [
    "# 상속 관계 (is 관계), 자식클래스는 부모클래스이다."
   ]
  },
  {
   "cell_type": "code",
   "execution_count": 47,
   "id": "9951ddb3-e34a-4791-abc2-4f1abad464fe",
   "metadata": {},
   "outputs": [],
   "source": [
    "# 부모(상위) 클래스\n",
    "# 자식(하위) 클래스"
   ]
  },
  {
   "cell_type": "code",
   "execution_count": 48,
   "id": "378c0ebc-3165-460d-8e39-421840babea8",
   "metadata": {},
   "outputs": [],
   "source": [
    "# 고양이는 동물이다.\n",
    "# 강아지는 동물이다."
   ]
  },
  {
   "cell_type": "code",
   "execution_count": 63,
   "id": "8bba0b49-ad3e-49d7-b6ae-ad840db777b1",
   "metadata": {},
   "outputs": [],
   "source": [
    "class Animal:\n",
    "    def __init__(self,color):\n",
    "        self.color=color\n",
    "    def breathe(self):\n",
    "        print('숨쉬다')"
   ]
  },
  {
   "cell_type": "code",
   "execution_count": 64,
   "id": "024700ff-93eb-430a-af7f-05ff2def4876",
   "metadata": {},
   "outputs": [],
   "source": [
    "class Cat(Animal):\n",
    "    pass"
   ]
  },
  {
   "cell_type": "code",
   "execution_count": 68,
   "id": "fab0e79b-e3b9-48e5-97e9-bb8f82ae9ec6",
   "metadata": {},
   "outputs": [],
   "source": [
    "bumbee=Cat(\"black\")"
   ]
  },
  {
   "cell_type": "code",
   "execution_count": 69,
   "id": "5e529eb4-1240-4fe8-b033-b768ff47dde5",
   "metadata": {},
   "outputs": [
    {
     "data": {
      "text/plain": [
       "'black'"
      ]
     },
     "execution_count": 69,
     "metadata": {},
     "output_type": "execute_result"
    }
   ],
   "source": [
    "bumbee.color"
   ]
  },
  {
   "cell_type": "code",
   "execution_count": 88,
   "id": "687331e6-da8a-4214-8baa-8fa5f7063c31",
   "metadata": {},
   "outputs": [],
   "source": [
    "per_cat=Cat(\"white\")"
   ]
  },
  {
   "cell_type": "code",
   "execution_count": 89,
   "id": "5f114db8-9b5e-4b8c-aa94-576d45d612ac",
   "metadata": {},
   "outputs": [
    {
     "name": "stdout",
     "output_type": "stream",
     "text": [
      "숨쉬다\n"
     ]
    }
   ],
   "source": [
    "per_cat.breathe()"
   ]
  },
  {
   "cell_type": "code",
   "execution_count": 75,
   "id": "a8703090-489c-4ea3-b5ec-65624b350179",
   "metadata": {},
   "outputs": [],
   "source": [
    "class Dog(Animal):\n",
    "    pass"
   ]
  },
  {
   "cell_type": "code",
   "execution_count": 76,
   "id": "2bd4164d-51bc-4bde-bfc9-838e21eff9d8",
   "metadata": {},
   "outputs": [],
   "source": [
    "mal=Dog(\"white\")"
   ]
  },
  {
   "cell_type": "code",
   "execution_count": 77,
   "id": "9ecf3647-8a9d-43d6-9a03-be784eeefcc1",
   "metadata": {},
   "outputs": [
    {
     "data": {
      "text/plain": [
       "'white'"
      ]
     },
     "execution_count": 77,
     "metadata": {},
     "output_type": "execute_result"
    }
   ],
   "source": [
    "mal.color"
   ]
  },
  {
   "cell_type": "code",
   "execution_count": 91,
   "id": "e39ec511-d510-4628-9dd1-57087bc7aab0",
   "metadata": {},
   "outputs": [],
   "source": [
    "chiwawa=Dog(\"brown\")"
   ]
  },
  {
   "cell_type": "code",
   "execution_count": 92,
   "id": "f36ae8f2-8e8b-4f80-be37-50f132bdb86c",
   "metadata": {},
   "outputs": [
    {
     "name": "stdout",
     "output_type": "stream",
     "text": [
      "숨쉬다\n"
     ]
    }
   ],
   "source": [
    "chiwawa.breathe()"
   ]
  },
  {
   "cell_type": "code",
   "execution_count": 97,
   "id": "721b1338-45fc-4fff-a169-b4ebce63cb5d",
   "metadata": {},
   "outputs": [],
   "source": [
    "class Caculator:\n",
    "    def __init__(self):     \n",
    "        self.num1=0          \n",
    "        self.num2=0\n",
    "    def add(self,num1,num2):       \n",
    "        self.num1=num1        \n",
    "        self.num2=num2\n",
    "        return self.num1+self.num2\n",
    "    def subtract(self,num1,num2):      \n",
    "        self.num1=num1          \n",
    "        self.num2=num2\n",
    "        return self.num1-self.num2 \n",
    "    def multiply(self,num1,num2):      \n",
    "        self.num1=num1          \n",
    "        self.num2=num2\n",
    "        return self.num1*self.num2\n",
    "    def division(self,num1,num2):      \n",
    "        self.num1=num1         \n",
    "        self.num2=num2\n",
    "        return self.num1/self.num2        "
   ]
  },
  {
   "cell_type": "code",
   "execution_count": 98,
   "id": "3b22a3d7-5713-4696-8934-e6243c73059b",
   "metadata": {},
   "outputs": [],
   "source": [
    "ca=Caculator()"
   ]
  },
  {
   "cell_type": "code",
   "execution_count": 99,
   "id": "4a314f19-f79a-4f49-bcf8-3b8b5b74c74a",
   "metadata": {},
   "outputs": [
    {
     "name": "stdout",
     "output_type": "stream",
     "text": [
      "더하기 결과는5\n",
      "빼기 결과는-1\n",
      "곱하기 결과는6\n",
      "나누기 결과는0.6666666666666666\n"
     ]
    }
   ],
   "source": [
    "print(f'더하기 결과는{ca.add(2,3)}')\n",
    "print(f'빼기 결과는{ca.subtract(2,3)}')\n",
    "print(f'곱하기 결과는{ca.multiply(2,3)}')\n",
    "print(f'나누기 결과는{ca.division(2,3)}')"
   ]
  },
  {
   "cell_type": "code",
   "execution_count": null,
   "id": "a4cf073f-c83a-4be9-9ee0-2f67334d75b3",
   "metadata": {},
   "outputs": [],
   "source": [
    "# 계산기 버전 2 class"
   ]
  },
  {
   "cell_type": "code",
   "execution_count": 109,
   "id": "dbac64de-a555-4598-b125-479150743e27",
   "metadata": {},
   "outputs": [],
   "source": [
    "class Caculator:\n",
    "    def __init__(self,num1,num2):     \n",
    "       self.num1=num1          \n",
    "       self.num2=num2\n",
    "    def add(self):       \n",
    "        return self.num1+self.num2\n",
    "    def subtract(self):      \n",
    "        return self.num1-self.num2 \n",
    "    def multiply(self):      \n",
    "        return self.num1*self.num2\n",
    "    def division(self):      \n",
    "        return self.num1/self.num2       "
   ]
  },
  {
   "cell_type": "code",
   "execution_count": 110,
   "id": "bc4572eb-fa36-49ce-81a6-fd4ff9ea04b9",
   "metadata": {},
   "outputs": [],
   "source": [
    "ca2=Caculator(3,6)"
   ]
  },
  {
   "cell_type": "code",
   "execution_count": 111,
   "id": "521ef885-c93d-456d-975d-0ff50fe2f3c3",
   "metadata": {},
   "outputs": [
    {
     "name": "stdout",
     "output_type": "stream",
     "text": [
      "더하기 결과는9\n",
      "빼기 결과는-3\n",
      "곱하기 결과는18\n",
      "나누기 결과는0.5\n"
     ]
    }
   ],
   "source": [
    "print(f'더하기 결과는{ca2.add()}')\n",
    "print(f'빼기 결과는{ca2.subtract()}')\n",
    "print(f'곱하기 결과는{ca2.multiply()}')\n",
    "print(f'나누기 결과는{ca2.division()}')"
   ]
  },
  {
   "cell_type": "code",
   "execution_count": 112,
   "id": "479f4d32-2506-435f-9c75-f8476eabbcba",
   "metadata": {},
   "outputs": [],
   "source": [
    "ca3=Caculator(3,0)"
   ]
  },
  {
   "cell_type": "code",
   "execution_count": 113,
   "id": "e3881089-0ab1-447a-9968-c32ede102e92",
   "metadata": {},
   "outputs": [
    {
     "data": {
      "text/plain": [
       "3"
      ]
     },
     "execution_count": 113,
     "metadata": {},
     "output_type": "execute_result"
    }
   ],
   "source": [
    "ca3.num1"
   ]
  },
  {
   "cell_type": "code",
   "execution_count": 114,
   "id": "422d53df-7684-4dea-abbe-b27add51ad7e",
   "metadata": {},
   "outputs": [
    {
     "data": {
      "text/plain": [
       "0"
      ]
     },
     "execution_count": 114,
     "metadata": {},
     "output_type": "execute_result"
    }
   ],
   "source": [
    "ca3.num2"
   ]
  },
  {
   "cell_type": "code",
   "execution_count": 115,
   "id": "0754ced4-d269-4ac7-b23a-3a242dd3d376",
   "metadata": {},
   "outputs": [
    {
     "ename": "ZeroDivisionError",
     "evalue": "division by zero",
     "output_type": "error",
     "traceback": [
      "\u001b[1;31m---------------------------------------------------------------------------\u001b[0m",
      "\u001b[1;31mZeroDivisionError\u001b[0m                         Traceback (most recent call last)",
      "Cell \u001b[1;32mIn[115], line 1\u001b[0m\n\u001b[1;32m----> 1\u001b[0m ca3\u001b[38;5;241m.\u001b[39mdivision()\n",
      "Cell \u001b[1;32mIn[109], line 12\u001b[0m, in \u001b[0;36mCaculator.division\u001b[1;34m(self)\u001b[0m\n\u001b[0;32m     11\u001b[0m \u001b[38;5;28;01mdef\u001b[39;00m \u001b[38;5;21mdivision\u001b[39m(\u001b[38;5;28mself\u001b[39m):      \n\u001b[1;32m---> 12\u001b[0m     \u001b[38;5;28;01mreturn\u001b[39;00m \u001b[38;5;28mself\u001b[39m\u001b[38;5;241m.\u001b[39mnum1\u001b[38;5;241m/\u001b[39m\u001b[38;5;28mself\u001b[39m\u001b[38;5;241m.\u001b[39mnum2\n",
      "\u001b[1;31mZeroDivisionError\u001b[0m: division by zero"
     ]
    }
   ],
   "source": [
    "ca3.division()"
   ]
  },
  {
   "cell_type": "code",
   "execution_count": 116,
   "id": "81ba721e-21e0-4b9a-a341-3834308d71a1",
   "metadata": {},
   "outputs": [],
   "source": [
    "# 계산기 버전3 - Caculator 계산기 자식 클래스 만들기"
   ]
  },
  {
   "cell_type": "code",
   "execution_count": 117,
   "id": "a50acc4b-9bf6-445d-9e86-14d0d912a70a",
   "metadata": {},
   "outputs": [],
   "source": [
    "class SafeCaculator(Caculator):\n",
    "    pass"
   ]
  },
  {
   "cell_type": "code",
   "execution_count": 118,
   "id": "32fc70ce-492f-485d-a64e-dd6f6e2f07f4",
   "metadata": {},
   "outputs": [],
   "source": [
    "my_safecalc=SafeCaculator(3,0)"
   ]
  },
  {
   "cell_type": "code",
   "execution_count": 119,
   "id": "c82836b6-3d27-46ce-821e-70043cf91321",
   "metadata": {},
   "outputs": [
    {
     "data": {
      "text/plain": [
       "3"
      ]
     },
     "execution_count": 119,
     "metadata": {},
     "output_type": "execute_result"
    }
   ],
   "source": [
    "my_safecalc.num1"
   ]
  },
  {
   "cell_type": "code",
   "execution_count": 120,
   "id": "6897b8cc-a128-4832-8703-b03a9673fa71",
   "metadata": {},
   "outputs": [
    {
     "data": {
      "text/plain": [
       "0"
      ]
     },
     "execution_count": 120,
     "metadata": {},
     "output_type": "execute_result"
    }
   ],
   "source": [
    "my_safecalc.num2"
   ]
  },
  {
   "cell_type": "code",
   "execution_count": 121,
   "id": "31281ec3-58ca-4c90-82ad-6ba8f7c8c794",
   "metadata": {},
   "outputs": [
    {
     "data": {
      "text/plain": [
       "3"
      ]
     },
     "execution_count": 121,
     "metadata": {},
     "output_type": "execute_result"
    }
   ],
   "source": [
    "my_safecalc.add()"
   ]
  },
  {
   "cell_type": "code",
   "execution_count": 122,
   "id": "5851e1bd-586d-4541-a477-da48414f46fc",
   "metadata": {},
   "outputs": [
    {
     "data": {
      "text/plain": [
       "0"
      ]
     },
     "execution_count": 122,
     "metadata": {},
     "output_type": "execute_result"
    }
   ],
   "source": [
    "my_safecalc.multiply()"
   ]
  },
  {
   "cell_type": "code",
   "execution_count": 123,
   "id": "cdb0f971-5710-4b54-8050-f6867409c648",
   "metadata": {},
   "outputs": [
    {
     "data": {
      "text/plain": [
       "3"
      ]
     },
     "execution_count": 123,
     "metadata": {},
     "output_type": "execute_result"
    }
   ],
   "source": [
    "my_safecalc.subtract()"
   ]
  },
  {
   "cell_type": "code",
   "execution_count": 124,
   "id": "70616405-6d50-4c59-b2c7-992bb9f4093f",
   "metadata": {},
   "outputs": [
    {
     "ename": "ZeroDivisionError",
     "evalue": "division by zero",
     "output_type": "error",
     "traceback": [
      "\u001b[1;31m---------------------------------------------------------------------------\u001b[0m",
      "\u001b[1;31mZeroDivisionError\u001b[0m                         Traceback (most recent call last)",
      "Cell \u001b[1;32mIn[124], line 1\u001b[0m\n\u001b[1;32m----> 1\u001b[0m my_safecalc\u001b[38;5;241m.\u001b[39mdivision()\n",
      "Cell \u001b[1;32mIn[109], line 12\u001b[0m, in \u001b[0;36mCaculator.division\u001b[1;34m(self)\u001b[0m\n\u001b[0;32m     11\u001b[0m \u001b[38;5;28;01mdef\u001b[39;00m \u001b[38;5;21mdivision\u001b[39m(\u001b[38;5;28mself\u001b[39m):      \n\u001b[1;32m---> 12\u001b[0m     \u001b[38;5;28;01mreturn\u001b[39;00m \u001b[38;5;28mself\u001b[39m\u001b[38;5;241m.\u001b[39mnum1\u001b[38;5;241m/\u001b[39m\u001b[38;5;28mself\u001b[39m\u001b[38;5;241m.\u001b[39mnum2\n",
      "\u001b[1;31mZeroDivisionError\u001b[0m: division by zero"
     ]
    }
   ],
   "source": [
    "my_safecalc.division()"
   ]
  },
  {
   "cell_type": "code",
   "execution_count": 125,
   "id": "08b6ba5d-335d-4248-ab7b-5302301226cf",
   "metadata": {},
   "outputs": [],
   "source": [
    "# 부모가 정의한 divide()를 재정의(override)해야하는 상황"
   ]
  },
  {
   "cell_type": "code",
   "execution_count": 131,
   "id": "49193497-ce9e-4cbd-b27b-fc17702b0bd0",
   "metadata": {},
   "outputs": [],
   "source": [
    "class SafeCaculator(Caculator):\n",
    "    def division(self):\n",
    "        if self.num2 == 0:\n",
    "            print(\"0으로 나누지 마세요\")\n",
    "        else:            \n",
    "            return self.num1/self.num2   "
   ]
  },
  {
   "cell_type": "code",
   "execution_count": 132,
   "id": "bdfb8013-9837-4404-a8aa-6e18e775d2e7",
   "metadata": {},
   "outputs": [],
   "source": [
    "my_safe_calc2=SafeCaculator(3,0)"
   ]
  },
  {
   "cell_type": "code",
   "execution_count": 133,
   "id": "e97c8ece-cb9d-47c2-8981-8e1ca26af368",
   "metadata": {},
   "outputs": [
    {
     "data": {
      "text/plain": [
       "3"
      ]
     },
     "execution_count": 133,
     "metadata": {},
     "output_type": "execute_result"
    }
   ],
   "source": [
    "my_safe_calc2.num1"
   ]
  },
  {
   "cell_type": "code",
   "execution_count": 134,
   "id": "312c0d36-68d6-46f1-a850-c859b01a8b4a",
   "metadata": {},
   "outputs": [
    {
     "data": {
      "text/plain": [
       "0"
      ]
     },
     "execution_count": 134,
     "metadata": {},
     "output_type": "execute_result"
    }
   ],
   "source": [
    "my_safe_calc2.num2"
   ]
  },
  {
   "cell_type": "code",
   "execution_count": 135,
   "id": "6d9ba9f5-45a3-4422-8875-771c99e107bf",
   "metadata": {},
   "outputs": [
    {
     "name": "stdout",
     "output_type": "stream",
     "text": [
      "0으로 나누지 마세요\n"
     ]
    }
   ],
   "source": [
    "my_safe_calc2.division()"
   ]
  },
  {
   "cell_type": "code",
   "execution_count": null,
   "id": "e3242d7f-cd3d-429b-98e8-c0737e37c6c2",
   "metadata": {},
   "outputs": [],
   "source": []
  }
 ],
 "metadata": {
  "kernelspec": {
   "display_name": "Python 3 (ipykernel)",
   "language": "python",
   "name": "python3"
  },
  "language_info": {
   "codemirror_mode": {
    "name": "ipython",
    "version": 3
   },
   "file_extension": ".py",
   "mimetype": "text/x-python",
   "name": "python",
   "nbconvert_exporter": "python",
   "pygments_lexer": "ipython3",
   "version": "3.12.4"
  }
 },
 "nbformat": 4,
 "nbformat_minor": 5
}
