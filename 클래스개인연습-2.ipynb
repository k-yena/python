{
 "cells": [
  {
   "cell_type": "code",
   "execution_count": 11,
   "id": "021d96d9-883d-4e87-a098-51e0d9f21cd6",
   "metadata": {},
   "outputs": [],
   "source": [
    "class Student:\n",
    "    def __init__(self,name):\n",
    "        self.name=name\n",
    "    def std(self):\n",
    "        print(f'{self.name}학생은 공부를 한다.')\n",
    "    def eat(self, bab):\n",
    "        print(f'{self.name}가 {bab}을 먹는다.')"
   ]
  },
  {
   "cell_type": "code",
   "execution_count": 12,
   "id": "ae85318b-ccd3-4588-9500-a5048d49aac6",
   "metadata": {},
   "outputs": [],
   "source": [
    "class Money:\n",
    "    def __init__(self, bab):\n",
    "        self.bab=bab"
   ]
  },
  {
   "cell_type": "code",
   "execution_count": 13,
   "id": "a57dc0e7-2c4e-4a15-a8cb-3c03c5981a54",
   "metadata": {},
   "outputs": [],
   "source": [
    "kang=Student(\"yena\")"
   ]
  },
  {
   "cell_type": "code",
   "execution_count": 14,
   "id": "4598489b-5e9c-47a5-81f7-bf8a01a779f0",
   "metadata": {},
   "outputs": [],
   "source": [
    "et=Money(\"한식\")"
   ]
  },
  {
   "cell_type": "code",
   "execution_count": 15,
   "id": "b93797de-1255-49bd-ba5d-3dc68cc7718e",
   "metadata": {},
   "outputs": [
    {
     "data": {
      "text/plain": [
       "'한식'"
      ]
     },
     "execution_count": 15,
     "metadata": {},
     "output_type": "execute_result"
    }
   ],
   "source": [
    "et.bab"
   ]
  },
  {
   "cell_type": "code",
   "execution_count": 16,
   "id": "89cf86a9-7d10-45bf-b702-2f391ab34c43",
   "metadata": {},
   "outputs": [
    {
     "name": "stdout",
     "output_type": "stream",
     "text": [
      "yena가 한식을 먹는다.\n"
     ]
    }
   ],
   "source": [
    "kang.eat(et.bab)"
   ]
  },
  {
   "cell_type": "code",
   "execution_count": null,
   "id": "cad3bded-3353-4cab-8aab-07ff68b76247",
   "metadata": {},
   "outputs": [],
   "source": []
  }
 ],
 "metadata": {
  "kernelspec": {
   "display_name": "Python 3 (ipykernel)",
   "language": "python",
   "name": "python3"
  },
  "language_info": {
   "codemirror_mode": {
    "name": "ipython",
    "version": 3
   },
   "file_extension": ".py",
   "mimetype": "text/x-python",
   "name": "python",
   "nbconvert_exporter": "python",
   "pygments_lexer": "ipython3",
   "version": "3.12.4"
  }
 },
 "nbformat": 4,
 "nbformat_minor": 5
}
