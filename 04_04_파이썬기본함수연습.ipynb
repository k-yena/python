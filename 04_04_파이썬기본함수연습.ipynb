{
 "cells": [
  {
   "cell_type": "code",
   "execution_count": 1,
   "id": "5d537485-97a6-4cae-ad1d-6fa021bf87fd",
   "metadata": {},
   "outputs": [
    {
     "data": {
      "text/plain": [
       "1"
      ]
     },
     "execution_count": 1,
     "metadata": {},
     "output_type": "execute_result"
    }
   ],
   "source": [
    "min([50,1,100,300,2,7,55])"
   ]
  },
  {
   "cell_type": "code",
   "execution_count": 2,
   "id": "14548477-a567-485c-87eb-4a1f0fb8db65",
   "metadata": {},
   "outputs": [
    {
     "data": {
      "text/plain": [
       "300"
      ]
     },
     "execution_count": 2,
     "metadata": {},
     "output_type": "execute_result"
    }
   ],
   "source": [
    "max([50,1,100,300,2,7,55])"
   ]
  },
  {
   "cell_type": "code",
   "execution_count": 3,
   "id": "f2dc8641-20a9-4675-8436-c111ad8258e8",
   "metadata": {},
   "outputs": [
    {
     "data": {
      "text/plain": [
       "14"
      ]
     },
     "execution_count": 3,
     "metadata": {},
     "output_type": "execute_result"
    }
   ],
   "source": [
    "sum([3,4,7])"
   ]
  },
  {
   "cell_type": "code",
   "execution_count": 5,
   "id": "13778416-0544-4185-bb3e-8ed08a93c35b",
   "metadata": {},
   "outputs": [
    {
     "data": {
      "text/plain": [
       "[1, 2, 7, 50, 55, 100, 300]"
      ]
     },
     "execution_count": 5,
     "metadata": {},
     "output_type": "execute_result"
    }
   ],
   "source": [
    "sorted([50,1,100,300,2,7,55])"
   ]
  },
  {
   "cell_type": "code",
   "execution_count": 6,
   "id": "9ad417dc-c34c-4409-adb3-d738cda98644",
   "metadata": {},
   "outputs": [],
   "source": [
    "li1=[50,1,100,300,2,7,55]"
   ]
  },
  {
   "cell_type": "code",
   "execution_count": 8,
   "id": "027663c3-eb89-4408-bc27-91ad3005de3a",
   "metadata": {},
   "outputs": [
    {
     "data": {
      "text/plain": [
       "list"
      ]
     },
     "execution_count": 8,
     "metadata": {},
     "output_type": "execute_result"
    }
   ],
   "source": [
    "type(li1)"
   ]
  },
  {
   "cell_type": "code",
   "execution_count": 9,
   "id": "79731e2c-d777-43cd-b163-194e80b681cf",
   "metadata": {},
   "outputs": [],
   "source": [
    "li1.sort()"
   ]
  },
  {
   "cell_type": "code",
   "execution_count": 10,
   "id": "ec916c51-9469-4de5-b4f8-07b5070fec02",
   "metadata": {},
   "outputs": [
    {
     "data": {
      "text/plain": [
       "[1, 2, 7, 50, 55, 100, 300]"
      ]
     },
     "execution_count": 10,
     "metadata": {},
     "output_type": "execute_result"
    }
   ],
   "source": [
    "li1"
   ]
  },
  {
   "cell_type": "code",
   "execution_count": 15,
   "id": "5f0d27a3-6763-4589-b5e1-949dcc0f0398",
   "metadata": {},
   "outputs": [
    {
     "data": {
      "text/plain": [
       "<list_reverseiterator at 0x1dc936d5bd0>"
      ]
     },
     "execution_count": 15,
     "metadata": {},
     "output_type": "execute_result"
    }
   ],
   "source": [
    "reversed([1,2,3,4,5])"
   ]
  },
  {
   "cell_type": "code",
   "execution_count": 16,
   "id": "f2f525a1-18f5-4e79-8d18-45237272e993",
   "metadata": {},
   "outputs": [
    {
     "data": {
      "text/plain": [
       "[5, 4, 3, 2, 1]"
      ]
     },
     "execution_count": 16,
     "metadata": {},
     "output_type": "execute_result"
    }
   ],
   "source": [
    "list(reversed([1,2,3,4,5]))"
   ]
  },
  {
   "cell_type": "code",
   "execution_count": 17,
   "id": "e2d7b2b3-b280-42d8-a3f8-95d47fca4bd4",
   "metadata": {},
   "outputs": [],
   "source": [
    "li2=list(reversed([1,2,3,4,5]))"
   ]
  },
  {
   "cell_type": "code",
   "execution_count": 18,
   "id": "6b12db6a-6a2d-49cd-809e-73a69bad89bd",
   "metadata": {},
   "outputs": [
    {
     "name": "stdout",
     "output_type": "stream",
     "text": [
      "5\n",
      "4\n",
      "3\n",
      "2\n",
      "1\n"
     ]
    }
   ],
   "source": [
    "for i in li2:\n",
    "    print(i)"
   ]
  },
  {
   "cell_type": "code",
   "execution_count": null,
   "id": "c2f72146-f4d5-4908-9a58-96af8696555a",
   "metadata": {},
   "outputs": [],
   "source": [
    "# enumerate 열거하다, 열거하면 순서(인덱스) 개념이 생김"
   ]
  },
  {
   "cell_type": "code",
   "execution_count": 21,
   "id": "26d29629-749f-4fad-b1f6-e082c9120d2b",
   "metadata": {},
   "outputs": [
    {
     "data": {
      "text/plain": [
       "<enumerate at 0x1dc9425fe20>"
      ]
     },
     "execution_count": 21,
     "metadata": {},
     "output_type": "execute_result"
    }
   ],
   "source": [
    "enumerate([\"apple\", \"banana\", \"candy\"])"
   ]
  },
  {
   "cell_type": "code",
   "execution_count": 22,
   "id": "24ca567e-7cb0-47f6-93cd-838162b8b9a4",
   "metadata": {},
   "outputs": [
    {
     "data": {
      "text/plain": [
       "enumerate"
      ]
     },
     "execution_count": 22,
     "metadata": {},
     "output_type": "execute_result"
    }
   ],
   "source": [
    "type(enumerate([\"apple\", \"banana\", \"candy\"]))"
   ]
  },
  {
   "cell_type": "code",
   "execution_count": 23,
   "id": "b5aa6b00-8525-409f-bc45-4f5555be0b70",
   "metadata": {},
   "outputs": [
    {
     "name": "stdout",
     "output_type": "stream",
     "text": [
      "(0, 'apple')\n",
      "(1, 'banana')\n",
      "(2, 'candy')\n"
     ]
    }
   ],
   "source": [
    "for i in enumerate([\"apple\", \"banana\", \"candy\"]):\n",
    "    print(i)"
   ]
  },
  {
   "cell_type": "code",
   "execution_count": 24,
   "id": "b7b6243a-dee0-482f-93f3-0bca4715894c",
   "metadata": {},
   "outputs": [
    {
     "name": "stdout",
     "output_type": "stream",
     "text": [
      "0 apple\n",
      "1 banana\n",
      "2 candy\n"
     ]
    }
   ],
   "source": [
    "for idx,v in enumerate([\"apple\", \"banana\", \"candy\"]):\n",
    "    print(idx,v)"
   ]
  },
  {
   "cell_type": "code",
   "execution_count": 25,
   "id": "004a60da-fbb7-4402-ba63-569d40f7c378",
   "metadata": {},
   "outputs": [
    {
     "name": "stdout",
     "output_type": "stream",
     "text": [
      "0번째 값이 apple(이)다\n",
      "1번째 값이 banana(이)다\n",
      "2번째 값이 candy(이)다\n"
     ]
    }
   ],
   "source": [
    "for idx,v in enumerate([\"apple\", \"banana\", \"candy\"]):\n",
    "    print(f\"{idx}번째 값이 {v}(이)다\")"
   ]
  },
  {
   "cell_type": "code",
   "execution_count": 27,
   "id": "43f269ee-483f-40af-af5a-4729ae146001",
   "metadata": {},
   "outputs": [
    {
     "name": "stdout",
     "output_type": "stream",
     "text": [
      "0 봄\n",
      "1 여름\n",
      "2 가을\n",
      "3 겨울\n"
     ]
    }
   ],
   "source": [
    "for idx, v in enumerate([\"봄\",\"여름\",\"가을\",\"겨울\"]):\n",
    "    print(idx,v)"
   ]
  },
  {
   "cell_type": "code",
   "execution_count": 28,
   "id": "2cc0d4ee-e96a-4157-ba6e-0f408dcdf5b7",
   "metadata": {},
   "outputs": [
    {
     "data": {
      "text/plain": [
       "1"
      ]
     },
     "execution_count": 28,
     "metadata": {},
     "output_type": "execute_result"
    }
   ],
   "source": [
    "min([100,82,45,33,1])"
   ]
  },
  {
   "cell_type": "code",
   "execution_count": 29,
   "id": "5e6c2861-0b9d-4201-a7f0-f93165e7d134",
   "metadata": {},
   "outputs": [
    {
     "data": {
      "text/plain": [
       "100"
      ]
     },
     "execution_count": 29,
     "metadata": {},
     "output_type": "execute_result"
    }
   ],
   "source": [
    "max([100,82,45,33,1])"
   ]
  },
  {
   "cell_type": "code",
   "execution_count": 30,
   "id": "15a49729-2f00-407d-97a1-0e4baa5e39c9",
   "metadata": {},
   "outputs": [
    {
     "data": {
      "text/plain": [
       "[1, 33, 45, 82, 100]"
      ]
     },
     "execution_count": 30,
     "metadata": {},
     "output_type": "execute_result"
    }
   ],
   "source": [
    "sorted([100,82,45,33,1])"
   ]
  },
  {
   "cell_type": "code",
   "execution_count": 31,
   "id": "09e284af-5563-45b0-8466-35167a699cae",
   "metadata": {},
   "outputs": [
    {
     "name": "stdout",
     "output_type": "stream",
     "text": [
      "1\n",
      "33\n",
      "45\n",
      "82\n",
      "100\n"
     ]
    }
   ],
   "source": [
    "for i in sorted([100,82,45,33,1]):\n",
    "    print(i)"
   ]
  },
  {
   "cell_type": "code",
   "execution_count": 34,
   "id": "dea37c9d-7c63-4bff-b9a5-dd7a3716c32d",
   "metadata": {},
   "outputs": [
    {
     "name": "stdout",
     "output_type": "stream",
     "text": [
      "9\n",
      "7\n",
      "6\n",
      "5\n",
      "1\n"
     ]
    }
   ],
   "source": [
    "for i in reversed([1,5,6,7,9]):\n",
    "    print(i)"
   ]
  },
  {
   "cell_type": "code",
   "execution_count": 35,
   "id": "f8fa8ea7-e9b2-4462-9cad-53dcc036f34c",
   "metadata": {},
   "outputs": [
    {
     "data": {
      "text/plain": [
       "[5, 4, 3, 2, 1]"
      ]
     },
     "execution_count": 35,
     "metadata": {},
     "output_type": "execute_result"
    }
   ],
   "source": [
    "list(reversed([1,2,3,4,5]))"
   ]
  },
  {
   "cell_type": "code",
   "execution_count": 37,
   "id": "35d52665-317b-40c6-bba2-8e878c9f639d",
   "metadata": {},
   "outputs": [],
   "source": [
    "rev=reversed([1,2,3,4,5])"
   ]
  },
  {
   "cell_type": "code",
   "execution_count": 38,
   "id": "436c592f-0a5f-4c8b-9b40-cef1116e1794",
   "metadata": {},
   "outputs": [
    {
     "data": {
      "text/plain": [
       "5"
      ]
     },
     "execution_count": 38,
     "metadata": {},
     "output_type": "execute_result"
    }
   ],
   "source": [
    "next(rev)"
   ]
  },
  {
   "cell_type": "code",
   "execution_count": 39,
   "id": "b6d92004-db7b-4219-8fe1-0f6ffd704b8d",
   "metadata": {},
   "outputs": [
    {
     "name": "stdout",
     "output_type": "stream",
     "text": [
      "Help on built-in function next in module builtins:\n",
      "\n",
      "next(...)\n",
      "    Return the next item from the iterator.\n",
      "\n",
      "    If default is given and the iterator is exhausted,\n",
      "    it is returned instead of raising StopIteration.\n",
      "\n"
     ]
    }
   ],
   "source": [
    "help(next)"
   ]
  },
  {
   "cell_type": "code",
   "execution_count": 40,
   "id": "0e872a2c-2b15-4edc-ba43-875a8c2d1045",
   "metadata": {},
   "outputs": [],
   "source": [
    "# 리스트 내포 : 한줄에 리스트로 표현해라"
   ]
  },
  {
   "cell_type": "code",
   "execution_count": null,
   "id": "0fbad3c3-f2d7-441d-9819-6576d54b2323",
   "metadata": {},
   "outputs": [],
   "source": [
    "# iterable : 문자열,리스트,튜플,딕셔너리"
   ]
  },
  {
   "cell_type": "code",
   "execution_count": null,
   "id": "954bc483-1484-4904-8d04-9d4f64dfcd71",
   "metadata": {},
   "outputs": [],
   "source": [
    "# [i 표현형태 for i in iterable]"
   ]
  },
  {
   "cell_type": "code",
   "execution_count": 41,
   "id": "9f94d7d7-3e5f-4d56-a084-372c7be60f37",
   "metadata": {},
   "outputs": [],
   "source": [
    "# 반복문 한줄에 쳐야할 때"
   ]
  },
  {
   "cell_type": "code",
   "execution_count": 42,
   "id": "6463ca9a-8747-45bb-b3e2-539f28e0e667",
   "metadata": {},
   "outputs": [
    {
     "name": "stdout",
     "output_type": "stream",
     "text": [
      "1\n",
      "2\n",
      "3\n"
     ]
    }
   ],
   "source": [
    "for i in [1,2,3]:\n",
    "    print(i)"
   ]
  },
  {
   "cell_type": "code",
   "execution_count": 43,
   "id": "c2f71722-59bc-49ce-9ebe-d4c578914d58",
   "metadata": {},
   "outputs": [
    {
     "data": {
      "text/plain": [
       "[1, 2, 3]"
      ]
     },
     "execution_count": 43,
     "metadata": {},
     "output_type": "execute_result"
    }
   ],
   "source": [
    "[ i for i in [1,2,3]]"
   ]
  },
  {
   "cell_type": "code",
   "execution_count": 44,
   "id": "c731ba39-3ade-4d08-a02b-1b4bd876f8a6",
   "metadata": {},
   "outputs": [
    {
     "data": {
      "text/plain": [
       "[2, 4, 6]"
      ]
     },
     "execution_count": 44,
     "metadata": {},
     "output_type": "execute_result"
    }
   ],
   "source": [
    "[ i*2 for i in [1,2,3]]"
   ]
  },
  {
   "cell_type": "code",
   "execution_count": 45,
   "id": "a0c4f754-2790-46f7-9929-61544935dacd",
   "metadata": {},
   "outputs": [
    {
     "data": {
      "text/plain": [
       "[0.5, 1.0, 1.5]"
      ]
     },
     "execution_count": 45,
     "metadata": {},
     "output_type": "execute_result"
    }
   ],
   "source": [
    "[ i/2 for i in [1,2,3]]"
   ]
  },
  {
   "cell_type": "code",
   "execution_count": 46,
   "id": "d0331ec8-1cbe-4a27-bb40-65cc0c10e873",
   "metadata": {},
   "outputs": [],
   "source": [
    "li3 = [ i/2 for i in [1,2,3]]"
   ]
  },
  {
   "cell_type": "code",
   "execution_count": 47,
   "id": "8f08fab5-2019-42ed-970e-a04403a7c0af",
   "metadata": {},
   "outputs": [
    {
     "data": {
      "text/plain": [
       "[0.5, 1.0, 1.5]"
      ]
     },
     "execution_count": 47,
     "metadata": {},
     "output_type": "execute_result"
    }
   ],
   "source": [
    "li3"
   ]
  },
  {
   "cell_type": "code",
   "execution_count": 48,
   "id": "ab8c9e85-25bd-4dee-a7e0-05e4df2d6e5b",
   "metadata": {},
   "outputs": [
    {
     "name": "stdout",
     "output_type": "stream",
     "text": [
      "2\n",
      "4\n",
      "6\n",
      "8\n",
      "10\n"
     ]
    }
   ],
   "source": [
    "for i in range(1,10+1):\n",
    "    if i%2 == 0:\n",
    "        print(i)"
   ]
  },
  {
   "cell_type": "code",
   "execution_count": 49,
   "id": "8d14e6d4-fe52-43ec-8deb-66cfe9f4924a",
   "metadata": {},
   "outputs": [
    {
     "data": {
      "text/plain": [
       "[2, 4, 6, 8, 10]"
      ]
     },
     "execution_count": 49,
     "metadata": {},
     "output_type": "execute_result"
    }
   ],
   "source": [
    "[i**2 for i in range(1,10+1) if i%2 == 0]"
   ]
  },
  {
   "cell_type": "code",
   "execution_count": 50,
   "id": "bdf990e1-4493-4b0d-bef6-2fb454d62e25",
   "metadata": {},
   "outputs": [
    {
     "data": {
      "text/plain": [
       "'안녕\\n점심\\n맛있게\\n드셨습니까'"
      ]
     },
     "execution_count": 50,
     "metadata": {},
     "output_type": "execute_result"
    }
   ],
   "source": [
    "'''안녕\n",
    "점심\n",
    "맛있게\n",
    "드셨습니까'''"
   ]
  },
  {
   "cell_type": "code",
   "execution_count": 51,
   "id": "6adc2bce-8f0f-4dde-93c4-b71c2f0dfbbf",
   "metadata": {},
   "outputs": [
    {
     "name": "stdout",
     "output_type": "stream",
     "text": [
      "안녕\n",
      "점심\n",
      "맛있게\n",
      "드셨습니까\n"
     ]
    }
   ],
   "source": [
    "print('''안녕\n",
    "점심\n",
    "맛있게\n",
    "드셨습니까''')"
   ]
  },
  {
   "cell_type": "code",
   "execution_count": 52,
   "id": "a30d49ea-4148-4277-a728-b676dc1e9bd5",
   "metadata": {},
   "outputs": [],
   "source": [
    "he2=(\"안녕\"\n",
    "\"점심\"\n",
    "\"맛있게\"\n",
    "\"드셨습니까\")"
   ]
  },
  {
   "cell_type": "code",
   "execution_count": 53,
   "id": "d178c1fd-9a7c-42d5-b13b-393f913a3ff1",
   "metadata": {},
   "outputs": [
    {
     "data": {
      "text/plain": [
       "'안녕점심맛있게드셨습니까'"
      ]
     },
     "execution_count": 53,
     "metadata": {},
     "output_type": "execute_result"
    }
   ],
   "source": [
    "he2"
   ]
  },
  {
   "cell_type": "code",
   "execution_count": 54,
   "id": "7dc60a2c-a431-4000-b104-9c1831aea34a",
   "metadata": {},
   "outputs": [],
   "source": [
    "# 문자열 함수"
   ]
  },
  {
   "cell_type": "code",
   "execution_count": 57,
   "id": "3434e0ce-aade-4b07-87ce-192b21130b75",
   "metadata": {},
   "outputs": [
    {
     "data": {
      "text/plain": [
       "['안녕', '점심', '맛있게', '드셨습니까']"
      ]
     },
     "execution_count": 57,
     "metadata": {},
     "output_type": "execute_result"
    }
   ],
   "source": [
    "\"안녕 점심 맛있게 드셨습니까\".split()"
   ]
  },
  {
   "cell_type": "code",
   "execution_count": 58,
   "id": "7022f0bc-97db-42ed-b6a8-8e3faf0fb042",
   "metadata": {},
   "outputs": [
    {
     "name": "stdout",
     "output_type": "stream",
     "text": [
      "안녕\n",
      "점심\n",
      "맛있게\n",
      "드셨습니까\n"
     ]
    }
   ],
   "source": [
    "for i in \"안녕 점심 맛있게 드셨습니까\".split():\n",
    "    print(i)"
   ]
  },
  {
   "cell_type": "code",
   "execution_count": 60,
   "id": "7db26400-da74-4159-8213-760d5762099f",
   "metadata": {},
   "outputs": [
    {
     "name": "stdout",
     "output_type": "stream",
     "text": [
      "안녕\n",
      "점심\n",
      "맛있게\n",
      "드셨습니까\n"
     ]
    }
   ],
   "source": [
    "for i in \"안녕,점심,맛있게,드셨습니까\".split(','):\n",
    "    print(i)"
   ]
  },
  {
   "cell_type": "code",
   "execution_count": 61,
   "id": "1bfd9176-204a-4e0e-9eb3-8769f6287614",
   "metadata": {},
   "outputs": [
    {
     "name": "stdout",
     "output_type": "stream",
     "text": [
      "안녕\n",
      "점심\n",
      "맛있게\n",
      "드셨습니까\n"
     ]
    }
   ],
   "source": [
    "for i in \"안녕/점심/맛있게/드셨습니까\".split('/'):\n",
    "    print(i)"
   ]
  },
  {
   "cell_type": "code",
   "execution_count": 62,
   "id": "92cf9d0e-e343-4015-878a-569e03a1119b",
   "metadata": {},
   "outputs": [
    {
     "data": {
      "text/plain": [
       "['안녕', '점심', '맛있게', '드셨습니까']"
      ]
     },
     "execution_count": 62,
     "metadata": {},
     "output_type": "execute_result"
    }
   ],
   "source": [
    "[i for i in \"안녕/점심/맛있게/드셨습니까\".split('/')]"
   ]
  },
  {
   "cell_type": "code",
   "execution_count": 63,
   "id": "d4d2a3ca-3e16-4acb-b398-487f4038d112",
   "metadata": {},
   "outputs": [],
   "source": [
    "li5=[i for i in \"안녕/점심/맛있게/드셨습니까\".split('/')]"
   ]
  },
  {
   "cell_type": "code",
   "execution_count": 64,
   "id": "f4876d24-a01a-4d96-8f74-acded6246487",
   "metadata": {},
   "outputs": [],
   "source": [
    "# 안녕*점심*맛있게*드셨습니까"
   ]
  },
  {
   "cell_type": "code",
   "execution_count": 65,
   "id": "8e749151-f8e6-4e97-ac26-8b95815f3ca1",
   "metadata": {},
   "outputs": [
    {
     "data": {
      "text/plain": [
       "'안녕점심맛있게드셨습니까'"
      ]
     },
     "execution_count": 65,
     "metadata": {},
     "output_type": "execute_result"
    }
   ],
   "source": [
    "\"\".join(li5)"
   ]
  },
  {
   "cell_type": "code",
   "execution_count": 66,
   "id": "159268e1-2654-472a-8b02-6a2e562ac7a6",
   "metadata": {},
   "outputs": [
    {
     "data": {
      "text/plain": [
       "'안녕 점심 맛있게 드셨습니까'"
      ]
     },
     "execution_count": 66,
     "metadata": {},
     "output_type": "execute_result"
    }
   ],
   "source": [
    "\" \".join(li5)"
   ]
  },
  {
   "cell_type": "code",
   "execution_count": 73,
   "id": "70ed6209-f01a-4301-807d-087005fc0d04",
   "metadata": {},
   "outputs": [
    {
     "name": "stdout",
     "output_type": "stream",
     "text": [
      "난\n",
      "너무\n",
      "졸리다\n"
     ]
    }
   ],
   "source": [
    "for i in \"난 너무 졸리다\".split():\n",
    "    print(i)"
   ]
  },
  {
   "cell_type": "code",
   "execution_count": 74,
   "id": "36cd78c0-e190-46ef-ba85-42c63dd13713",
   "metadata": {},
   "outputs": [
    {
     "name": "stdout",
     "output_type": "stream",
     "text": [
      "난\n",
      " \n",
      "너\n",
      "무\n",
      " \n",
      "졸\n",
      "리\n",
      "다\n"
     ]
    }
   ],
   "source": [
    "for i in \"난 너무 졸리다\".strip():\n",
    "    print(i)"
   ]
  },
  {
   "cell_type": "code",
   "execution_count": 75,
   "id": "79f5b068-ff57-4698-a2dc-2befee7ee888",
   "metadata": {},
   "outputs": [
    {
     "data": {
      "text/plain": [
       "['난', ' ', '너', '무', ' ', '졸', '리', '다']"
      ]
     },
     "execution_count": 75,
     "metadata": {},
     "output_type": "execute_result"
    }
   ],
   "source": [
    "[i for i in \"난 너무 졸리다\".strip()]"
   ]
  },
  {
   "cell_type": "code",
   "execution_count": 76,
   "id": "545b941e-e284-4fb2-8b00-a47f7c2ca525",
   "metadata": {},
   "outputs": [
    {
     "data": {
      "text/plain": [
       "['난', '너무', '졸리다']"
      ]
     },
     "execution_count": 76,
     "metadata": {},
     "output_type": "execute_result"
    }
   ],
   "source": [
    "[i for i in \"난 너무 졸리다\".split()]"
   ]
  },
  {
   "cell_type": "code",
   "execution_count": null,
   "id": "d8ea635a-e44d-46cb-a4cb-d0db2e2f6c37",
   "metadata": {},
   "outputs": [],
   "source": []
  }
 ],
 "metadata": {
  "kernelspec": {
   "display_name": "Python 3 (ipykernel)",
   "language": "python",
   "name": "python3"
  },
  "language_info": {
   "codemirror_mode": {
    "name": "ipython",
    "version": 3
   },
   "file_extension": ".py",
   "mimetype": "text/x-python",
   "name": "python",
   "nbconvert_exporter": "python",
   "pygments_lexer": "ipython3",
   "version": "3.12.4"
  }
 },
 "nbformat": 4,
 "nbformat_minor": 5
}
