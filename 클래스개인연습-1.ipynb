{
 "cells": [
  {
   "cell_type": "code",
   "execution_count": 1,
   "id": "f48c7c62-e5aa-4346-bc69-deac70931bfd",
   "metadata": {},
   "outputs": [],
   "source": [
    "class Calculator:\n",
    "    def __init__(self):\n",
    "        self.num1=0\n",
    "        self.num2=0\n",
    "    def add(self,num1,num2):\n",
    "        self.num1=num1\n",
    "        self.num2=num2\n",
    "        return self.num1+self.num2"
   ]
  },
  {
   "cell_type": "code",
   "execution_count": 2,
   "id": "2b55863a-6d8f-44e0-a233-0b86bd5cbeb3",
   "metadata": {},
   "outputs": [],
   "source": [
    "mycalc=Calculator()"
   ]
  },
  {
   "cell_type": "code",
   "execution_count": 3,
   "id": "699757ef-4aa8-4de5-8c56-ac6135a32e60",
   "metadata": {},
   "outputs": [
    {
     "data": {
      "text/plain": [
       "0"
      ]
     },
     "execution_count": 3,
     "metadata": {},
     "output_type": "execute_result"
    }
   ],
   "source": [
    "mycalc.num1"
   ]
  },
  {
   "cell_type": "code",
   "execution_count": 4,
   "id": "2e161fc1-3b17-4523-af5a-0e481c6a6fe5",
   "metadata": {},
   "outputs": [],
   "source": [
    "result=mycalc.add(10,5)"
   ]
  },
  {
   "cell_type": "code",
   "execution_count": 5,
   "id": "b5b3a4be-6a1e-4cde-9c0e-e6b98f62cb4d",
   "metadata": {},
   "outputs": [
    {
     "data": {
      "text/plain": [
       "15"
      ]
     },
     "execution_count": 5,
     "metadata": {},
     "output_type": "execute_result"
    }
   ],
   "source": [
    "result"
   ]
  },
  {
   "cell_type": "code",
   "execution_count": 24,
   "id": "dbbe0958-1a6a-4a55-914b-289a8c6ae844",
   "metadata": {},
   "outputs": [],
   "source": [
    "class Student:\n",
    "    def __init__(self,name, age):\n",
    "        self.name=name\n",
    "        self.age=age\n",
    "    def std(self):\n",
    "        print(f'{self.name}+{self.age}')"
   ]
  },
  {
   "cell_type": "code",
   "execution_count": 28,
   "id": "411362cc-f87b-49a4-892c-c810ab4f8317",
   "metadata": {},
   "outputs": [],
   "source": [
    "st = Student(\"yena\",10)"
   ]
  },
  {
   "cell_type": "code",
   "execution_count": 31,
   "id": "e026a071-9209-4639-901e-5e207d64e9d8",
   "metadata": {},
   "outputs": [
    {
     "name": "stdout",
     "output_type": "stream",
     "text": [
      "yena+10\n"
     ]
    }
   ],
   "source": [
    "st.std()"
   ]
  },
  {
   "cell_type": "code",
   "execution_count": null,
   "id": "a22909b1-800a-4e54-a2a6-48fe7e2bb00f",
   "metadata": {},
   "outputs": [],
   "source": []
  }
 ],
 "metadata": {
  "kernelspec": {
   "display_name": "Python 3 (ipykernel)",
   "language": "python",
   "name": "python3"
  },
  "language_info": {
   "codemirror_mode": {
    "name": "ipython",
    "version": 3
   },
   "file_extension": ".py",
   "mimetype": "text/x-python",
   "name": "python",
   "nbconvert_exporter": "python",
   "pygments_lexer": "ipython3",
   "version": "3.12.4"
  }
 },
 "nbformat": 4,
 "nbformat_minor": 5
}
