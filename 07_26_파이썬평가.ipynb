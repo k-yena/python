{
 "cells": [
  {
   "cell_type": "code",
   "execution_count": 87,
   "id": "85da340a-b91d-4171-995f-12fbc76f9968",
   "metadata": {},
   "outputs": [],
   "source": [
    "def f1():\n",
    "    num1 = 5  # num1은 지역변수(local variable)\n",
    "    print(num1)"
   ]
  },
  {
   "cell_type": "code",
   "execution_count": 88,
   "id": "c23156a4-1b05-4407-a625-fd3f3d4807dc",
   "metadata": {},
   "outputs": [
    {
     "name": "stdout",
     "output_type": "stream",
     "text": [
      "5\n"
     ]
    }
   ],
   "source": [
    "f1()"
   ]
  },
  {
   "cell_type": "code",
   "execution_count": 92,
   "id": "7ccbc107-6a29-4af0-9758-3e7bd708001d",
   "metadata": {},
   "outputs": [],
   "source": [
    "a = 3 \n",
    "def f1():\n",
    "    num1 = 8  # num1은 지역변수(local variable)\n",
    "    print(num1)"
   ]
  },
  {
   "cell_type": "code",
   "execution_count": 93,
   "id": "894daf6a-2525-408b-a6de-71d22da77079",
   "metadata": {},
   "outputs": [
    {
     "data": {
      "text/plain": [
       "3"
      ]
     },
     "execution_count": 93,
     "metadata": {},
     "output_type": "execute_result"
    }
   ],
   "source": [
    "a"
   ]
  },
  {
   "cell_type": "code",
   "execution_count": 94,
   "id": "05e6e64e-0fba-44d7-bd6b-d210526acd25",
   "metadata": {},
   "outputs": [
    {
     "name": "stdout",
     "output_type": "stream",
     "text": [
      "8\n"
     ]
    }
   ],
   "source": [
    "f1()"
   ]
  },
  {
   "cell_type": "code",
   "execution_count": 95,
   "id": "9debe7e7-8e17-4eae-926e-b7d3f4e3c828",
   "metadata": {},
   "outputs": [],
   "source": [
    "def test(k):\n",
    "    print(\"Input is\",k)"
   ]
  },
  {
   "cell_type": "code",
   "execution_count": 96,
   "id": "3dfe5f6c-bf3a-47cc-8175-f1738372e947",
   "metadata": {},
   "outputs": [
    {
     "name": "stdout",
     "output_type": "stream",
     "text": [
      "Input is uu\n"
     ]
    }
   ],
   "source": [
    "test(\"uu\")"
   ]
  },
  {
   "cell_type": "code",
   "execution_count": 97,
   "id": "1088c847-28ee-4984-9a42-1da395e509c0",
   "metadata": {},
   "outputs": [],
   "source": [
    "k=100"
   ]
  },
  {
   "cell_type": "code",
   "execution_count": 98,
   "id": "3a7e0ef3-fff7-4036-bb51-9a00cb597a34",
   "metadata": {},
   "outputs": [
    {
     "name": "stdout",
     "output_type": "stream",
     "text": [
      "Input is 100\n"
     ]
    }
   ],
   "source": [
    "test(k)"
   ]
  },
  {
   "cell_type": "code",
   "execution_count": 106,
   "id": "21292a53-9997-4cf6-8e14-dabbf8286734",
   "metadata": {},
   "outputs": [],
   "source": [
    "def counter(*args):\n",
    "    count = len(args)\n",
    "    return count"
   ]
  },
  {
   "cell_type": "code",
   "execution_count": 107,
   "id": "66925732-97d8-4151-bf07-5a5e8d5d690a",
   "metadata": {},
   "outputs": [],
   "source": [
    "result=counter()"
   ]
  },
  {
   "cell_type": "code",
   "execution_count": 108,
   "id": "652cee62-e69c-424c-9a2d-b07291eb7754",
   "metadata": {},
   "outputs": [
    {
     "data": {
      "text/plain": [
       "0"
      ]
     },
     "execution_count": 108,
     "metadata": {},
     "output_type": "execute_result"
    }
   ],
   "source": [
    "result"
   ]
  },
  {
   "cell_type": "code",
   "execution_count": 109,
   "id": "85ea396d-9c7e-487a-93a8-91e46cd98dda",
   "metadata": {},
   "outputs": [],
   "source": [
    "result=counter([])"
   ]
  },
  {
   "cell_type": "code",
   "execution_count": 110,
   "id": "021eae4a-66f0-43cc-b1e8-821cf8b4313f",
   "metadata": {},
   "outputs": [
    {
     "data": {
      "text/plain": [
       "1"
      ]
     },
     "execution_count": 110,
     "metadata": {},
     "output_type": "execute_result"
    }
   ],
   "source": [
    "result"
   ]
  },
  {
   "cell_type": "code",
   "execution_count": 111,
   "id": "364a9d4f-8ab7-4ff5-a2cd-b785c26fd0d5",
   "metadata": {},
   "outputs": [],
   "source": [
    "result2=counter([5])"
   ]
  },
  {
   "cell_type": "code",
   "execution_count": 112,
   "id": "d9f7b791-c7f8-4cac-a01f-cc580d9d618d",
   "metadata": {},
   "outputs": [
    {
     "data": {
      "text/plain": [
       "1"
      ]
     },
     "execution_count": 112,
     "metadata": {},
     "output_type": "execute_result"
    }
   ],
   "source": [
    "result2"
   ]
  },
  {
   "cell_type": "code",
   "execution_count": 115,
   "id": "bdd19e72-77ac-4be0-a24b-8ea01f0eea65",
   "metadata": {},
   "outputs": [],
   "source": [
    "result3=counter([5,4],9)"
   ]
  },
  {
   "cell_type": "code",
   "execution_count": 116,
   "id": "7435f3c2-0e13-4ed6-96d2-0a170020496e",
   "metadata": {},
   "outputs": [
    {
     "data": {
      "text/plain": [
       "2"
      ]
     },
     "execution_count": 116,
     "metadata": {},
     "output_type": "execute_result"
    }
   ],
   "source": [
    "result3"
   ]
  },
  {
   "cell_type": "code",
   "execution_count": 119,
   "id": "5ddb6e0b-146a-49c7-94e3-d162f9461443",
   "metadata": {},
   "outputs": [],
   "source": [
    "result3=counter([5,4],[9],[5],[6])"
   ]
  },
  {
   "cell_type": "code",
   "execution_count": 118,
   "id": "93a4648f-64d4-4049-ae0a-7569fcc2a15d",
   "metadata": {},
   "outputs": [
    {
     "data": {
      "text/plain": [
       "4"
      ]
     },
     "execution_count": 118,
     "metadata": {},
     "output_type": "execute_result"
    }
   ],
   "source": [
    "result3"
   ]
  },
  {
   "cell_type": "code",
   "execution_count": 120,
   "id": "096c6868-5d15-49d4-b69a-173987d6bab7",
   "metadata": {},
   "outputs": [],
   "source": [
    "def f(x):\n",
    "    y=x\n",
    "    x=7\n",
    "    return y*x   "
   ]
  },
  {
   "cell_type": "code",
   "execution_count": 121,
   "id": "0f8fe5e8-c196-4500-8b16-446460f26f06",
   "metadata": {},
   "outputs": [
    {
     "name": "stdout",
     "output_type": "stream",
     "text": [
      "21\n"
     ]
    }
   ],
   "source": [
    "print(f(3))"
   ]
  },
  {
   "cell_type": "code",
   "execution_count": 126,
   "id": "ec7dfcb4-7e8e-4bf4-ad62-7b515cf62c28",
   "metadata": {},
   "outputs": [],
   "source": [
    "x=4"
   ]
  },
  {
   "cell_type": "code",
   "execution_count": 127,
   "id": "5d3a77af-7256-4d1f-aaa6-76c93da6339c",
   "metadata": {},
   "outputs": [
    {
     "name": "stdout",
     "output_type": "stream",
     "text": [
      "4\n"
     ]
    }
   ],
   "source": [
    "print(x)"
   ]
  },
  {
   "cell_type": "code",
   "execution_count": null,
   "id": "52b84d21-925e-41fb-a5b9-ddc62d60306d",
   "metadata": {},
   "outputs": [],
   "source": []
  }
 ],
 "metadata": {
  "kernelspec": {
   "display_name": "Python 3 (ipykernel)",
   "language": "python",
   "name": "python3"
  },
  "language_info": {
   "codemirror_mode": {
    "name": "ipython",
    "version": 3
   },
   "file_extension": ".py",
   "mimetype": "text/x-python",
   "name": "python",
   "nbconvert_exporter": "python",
   "pygments_lexer": "ipython3",
   "version": "3.12.4"
  }
 },
 "nbformat": 4,
 "nbformat_minor": 5
}
