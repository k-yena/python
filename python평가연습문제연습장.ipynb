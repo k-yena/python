{
 "cells": [
  {
   "cell_type": "code",
   "execution_count": 1,
   "id": "e40440aa-a7b8-4227-8011-84976138d00d",
   "metadata": {},
   "outputs": [
    {
     "name": "stdout",
     "output_type": "stream",
     "text": [
      "dict_values([90, 85, 83, 90])\n"
     ]
    }
   ],
   "source": [
    "score_dict = {'Kim' : 80, 'Lee' : 85, 'Ahn' : 83, 'Choi' : 90}\n",
    "first_key = list(score_dict.keys())[0]\n",
    "score_dict[first_key] = 90\n",
    "print(score_dict.values())"
   ]
  },
  {
   "cell_type": "code",
   "execution_count": 2,
   "id": "909d609c-55dc-40ab-bf70-69bcf93f3dc6",
   "metadata": {},
   "outputs": [
    {
     "name": "stdout",
     "output_type": "stream",
     "text": [
      "deque(['a', 'b', 'c'])\n"
     ]
    }
   ],
   "source": [
    "from collections import deque\n",
    "deque_list = deque(['a', 'b', 'c'])\n",
    "deque_list = deque(['a', 'b', 'c'])\n",
    "print(deque_list)"
   ]
  },
  {
   "cell_type": "code",
   "execution_count": 6,
   "id": "e2839d96-cee4-4798-a7a7-47624afbfe43",
   "metadata": {},
   "outputs": [
    {
     "name": "stdout",
     "output_type": "stream",
     "text": [
      "3\n",
      "Counter({' ': 4, 'l': 3, 'o': 3, 't': 2, 'h': 2, 'i': 2, 's': 2, 'H': 1, 'e': 1, ',': 1, 'p': 1, 'y': 1, 'n': 1, 'w': 1, 'r': 1, 'd': 1, '!': 1})\n"
     ]
    }
   ],
   "source": [
    "from collections import Counter\n",
    "text = 'Hello, this is python world!'\n",
    "c = Counter(text)\n",
    "print(c['l'])\n",
    "print(c)"
   ]
  },
  {
   "cell_type": "code",
   "execution_count": 7,
   "id": "7f7364f6-39d7-4c47-ac4c-f386b76724bb",
   "metadata": {},
   "outputs": [
    {
     "name": "stdout",
     "output_type": "stream",
     "text": [
      "{'a': 1, 'b': 5, 'c': 5, 'd': 5}\n"
     ]
    }
   ],
   "source": [
    "dictionary = {\"a\": 1, \"b\": 2, \"c\": 3}\n",
    "dictionary.setdefault( 'b', 4 ) \n",
    "dictionary.setdefault( 'd', 5 ) \n",
    "dictionary[\"c\"]  = dictionary[\"d\"]\n",
    "dictionary[\"b\"] = dictionary[\"c\"]\n",
    "dictionary[\"d\"]  = dictionary[\"b\"]\n",
    "print(dictionary)"
   ]
  },
  {
   "cell_type": "code",
   "execution_count": 8,
   "id": "8a31dfd4-2315-4c39-9a9b-bad0ebf1fa37",
   "metadata": {},
   "outputs": [
    {
     "name": "stdout",
     "output_type": "stream",
     "text": [
      "6\n"
     ]
    }
   ],
   "source": [
    "box = [1,'red',3,(),[ ],None]\n",
    "print(len(box))"
   ]
  },
  {
   "cell_type": "code",
   "execution_count": 14,
   "id": "f03f4385-168e-464c-a9a0-74ea19b7821a",
   "metadata": {},
   "outputs": [
    {
     "name": "stdout",
     "output_type": "stream",
     "text": [
      "['orange', 'banana', 'cherry', 'strawberry']\n"
     ]
    }
   ],
   "source": [
    "fruits = ['apple','banana','cherry','strawberry']\n",
    "fruits[0] = 'orange'\n",
    "print(fruits)"
   ]
  },
  {
   "cell_type": "code",
   "execution_count": 44,
   "id": "5981d13b-a8be-4f7b-88d9-251f835d53a5",
   "metadata": {},
   "outputs": [],
   "source": [
    "def get_abbr(data_list):\n",
    "     result = []\n",
    "     for x in data_list:\n",
    "         result.append(x[:3])\n",
    "     return result"
   ]
  },
  {
   "cell_type": "code",
   "execution_count": 45,
   "id": "28f7072b-ac31-44f7-9bd3-d898e483f905",
   "metadata": {},
   "outputs": [],
   "source": [
    "ab=get_abbr(['Seoul', 'Anyang', 'Incheon', 'Jeju'])"
   ]
  },
  {
   "cell_type": "code",
   "execution_count": 46,
   "id": "77aaa5e8-c10b-4f9b-b064-f47735a67b0f",
   "metadata": {},
   "outputs": [
    {
     "data": {
      "text/plain": [
       "['Seo', 'Any', 'Inc', 'Jej']"
      ]
     },
     "execution_count": 46,
     "metadata": {},
     "output_type": "execute_result"
    }
   ],
   "source": [
    "ab"
   ]
  },
  {
   "cell_type": "code",
   "execution_count": 69,
   "id": "8519aa14-acad-412b-89a0-cb0782d96462",
   "metadata": {},
   "outputs": [
    {
     "name": "stdout",
     "output_type": "stream",
     "text": [
      "22\n"
     ]
    }
   ],
   "source": [
    "a = int()\n",
    "midterm_set = set([1, 5, 7, 4, 3, 2, 1, 1, 2, 3])\n",
    "for i in midterm_set:\n",
    "    a = a+i\n",
    "print(a)"
   ]
  },
  {
   "cell_type": "code",
   "execution_count": 70,
   "id": "6d456e61-16f9-4e3b-ba3c-5851f411d088",
   "metadata": {},
   "outputs": [
    {
     "name": "stdout",
     "output_type": "stream",
     "text": [
      "[(0, 'pen'), (1, 'pencil'), (2, 'sharp')]\n"
     ]
    }
   ],
   "source": [
    "mylist = ['pen' ,'pencil', 'sharp']\n",
    "result = list(enumerate(mylist)) \n",
    "print(result)"
   ]
  },
  {
   "cell_type": "code",
   "execution_count": 71,
   "id": "dd31b705-1524-4733-9970-40ea4a7564ba",
   "metadata": {},
   "outputs": [
    {
     "name": "stdout",
     "output_type": "stream",
     "text": [
      "orange&pink&brown&black&white&yellow\n"
     ]
    }
   ],
   "source": [
    "colors = ['orange', 'pink', 'brown', 'black', 'white', 'yellow']\n",
    "result = '&'.join(colors)\n",
    "print(result)"
   ]
  },
  {
   "cell_type": "code",
   "execution_count": 72,
   "id": "cb5ad6da-4f97-4788-a81a-4ce4978b0593",
   "metadata": {},
   "outputs": [
    {
     "name": "stdout",
     "output_type": "stream",
     "text": [
      "score: 77\n"
     ]
    }
   ],
   "source": [
    "kor_score = [70, 79, 80, 90, 80] \n",
    "math_score = [42, 80, 30, 50, 90] \n",
    "eng_score = [53, 77, 50, 70, 55]\n",
    "midterm_score = [kor_score, math_score, eng_score]\n",
    "print (\"score:\",midterm_score[2][1])"
   ]
  },
  {
   "cell_type": "code",
   "execution_count": 73,
   "id": "0e24f6d1-1dde-4eb3-80e7-9d027fc97bc4",
   "metadata": {},
   "outputs": [
    {
     "name": "stdout",
     "output_type": "stream",
     "text": [
      "{'students': 0, 'superuser': 1, 'professor': 2, 'employee': 3}\n"
     ]
    }
   ],
   "source": [
    "user_dict = {}\n",
    "user_list = [\"students\",\"superuser\", \"professor\", \"employee\"]\n",
    "user_dict = {value_2 : value_1 for value_1, value_2 in enumerate(user_list)}\n",
    "print(user_dict)"
   ]
  },
  {
   "cell_type": "code",
   "execution_count": 74,
   "id": "cc352abe-2f1d-4957-9fe0-d0133c658666",
   "metadata": {},
   "outputs": [
    {
     "name": "stdout",
     "output_type": "stream",
     "text": [
      "80\n"
     ]
    }
   ],
   "source": [
    "alphabet = [\"a\", \"b\", \"c\", \"d\", \"e\", \"f\", \"g\", \"h\"]\n",
    "nums = [i for i in range(20)]\n",
    "answer = [alpha+str(num) for alpha in alphabet for num in nums if num%2 == 0]\n",
    "print(len(answer))"
   ]
  },
  {
   "cell_type": "code",
   "execution_count": 75,
   "id": "fd8ec2ed-2883-4c75-ae3c-1af8bf32b6f4",
   "metadata": {},
   "outputs": [],
   "source": [
    "name = \"Hanbit University\" "
   ]
  },
  {
   "cell_type": "code",
   "execution_count": 76,
   "id": "aeac9f32-be31-435e-b98c-13a3cebd3654",
   "metadata": {},
   "outputs": [],
   "source": [
    "split_name=name.split()"
   ]
  },
  {
   "cell_type": "code",
   "execution_count": 78,
   "id": "938231b5-6166-4ff0-a788-e6386661df44",
   "metadata": {},
   "outputs": [
    {
     "data": {
      "text/plain": [
       "'University'"
      ]
     },
     "execution_count": 78,
     "metadata": {},
     "output_type": "execute_result"
    }
   ],
   "source": [
    "split_name[1]"
   ]
  },
  {
   "cell_type": "code",
   "execution_count": 86,
   "id": "210ecbc0-7377-4a1e-b205-49ce0ae40455",
   "metadata": {},
   "outputs": [],
   "source": [
    "student = [\"Hong\", \"Gil\", \"Dong\"] "
   ]
  },
  {
   "cell_type": "code",
   "execution_count": 88,
   "id": "fd529b85-f7c1-4e49-b663-b4d48dd28931",
   "metadata": {},
   "outputs": [
    {
     "ename": "SyntaxError",
     "evalue": "invalid syntax (1977299397.py, line 1)",
     "output_type": "error",
     "traceback": [
      "\u001b[1;36m  Cell \u001b[1;32mIn[88], line 1\u001b[1;36m\u001b[0m\n\u001b[1;33m    help(.join)\u001b[0m\n\u001b[1;37m         ^\u001b[0m\n\u001b[1;31mSyntaxError\u001b[0m\u001b[1;31m:\u001b[0m invalid syntax\n"
     ]
    }
   ],
   "source": []
  },
  {
   "cell_type": "code",
   "execution_count": 89,
   "id": "100ea762-d78a-4f60-8e07-80e766377412",
   "metadata": {},
   "outputs": [],
   "source": [
    "result = [i for i in range(10) if i%2 == 0]"
   ]
  },
  {
   "cell_type": "code",
   "execution_count": 90,
   "id": "9b8339cb-8b47-461c-a28b-916216ab7bfd",
   "metadata": {},
   "outputs": [
    {
     "name": "stdout",
     "output_type": "stream",
     "text": [
      "[0, 2, 4, 6, 8]\n"
     ]
    }
   ],
   "source": [
    "print(result)"
   ]
  },
  {
   "cell_type": "code",
   "execution_count": 91,
   "id": "be025d69-26a6-4088-8e64-f139759d8e15",
   "metadata": {},
   "outputs": [],
   "source": [
    "items = 'zero one two three'.split(\"two\")"
   ]
  },
  {
   "cell_type": "code",
   "execution_count": 92,
   "id": "ed91467d-7c54-4c9d-a2cf-ad6484963740",
   "metadata": {},
   "outputs": [],
   "source": [
    "result =[i for i in range(10)]"
   ]
  },
  {
   "cell_type": "code",
   "execution_count": 93,
   "id": "478b8ba6-db12-41dd-b68f-2e2e3b242142",
   "metadata": {},
   "outputs": [
    {
     "name": "stdout",
     "output_type": "stream",
     "text": [
      "[0, 1, 2, 3, 4, 5, 6, 7, 8, 9]\n"
     ]
    }
   ],
   "source": [
    "print(result)"
   ]
  },
  {
   "cell_type": "code",
   "execution_count": 94,
   "id": "80e090b9-a5b1-4605-9ef4-8a9ee48e600d",
   "metadata": {},
   "outputs": [],
   "source": [
    "items ='zero one two three'.split()"
   ]
  },
  {
   "cell_type": "code",
   "execution_count": 95,
   "id": "ecbc491a-549c-428c-9e2b-ffaf44334af5",
   "metadata": {},
   "outputs": [
    {
     "name": "stdout",
     "output_type": "stream",
     "text": [
      "['zero', 'one', 'two', 'three']\n"
     ]
    }
   ],
   "source": [
    "print(items)"
   ]
  },
  {
   "cell_type": "code",
   "execution_count": 96,
   "id": "c9e8a639-4e23-4976-9bcd-cb83349f0398",
   "metadata": {},
   "outputs": [],
   "source": [
    "example = 'cs50.gachon.edu'"
   ]
  },
  {
   "cell_type": "code",
   "execution_count": 97,
   "id": "533e267b-5c2e-45da-9c22-00309aec6b90",
   "metadata": {},
   "outputs": [],
   "source": [
    "subdomain, domain, tld = example.split('.')"
   ]
  },
  {
   "cell_type": "code",
   "execution_count": 98,
   "id": "99943877-be43-4b9d-951a-7b686cc988fa",
   "metadata": {},
   "outputs": [
    {
     "name": "stdout",
     "output_type": "stream",
     "text": [
      "cs50\n"
     ]
    }
   ],
   "source": [
    "print(subdomain)"
   ]
  },
  {
   "cell_type": "code",
   "execution_count": 99,
   "id": "5218c96e-77d7-4287-97c8-9254049a1613",
   "metadata": {},
   "outputs": [],
   "source": [
    "dog_song = \"my dog has brown eyes, my dog is cute\""
   ]
  },
  {
   "cell_type": "code",
   "execution_count": 100,
   "id": "ef814cf3-0822-434c-a7b9-def850fe7941",
   "metadata": {},
   "outputs": [],
   "source": [
    "week = ['mon', 'tue', 'wed', 'thu', 'fri', 'sat', 'sun']\n",
    "rainbow = ['red', 'orange', 'yellow', 'green', 'blue', 'navy', 'purple']\n",
    "list_data = [week, rainbow]"
   ]
  },
  {
   "cell_type": "code",
   "execution_count": 101,
   "id": "f07f6e9a-9d44-422d-8757-ad76c8a56eef",
   "metadata": {},
   "outputs": [
    {
     "name": "stdout",
     "output_type": "stream",
     "text": [
      "fri\n"
     ]
    }
   ],
   "source": [
    "print(list_data[0][4])"
   ]
  },
  {
   "cell_type": "code",
   "execution_count": 102,
   "id": "490eda19-6692-4d52-8e1a-356a65060b66",
   "metadata": {},
   "outputs": [
    {
     "name": "stdout",
     "output_type": "stream",
     "text": [
      "[[12, 3], [15, 3]]\n"
     ]
    }
   ],
   "source": [
    "a = [1, 2, 3]\n",
    "b= [4, 5, ]\n",
    "c= [7, 8, 9]\n",
    "print([[sum(k), len(k)] for k in zip(a, b, c)])"
   ]
  },
  {
   "cell_type": "code",
   "execution_count": 113,
   "id": "20f41d7c-3bad-4fd2-b1b9-5cdb400c1264",
   "metadata": {},
   "outputs": [],
   "source": [
    "class Bit(object):\n",
    "    def __init__(self):\n",
    "        self.__password = 5678\n",
    "    def set_password(self, new_pw):\n",
    "        self.__password = new_pw\n",
    "        print('Password changed')        \n",
    "    def get_password(self):\n",
    "        print('Your password is :', self.__password)        "
   ]
  },
  {
   "cell_type": "code",
   "execution_count": 114,
   "id": "88f9cc70-81d0-4cf4-9873-3c630ccac4fa",
   "metadata": {},
   "outputs": [
    {
     "data": {
      "text/plain": [
       "<__main__.Bit at 0x153432ba990>"
      ]
     },
     "execution_count": 114,
     "metadata": {},
     "output_type": "execute_result"
    }
   ],
   "source": [
    "Bit()"
   ]
  },
  {
   "cell_type": "code",
   "execution_count": 115,
   "id": "e1ccaeee-f07d-4564-bbc4-be9209ab1a03",
   "metadata": {},
   "outputs": [],
   "source": [
    "coin=Bit()"
   ]
  },
  {
   "cell_type": "code",
   "execution_count": 116,
   "id": "ea673708-072e-47ec-bfa8-d7aff93c8fcd",
   "metadata": {},
   "outputs": [
    {
     "name": "stdout",
     "output_type": "stream",
     "text": [
      "Your password is : 5678\n"
     ]
    }
   ],
   "source": [
    "coin.get_password()"
   ]
  },
  {
   "cell_type": "code",
   "execution_count": 118,
   "id": "402bdcb8-7bc4-4689-b49d-52b257da77bc",
   "metadata": {},
   "outputs": [
    {
     "name": "stdout",
     "output_type": "stream",
     "text": [
      "Password changed\n"
     ]
    }
   ],
   "source": [
    "coin.set_password(1234)"
   ]
  },
  {
   "cell_type": "code",
   "execution_count": 119,
   "id": "a822b650-5584-479f-9ffd-dfac9f3fc3ac",
   "metadata": {},
   "outputs": [
    {
     "ename": "AttributeError",
     "evalue": "'Bit' object has no attribute '__password'",
     "output_type": "error",
     "traceback": [
      "\u001b[1;31m---------------------------------------------------------------------------\u001b[0m",
      "\u001b[1;31mAttributeError\u001b[0m                            Traceback (most recent call last)",
      "Cell \u001b[1;32mIn[119], line 1\u001b[0m\n\u001b[1;32m----> 1\u001b[0m \u001b[38;5;28mprint\u001b[39m(coin\u001b[38;5;241m.\u001b[39m__password)\n",
      "\u001b[1;31mAttributeError\u001b[0m: 'Bit' object has no attribute '__password'"
     ]
    }
   ],
   "source": [
    "print(coin.__password)"
   ]
  },
  {
   "cell_type": "code",
   "execution_count": 128,
   "id": "dee09996-c1df-44d0-a663-398500d369d7",
   "metadata": {},
   "outputs": [],
   "source": [
    "class Company:\n",
    "    def __init__(self):\n",
    "        self.work = True\n",
    "        self.name = 'Jane'\n",
    "        self.gender = 'woman'\n",
    "        \n",
    "    def retire(self):\n",
    "        self.work = False\n",
    "\n",
    "class Employee(Company):\n",
    "    def __init__(self, name, gender):\n",
    "        super().__init__()\n",
    "        self.name = name\n",
    "        self.gender = gender\n",
    "        \n",
    "    def introduce(self):\n",
    "        if self.work == True:\n",
    "            print('I got a job at a company')\n",
    "            print('My name is', self.name)\n",
    "            print('I am a', self.gender)\n",
    "        if self.work == False:\n",
    "            print('I left the company')"
   ]
  },
  {
   "cell_type": "code",
   "execution_count": 129,
   "id": "2bfadaf1-b7b5-4ae3-bbab-70d902da9249",
   "metadata": {},
   "outputs": [],
   "source": [
    "em=Employee('james','man')"
   ]
  },
  {
   "cell_type": "code",
   "execution_count": 134,
   "id": "3199dcf6-6ebf-4073-857f-2a584cc836d3",
   "metadata": {},
   "outputs": [],
   "source": [
    "em.retire()"
   ]
  },
  {
   "cell_type": "code",
   "execution_count": 135,
   "id": "46027d36-2446-49ed-9edd-0539351d5de4",
   "metadata": {},
   "outputs": [
    {
     "name": "stdout",
     "output_type": "stream",
     "text": [
      "I left the company\n"
     ]
    }
   ],
   "source": [
    "em.introduce()"
   ]
  },
  {
   "cell_type": "code",
   "execution_count": 136,
   "id": "24688996-5634-44a5-8559-8d9ccb4597de",
   "metadata": {},
   "outputs": [
    {
     "name": "stdout",
     "output_type": "stream",
     "text": [
      "I got a job at a company\n",
      "My name is james\n",
      "I am a man\n"
     ]
    }
   ],
   "source": [
    "Employee('james', 'man').introduce()"
   ]
  },
  {
   "cell_type": "code",
   "execution_count": 138,
   "id": "87aec874-3fed-4356-a574-1af7ae410ac1",
   "metadata": {},
   "outputs": [
    {
     "ename": "SyntaxError",
     "evalue": "incomplete input (963642973.py, line 21)",
     "output_type": "error",
     "traceback": [
      "\u001b[1;36m  Cell \u001b[1;32mIn[138], line 21\u001b[1;36m\u001b[0m\n\u001b[1;33m    print(groot.language(language[idx])\u001b[0m\n\u001b[1;37m                                       ^\u001b[0m\n\u001b[1;31mSyntaxError\u001b[0m\u001b[1;31m:\u001b[0m incomplete input\n"
     ]
    }
   ],
   "source": [
    "class Person(object):\n",
    "    def __init__(self, name): \n",
    "        self.name = name\n",
    "def language(self): \n",
    "    pass\n",
    "class Earthling(Person):\n",
    "    def language(self, language): \n",
    "        return language\n",
    "class Groot(Person):\n",
    "    def language(self, language): \n",
    "        return \"I'm Groot!\"\n",
    "name = ['Hanbit', 'Dr.Strange', 'Groot']\n",
    "country = ['Korea', 'USA', 'Galaxy']\n",
    "language = ['Korean', 'English', 'Groot']\n",
    "for idx, name in enumerate(name):\n",
    "    if country[idx].upper() != 'GALAXY': \n",
    "        person = Earthling(name) \n",
    "        print(person.language(language[idx]))\n",
    "    else:\n",
    "        groot = Groot(name) \n",
    "        print(groot.language(language[idx])"
   ]
  },
  {
   "cell_type": "code",
   "execution_count": 139,
   "id": "acedb91b-bc11-4bde-853c-1dfc4dbee95c",
   "metadata": {},
   "outputs": [
    {
     "name": "stdout",
     "output_type": "stream",
     "text": [
      "현재 선수의 등번호는: 10\n"
     ]
    }
   ],
   "source": [
    "class SoccerPlayer(object):\n",
    "    def __init__(self, name, position, back_number): \n",
    "        self.name = name\n",
    "        self.position = position \n",
    "        self.back_number = back_number\n",
    "    def change_back_number(self, back_number):\n",
    "        self.back_number = back_number\n",
    "jinhyun = SoccerPlayer(\"jinhyun\", \"MF\", 10) \n",
    "print(\"현재 선수의 등번호는:\", jinhyun.back_number) \n",
    "jinhyun.change_back_number(5)"
   ]
  },
  {
   "cell_type": "code",
   "execution_count": 140,
   "id": "8350a691-e4ef-4904-8d99-859a324fd37f",
   "metadata": {},
   "outputs": [],
   "source": [
    "class Class(object):\n",
    "    def __init__(self, name, score): \n",
    "        self.name = name \n",
    "        self.score = score\n",
    "class Math(Class): \n",
    "    def say():\n",
    "        print(\"힘내\")"
   ]
  },
  {
   "cell_type": "code",
   "execution_count": 145,
   "id": "fb3061fc-0c63-4c42-a314-34f0c59542ae",
   "metadata": {},
   "outputs": [],
   "source": [
    "obj=Math(\"yena\",100)"
   ]
  },
  {
   "cell_type": "code",
   "execution_count": 144,
   "id": "fcecd648-560c-4da2-acb9-c525444461c1",
   "metadata": {},
   "outputs": [
    {
     "ename": "TypeError",
     "evalue": "Class.__init__() missing 1 required positional argument: 'score'",
     "output_type": "error",
     "traceback": [
      "\u001b[1;31m---------------------------------------------------------------------------\u001b[0m",
      "\u001b[1;31mTypeError\u001b[0m                                 Traceback (most recent call last)",
      "Cell \u001b[1;32mIn[144], line 1\u001b[0m\n\u001b[1;32m----> 1\u001b[0m math\u001b[38;5;241m=\u001b[39mMath(Class)\n",
      "\u001b[1;31mTypeError\u001b[0m: Class.__init__() missing 1 required positional argument: 'score'"
     ]
    }
   ],
   "source": [
    "obj."
   ]
  },
  {
   "cell_type": "code",
   "execution_count": 146,
   "id": "4110f8cd-1a6e-4496-9f15-6e2470aa165d",
   "metadata": {},
   "outputs": [
    {
     "name": "stdout",
     "output_type": "stream",
     "text": [
      "My name is Thanos and my weapon is infinity gauntlet.\n"
     ]
    }
   ],
   "source": [
    "class Marvel(object):\n",
    "    def __init__(self, name, characteristic): \n",
    "        self.name = name\n",
    "        self.characteristic = characteristic \n",
    "    def __str__(self):\n",
    "         return \"My name is {0} and my weapon is {1}.\".format(\n",
    "             self.name, self. characteristic)\n",
    "class Villain(Marvel):\n",
    "    pass\n",
    "first_villain = Villain(\"Thanos\", \"infinity gauntlet\") \n",
    "print(first_villain)"
   ]
  },
  {
   "cell_type": "code",
   "execution_count": 147,
   "id": "4475ae03-e646-46a6-8fb0-168e96b67df3",
   "metadata": {},
   "outputs": [
    {
     "name": "stdout",
     "output_type": "stream",
     "text": [
      "LG에서 만든 2022년형 32인치 TV\n",
      "Samsung에서 만든 2023년형 15인치 노트북\n"
     ]
    }
   ],
   "source": [
    "class TV(object):\n",
    "    def __init__(self, size, year, company): \n",
    "        self.size = size\n",
    "        self.year = year \n",
    "        self.company = company\n",
    "    def describe(self):\n",
    "        print(self.company + \"에서 만든 \" + self.year + \"년형 \" \\\n",
    "              + self.size + \"인치 \" + \"TV\")\n",
    "class Laptop(TV):\n",
    "    def describe(self):\n",
    "        print(self.company + \"에서 만든 \" + self.year + \"년형 \" \\\n",
    "               + self.size + \"인치 \" + \"노트북\")\n",
    "LG_TV = TV(\"32\", \"2022\", \"LG\")\n",
    "LG_TV.describe()\n",
    "samsung_microwave = Laptop(\"15\" , \"2023\", \"Samsung\")\n",
    "samsung_microwave.describe()"
   ]
  },
  {
   "cell_type": "code",
   "execution_count": 148,
   "id": "7fb5754f-0f39-4fe7-bbcd-ea161f3d4740",
   "metadata": {},
   "outputs": [
    {
     "name": "stdout",
     "output_type": "stream",
     "text": [
      "이름 : John\n",
      "나이 : 22\n",
      "직위 : 연구원\n",
      "저는 한빛대학교 연구원 John입니다. 나이는 22입니 다.\n",
      "저는 학사 입니다.\n",
      "==================================================\n",
      "이름 : Tedd\n",
      "나이 : 40\n",
      "직위 : 소장\n",
      "저는 한빛대학교 소장 Tedd입니다. 나이는 40입니 다.\n",
      "저는 박사 입니다.\n"
     ]
    }
   ],
   "source": [
    "class Person:\n",
    "    def __init__(self, name, age, position):\n",
    "        self.Name = name\n",
    "        self.Age = age \n",
    "        self.Position = position\n",
    "    def show_info(self):\n",
    "        print('이름 : {0}'.format(self.Name))\n",
    "        print('나이 : {0}'.format(self.Age))\n",
    "        print('직위 : {0}'.format(self.Position))\n",
    "        print(\"저는 한빛대학교 {0} {1}입니다. 나이는 {2}입니 다.\".format(\n",
    "               self.Position, self.Name, self.Age))\n",
    "class Researcher(Person):\n",
    "    def __init__(self, name, age, position, degree): \n",
    "        Person.__init__(self, name, age, position) \n",
    "        self.Degree = degree    \n",
    "    def show_info(self): \n",
    "        Person.show_info(self)\n",
    "        print(\"저는 {0} 입니다.\".format(self.Degree))\n",
    "if __name__ == '__main__':\n",
    "    researcher_john = Researcher(\"John\",\"22\", \"연구원\", \"학사\")\n",
    "    researcher_tedd = Researcher(\"Tedd\", \"40\", \"소장\", \"박사\") \n",
    "    researcher_john.show_info()\n",
    "    print(\"=\"*50) \n",
    "    researcher_tedd.show_info()"
   ]
  },
  {
   "cell_type": "code",
   "execution_count": 149,
   "id": "128a784d-b4fe-4555-bea1-589fcc638517",
   "metadata": {},
   "outputs": [
    {
     "name": "stdout",
     "output_type": "stream",
     "text": [
      "Mineral: 72\n"
     ]
    }
   ],
   "source": [
    "class Terran(object):\n",
    "    def __init__(self, mineral): \n",
    "        self.scv = 4\n",
    "        self.marine = 0\n",
    "        self.medic = 0 \n",
    "        self.mineral = mineral\n",
    "    def command(self, SCV=False): \n",
    "        self.mineral += 8*self.scv \n",
    "        if SCV:\n",
    "            self.scv += 1\n",
    "            self.mineral -= 10\n",
    "    def barrack(self, Marine=False, Medic=False): \n",
    "        self.mineral += 8*self.scv\n",
    "        if Marine:\n",
    "            self.marine += 1\n",
    "            self.mineral -= 15 \n",
    "        if Medic:\n",
    "            self.medic += 1\n",
    "            self.mineral -= 25 \n",
    "    def check_source(self):\n",
    "        print(\"Mineral: \"+str(self.mineral))\n",
    "User = Terran(50) \n",
    "User.command(True) \n",
    "User.barrack(True,True) \n",
    "User.check_source()\n"
   ]
  },
  {
   "cell_type": "code",
   "execution_count": 150,
   "id": "ad364f32-6460-4968-b50e-1e74f1a4e5c2",
   "metadata": {},
   "outputs": [
    {
     "name": "stdout",
     "output_type": "stream",
     "text": [
      "아이스크림을 레인보우 샤베트에서 바람과 함께 사라지다로 변경해주세요.\n",
      "아이스크림 맛을 바람과 함께 사라지다로 변경해드렸어요.\n"
     ]
    }
   ],
   "source": [
    "class IceCream(object):\n",
    "    def __init__(self, flavor):\n",
    "        self.flavor = flavor\n",
    "    def change_flavor(self, new_flavor):\n",
    "        print('아이스크림을 %s에서 %s로 변경해주세요.' %(self.flavor, \n",
    "new_flavor))\n",
    "        self.flavor = new_flavor\n",
    "        print('아이스크림 맛을 %s로 변경해드렸어요.' %self.flavor)\n",
    "ice_cream = IceCream('레인보우 샤베트')\n",
    "ice_cream.change_flavor('바람과 함께 사라지다')"
   ]
  },
  {
   "cell_type": "code",
   "execution_count": 157,
   "id": "cab97749-c1dd-4b78-837c-42eff5576371",
   "metadata": {},
   "outputs": [
    {
     "name": "stdout",
     "output_type": "stream",
     "text": [
      "module loaded\n"
     ]
    }
   ],
   "source": [
    "print(\"module loaded\")"
   ]
  },
  {
   "cell_type": "code",
   "execution_count": 156,
   "id": "ed651410-ac0a-42f4-8ce3-b624b3efb9fc",
   "metadata": {},
   "outputs": [
    {
     "name": "stdout",
     "output_type": "stream",
     "text": [
      "module run\n"
     ]
    }
   ],
   "source": [
    "if __name__ == '__main__':\n",
    "    print('module run')\n",
    "else:\n",
    "    print('module imported')"
   ]
  },
  {
   "cell_type": "code",
   "execution_count": 168,
   "id": "f6a4c2a4-61e8-4b58-a79d-e44c454c195c",
   "metadata": {},
   "outputs": [
    {
     "name": "stdin",
     "output_type": "stream",
     "text": [
      "사칙연산 프로그램:  5 * 4\n"
     ]
    },
    {
     "name": "stdout",
     "output_type": "stream",
     "text": [
      "실행 결과는 20\n"
     ]
    }
   ],
   "source": [
    "def sum_func(a, b):\n",
    "    return a + b\n",
    "def multiply_func(a,b):\n",
    "    return a * b\n",
    "def minus_func(a,b):\n",
    "    return a -b\n",
    "def devide_func(a,b):\n",
    "    return a / b\n",
    "\n",
    "\n",
    "user_input = input(\"사칙연산 프로그램: \").split(\" \")\n",
    "first_val , second_val = int(user_input [0]), int(user_input [2])\n",
    "fourcal = user_input[1]\n",
    "if fourcal == \"+\":\n",
    "    result = sum_func(first_val , second_val)\n",
    "elif fourcal == \"-\":\n",
    "    result = minus_func(first_val , second_val)\n",
    "elif fourcal == \"/\":\n",
    "    result =devide_func(first_val , second_val)\n",
    "else:\n",
    "    result =multiply_func(first_val , second_val)\n",
    "print(\"실행 결과는\", result)\n"
   ]
  },
  {
   "cell_type": "code",
   "execution_count": null,
   "id": "1d4fd68c-d660-4ead-b1c5-e5adc94d51ba",
   "metadata": {},
   "outputs": [],
   "source": []
  }
 ],
 "metadata": {
  "kernelspec": {
   "display_name": "Python 3 (ipykernel)",
   "language": "python",
   "name": "python3"
  },
  "language_info": {
   "codemirror_mode": {
    "name": "ipython",
    "version": 3
   },
   "file_extension": ".py",
   "mimetype": "text/x-python",
   "name": "python",
   "nbconvert_exporter": "python",
   "pygments_lexer": "ipython3",
   "version": "3.12.4"
  }
 },
 "nbformat": 4,
 "nbformat_minor": 5
}
