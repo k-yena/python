{
 "cells": [
  {
   "cell_type": "code",
   "execution_count": null,
   "metadata": {
    "id": "2G1yL8FyLUkJ"
   },
   "outputs": [],
   "source": [
    "# !pip install numpy 패키지명  # pip(파이썬 인덱스 패키지)"
   ]
  },
  {
   "cell_type": "code",
   "execution_count": 2,
   "metadata": {
    "colab": {
     "base_uri": "https://localhost:8080/"
    },
    "id": "D8rFjVGqK4Ia",
    "outputId": "58e946f3-5382-4921-c1c1-b7bd4afa9330"
   },
   "outputs": [
    {
     "name": "stdout",
     "output_type": "stream",
     "text": [
      "/content\n"
     ]
    }
   ],
   "source": [
    "!pwd"
   ]
  },
  {
   "cell_type": "code",
   "execution_count": 3,
   "metadata": {
    "colab": {
     "base_uri": "https://localhost:8080/"
    },
    "id": "-fagYLS4K_rB",
    "outputId": "70015f13-8768-474b-dc3b-21227f9651dc"
   },
   "outputs": [
    {
     "name": "stdout",
     "output_type": "stream",
     "text": [
      "/usr/include/boost/python/numpy\n",
      "/usr/include/boost/python/numpy/numpy_object_mgr_traits.hpp\n",
      "/usr/include/boost/python/numpy.hpp\n",
      "/usr/local/lib/python3.10/dist-packages/tensorflow/include/tsl/python/lib/core/numpy.h\n",
      "/usr/local/lib/python3.10/dist-packages/tensorflow/include/external/pybind11/include/pybind11/numpy.h\n",
      "/usr/local/lib/python3.10/dist-packages/tensorflow/include/external/pybind11/_virtual_includes/pybind11/pybind11/numpy.h\n",
      "/usr/local/lib/python3.10/dist-packages/tensorflow/include/external/local_config_python/numpy_include\n",
      "/usr/local/lib/python3.10/dist-packages/tensorflow/include/external/local_config_python/numpy_include/numpy\n",
      "/usr/local/lib/python3.10/dist-packages/tensorflow/include/external/local_config_python/numpy_include/numpy/numpyconfig.h\n",
      "/usr/local/lib/python3.10/dist-packages/tensorflow/include/tensorflow/tsl/python/lib/core/numpy.h\n",
      "/usr/local/lib/python3.10/dist-packages/tensorflow/dtensor/python/numpy_util.py\n",
      "/usr/local/lib/python3.10/dist-packages/tensorflow/dtensor/python/__pycache__/numpy_util.cpython-310.pyc\n",
      "/usr/local/lib/python3.10/dist-packages/tensorflow/python/distribute/numpy_dataset.py\n",
      "/usr/local/lib/python3.10/dist-packages/tensorflow/python/distribute/__pycache__/numpy_dataset.cpython-310.pyc\n",
      "/usr/local/lib/python3.10/dist-packages/tensorflow/python/ops/numpy_ops\n",
      "/usr/local/lib/python3.10/dist-packages/tensorflow/python/estimator/inputs/numpy_io.py\n",
      "/usr/local/lib/python3.10/dist-packages/tensorflow/python/estimator/inputs/__pycache__/numpy_io.cpython-310.pyc\n",
      "/usr/local/lib/python3.10/dist-packages/tensorflow/_api/v2/compat/v2/experimental/numpy\n",
      "/usr/local/lib/python3.10/dist-packages/tensorflow/_api/v2/experimental/numpy\n",
      "/usr/local/lib/python3.10/dist-packages/trax/fastmath/numpy.py\n",
      "/usr/local/lib/python3.10/dist-packages/trax/fastmath/__pycache__/numpy.cpython-310.pyc\n",
      "/usr/local/lib/python3.10/dist-packages/trax/tf_numpy/numpy\n",
      "/usr/local/lib/python3.10/dist-packages/trax/tf_numpy/numpy_impl\n",
      "/usr/local/lib/python3.10/dist-packages/numba/np/numpy_support.py\n",
      "/usr/local/lib/python3.10/dist-packages/numba/np/__pycache__/numpy_support.cpython-310.pyc\n",
      "/usr/local/lib/python3.10/dist-packages/numpy-1.26.4.dist-info\n",
      "/usr/local/lib/python3.10/dist-packages/numpy\n",
      "/usr/local/lib/python3.10/dist-packages/numpy/distutils/numpy_distribution.py\n",
      "/usr/local/lib/python3.10/dist-packages/numpy/distutils/__pycache__/numpy_distribution.cpython-310.pyc\n",
      "/usr/local/lib/python3.10/dist-packages/numpy/core/include/numpy\n",
      "/usr/local/lib/python3.10/dist-packages/numpy/core/include/numpy/numpyconfig.h\n",
      "/usr/local/lib/python3.10/dist-packages/numpy/core/tests/data/numpy_2_0_array.pkl\n",
      "/usr/local/lib/python3.10/dist-packages/sympy/codegen/__pycache__/numpy_nodes.cpython-310.pyc\n",
      "/usr/local/lib/python3.10/dist-packages/sympy/codegen/numpy_nodes.py\n",
      "/usr/local/lib/python3.10/dist-packages/sympy/printing/numpy.py\n",
      "/usr/local/lib/python3.10/dist-packages/sympy/printing/__pycache__/numpy.cpython-310.pyc\n",
      "/usr/local/lib/python3.10/dist-packages/torch/include/pybind11/numpy.h\n",
      "/usr/local/lib/python3.10/dist-packages/torch/include/torch/csrc/utils/numpy_stub.h\n",
      "/usr/local/lib/python3.10/dist-packages/torch/include/ATen/ops/numpy_T_compositeimplicitautograd_dispatch.h\n",
      "/usr/local/lib/python3.10/dist-packages/torch/include/ATen/ops/numpy_T.h\n",
      "/usr/local/lib/python3.10/dist-packages/torch/include/ATen/ops/numpy_T_ops.h\n",
      "/usr/local/lib/python3.10/dist-packages/torch/include/ATen/ops/numpy_T_native.h\n",
      "/usr/local/lib/python3.10/dist-packages/rpy2/robjects/numpy2ri.py\n",
      "/usr/local/lib/python3.10/dist-packages/rpy2/robjects/__pycache__/numpy2ri.cpython-310.pyc\n",
      "/usr/local/lib/python3.10/dist-packages/jax/numpy\n",
      "/usr/local/lib/python3.10/dist-packages/jax/_src/third_party/numpy\n",
      "/usr/local/lib/python3.10/dist-packages/jax/_src/numpy\n",
      "/usr/local/lib/python3.10/dist-packages/tensorflow_estimator/python/estimator/inputs/numpy_io.py\n",
      "/usr/local/lib/python3.10/dist-packages/tensorflow_estimator/python/estimator/inputs/__pycache__/numpy_io.cpython-310.pyc\n",
      "/usr/local/lib/python3.10/dist-packages/joblib/numpy_pickle_utils.py\n",
      "/usr/local/lib/python3.10/dist-packages/joblib/numpy_pickle.py\n",
      "/usr/local/lib/python3.10/dist-packages/joblib/__pycache__/numpy_pickle_utils.cpython-310.pyc\n",
      "/usr/local/lib/python3.10/dist-packages/joblib/__pycache__/numpy_pickle_compat.cpython-310.pyc\n",
      "/usr/local/lib/python3.10/dist-packages/joblib/__pycache__/numpy_pickle.cpython-310.pyc\n",
      "/usr/local/lib/python3.10/dist-packages/joblib/numpy_pickle_compat.py\n",
      "/usr/local/lib/python3.10/dist-packages/pyarrow/include/arrow/python/numpy_to_arrow.h\n",
      "/usr/local/lib/python3.10/dist-packages/pyarrow/include/arrow/python/numpy_convert.h\n",
      "/usr/local/lib/python3.10/dist-packages/pyarrow/include/arrow/python/numpy_interop.h\n",
      "/usr/local/lib/python3.10/dist-packages/pyarrow/src/arrow/python/numpy_internal.h\n",
      "/usr/local/lib/python3.10/dist-packages/pyarrow/src/arrow/python/numpy_convert.cc\n",
      "/usr/local/lib/python3.10/dist-packages/pyarrow/src/arrow/python/numpy_to_arrow.h\n",
      "/usr/local/lib/python3.10/dist-packages/pyarrow/src/arrow/python/numpy_to_arrow.cc\n",
      "/usr/local/lib/python3.10/dist-packages/pyarrow/src/arrow/python/numpy_convert.h\n",
      "/usr/local/lib/python3.10/dist-packages/pyarrow/src/arrow/python/numpy_interop.h\n",
      "/usr/local/lib/python3.10/dist-packages/tensorflow_probability/substrates/numpy\n",
      "/usr/local/lib/python3.10/dist-packages/tensorflow_probability/python/internal/backend/numpy\n",
      "/usr/local/lib/python3.10/dist-packages/tensorflow_probability/python/internal/backend/numpy/numpy_math.py\n",
      "/usr/local/lib/python3.10/dist-packages/tensorflow_probability/python/internal/backend/numpy/numpy_signal.py\n",
      "/usr/local/lib/python3.10/dist-packages/tensorflow_probability/python/internal/backend/numpy/numpy_keras.py\n",
      "/usr/local/lib/python3.10/dist-packages/tensorflow_probability/python/internal/backend/numpy/numpy_logging.py\n",
      "/usr/local/lib/python3.10/dist-packages/tensorflow_probability/python/internal/backend/numpy/numpy_array.py\n",
      "/usr/local/lib/python3.10/dist-packages/tensorflow_probability/python/internal/backend/numpy/__pycache__/numpy_signal.cpython-310.pyc\n",
      "/usr/local/lib/python3.10/dist-packages/tensorflow_probability/python/internal/backend/numpy/__pycache__/numpy_math.cpython-310.pyc\n",
      "/usr/local/lib/python3.10/dist-packages/tensorflow_probability/python/internal/backend/numpy/__pycache__/numpy_logging.cpython-310.pyc\n",
      "/usr/local/lib/python3.10/dist-packages/tensorflow_probability/python/internal/backend/numpy/__pycache__/numpy_array.cpython-310.pyc\n",
      "/usr/local/lib/python3.10/dist-packages/tensorflow_probability/python/internal/backend/numpy/__pycache__/numpy_keras.cpython-310.pyc\n",
      "/usr/local/lib/python3.10/dist-packages/tensorflow_probability/python/internal/backend/jax/numpy_math.py\n",
      "/usr/local/lib/python3.10/dist-packages/tensorflow_probability/python/internal/backend/jax/numpy_signal.py\n",
      "/usr/local/lib/python3.10/dist-packages/tensorflow_probability/python/internal/backend/jax/numpy_keras.py\n",
      "/usr/local/lib/python3.10/dist-packages/tensorflow_probability/python/internal/backend/jax/numpy_logging.py\n",
      "/usr/local/lib/python3.10/dist-packages/tensorflow_probability/python/internal/backend/jax/numpy_array.py\n",
      "/usr/local/lib/python3.10/dist-packages/tensorflow_probability/python/internal/backend/jax/__pycache__/numpy_signal.cpython-310.pyc\n",
      "/usr/local/lib/python3.10/dist-packages/tensorflow_probability/python/internal/backend/jax/__pycache__/numpy_math.cpython-310.pyc\n",
      "/usr/local/lib/python3.10/dist-packages/tensorflow_probability/python/internal/backend/jax/__pycache__/numpy_logging.cpython-310.pyc\n",
      "/usr/local/lib/python3.10/dist-packages/tensorflow_probability/python/internal/backend/jax/__pycache__/numpy_array.cpython-310.pyc\n",
      "/usr/local/lib/python3.10/dist-packages/tensorflow_probability/python/internal/backend/jax/__pycache__/numpy_keras.cpython-310.pyc\n",
      "/usr/local/lib/python3.10/dist-packages/tensorflow_probability/python/experimental/auto_batching/numpy_backend.py\n",
      "/usr/local/lib/python3.10/dist-packages/tensorflow_probability/python/experimental/auto_batching/__pycache__/numpy_backend.cpython-310.pyc\n",
      "/usr/local/lib/python3.10/dist-packages/pandas/compat/numpy\n",
      "/usr/local/lib/python3.10/dist-packages/pandas/tests/arrays/numpy_\n",
      "/usr/local/lib/python3.10/dist-packages/pandas/core/arrays/numpy_.py\n",
      "/usr/local/lib/python3.10/dist-packages/pandas/core/arrays/__pycache__/numpy_.cpython-310.pyc\n",
      "/usr/local/lib/python3.10/dist-packages/skimage/_vendored/numpy_lookfor.py\n",
      "/usr/local/lib/python3.10/dist-packages/skimage/_vendored/__pycache__/numpy_lookfor.cpython-310.pyc\n",
      "/usr/local/lib/python3.10/dist-packages/ml_dtypes/_src/numpy.h\n",
      "/usr/local/lib/python3.10/dist-packages/ml_dtypes/_src/numpy.cc\n",
      "/usr/local/lib/python3.10/dist-packages/numpy.libs\n",
      "/usr/local/lib/python3.10/dist-packages/scipy/_lib/array_api_compat/numpy\n",
      "/usr/local/lib/python3.10/dist-packages/gym/vector/utils/numpy_utils.py\n",
      "/usr/local/lib/python3.10/dist-packages/gym/vector/utils/__pycache__/numpy_utils.cpython-310.pyc\n",
      "/usr/local/lib/python3.10/dist-packages/docstring_parser/numpydoc.py\n",
      "/usr/local/lib/python3.10/dist-packages/docstring_parser/__pycache__/numpydoc.cpython-310.pyc\n",
      "/usr/local/lib/python3.10/dist-packages/etils/enp/numpy_utils.py\n",
      "/usr/local/lib/python3.10/dist-packages/etils/enp/__pycache__/numpy_utils.cpython-310.pyc\n",
      "/usr/local/lib/python3.10/dist-packages/safetensors/numpy.py\n",
      "/usr/local/lib/python3.10/dist-packages/safetensors/__pycache__/numpy.cpython-310.pyc\n",
      "/usr/local/lib/python3.10/dist-packages/osgeo_utils/auxiliary/numpy_util.py\n",
      "/usr/local/lib/python3.10/dist-packages/osgeo_utils/auxiliary/__pycache__/numpy_util.cpython-310.pyc\n",
      "/usr/local/lib/python3.10/dist-packages/thinc/backends/numpy_ops.pyx\n",
      "/usr/local/lib/python3.10/dist-packages/thinc/backends/numpy_ops.pxd\n",
      "/usr/local/lib/python3.10/dist-packages/thinc/backends/numpy_ops.cpython-310-x86_64-linux-gnu.so\n",
      "/usr/local/lib/python3.10/dist-packages/tensorflow_text/python/numpy\n",
      "/usr/local/lib/python3.10/dist-packages/pandas-stubs/core/arrays/numpy_.pyi\n"
     ]
    }
   ],
   "source": [
    "!find / -name 'numpy*'"
   ]
  },
  {
   "cell_type": "code",
   "execution_count": 1,
   "metadata": {
    "id": "M6rDsKzUJnRf"
   },
   "outputs": [],
   "source": [
    "import numpy"
   ]
  },
  {
   "cell_type": "code",
   "execution_count": 4,
   "metadata": {
    "id": "l2F3mkBAKkpD"
   },
   "outputs": [],
   "source": [
    "import numpy as np"
   ]
  },
  {
   "cell_type": "code",
   "execution_count": 7,
   "metadata": {
    "id": "iijHGJoSM0f5"
   },
   "outputs": [],
   "source": [
    "# help(np.array)"
   ]
  },
  {
   "cell_type": "code",
   "execution_count": null,
   "metadata": {
    "id": "UswgE5YlNhmH"
   },
   "outputs": [],
   "source": [
    "# np.array(1,2,3) # 오류남"
   ]
  },
  {
   "cell_type": "code",
   "execution_count": 35,
   "metadata": {
    "id": "4m7AMiL_M8ob"
   },
   "outputs": [],
   "source": [
    "arr1=np.array([1,2,3])  # 1차원은 리스트 1개로 사용 가능"
   ]
  },
  {
   "cell_type": "code",
   "execution_count": 36,
   "metadata": {
    "id": "IoHq8n6fN5OQ"
   },
   "outputs": [],
   "source": [
    "# nd --> n차원(d = dimension = 차원)"
   ]
  },
  {
   "cell_type": "code",
   "execution_count": 37,
   "metadata": {
    "colab": {
     "base_uri": "https://localhost:8080/"
    },
    "id": "NTmYW9fjNnH5",
    "outputId": "387877ad-8f41-4860-cf78-cba4940abd8a"
   },
   "outputs": [
    {
     "data": {
      "text/plain": [
       "numpy.ndarray"
      ]
     },
     "execution_count": 37,
     "metadata": {},
     "output_type": "execute_result"
    }
   ],
   "source": [
    "type(arr1)"
   ]
  },
  {
   "cell_type": "code",
   "execution_count": 38,
   "metadata": {
    "colab": {
     "base_uri": "https://localhost:8080/"
    },
    "id": "J-JGFfL2Ny3B",
    "outputId": "9858c062-479a-4fb8-a7db-bd05051d8935"
   },
   "outputs": [
    {
     "data": {
      "text/plain": [
       "(3,)"
      ]
     },
     "execution_count": 38,
     "metadata": {},
     "output_type": "execute_result"
    }
   ],
   "source": [
    "arr1.shape"
   ]
  },
  {
   "cell_type": "code",
   "execution_count": 39,
   "metadata": {
    "colab": {
     "base_uri": "https://localhost:8080/"
    },
    "id": "11g40ufubbD8",
    "outputId": "34ea1b1e-07e0-4fe5-9570-a825bdb9a84e"
   },
   "outputs": [
    {
     "data": {
      "text/plain": [
       "3"
      ]
     },
     "execution_count": 39,
     "metadata": {},
     "output_type": "execute_result"
    }
   ],
   "source": [
    "arr1.size"
   ]
  },
  {
   "cell_type": "code",
   "execution_count": 40,
   "metadata": {
    "colab": {
     "base_uri": "https://localhost:8080/"
    },
    "id": "p9n8D436cQh1",
    "outputId": "3f9d94e1-04bd-4c90-e12f-2ee585007281"
   },
   "outputs": [
    {
     "data": {
      "text/plain": [
       "1"
      ]
     },
     "execution_count": 40,
     "metadata": {},
     "output_type": "execute_result"
    }
   ],
   "source": [
    "arr1.ndim"
   ]
  },
  {
   "cell_type": "code",
   "execution_count": 41,
   "metadata": {
    "id": "h5qCzHm-bjLW"
   },
   "outputs": [],
   "source": [
    "arr2=np.array([[1,2,3],[4,5,6]])  # 2차원은 리스트 안에 리스트를 넣어라."
   ]
  },
  {
   "cell_type": "code",
   "execution_count": 42,
   "metadata": {
    "colab": {
     "base_uri": "https://localhost:8080/"
    },
    "id": "efJ9rGdMb0F2",
    "outputId": "f2957a94-01ca-45ca-f662-82b9fec4bea6"
   },
   "outputs": [
    {
     "data": {
      "text/plain": [
       "(2, 3)"
      ]
     },
     "execution_count": 42,
     "metadata": {},
     "output_type": "execute_result"
    }
   ],
   "source": [
    "arr2.shape"
   ]
  },
  {
   "cell_type": "code",
   "execution_count": 43,
   "metadata": {
    "colab": {
     "base_uri": "https://localhost:8080/"
    },
    "id": "c5Kur05cb-iA",
    "outputId": "36b1e6a3-ee71-49e8-c3ac-732183799609"
   },
   "outputs": [
    {
     "data": {
      "text/plain": [
       "6"
      ]
     },
     "execution_count": 43,
     "metadata": {},
     "output_type": "execute_result"
    }
   ],
   "source": [
    "arr2.size"
   ]
  },
  {
   "cell_type": "code",
   "execution_count": 44,
   "metadata": {
    "colab": {
     "base_uri": "https://localhost:8080/"
    },
    "id": "6eaWnR4ScAV2",
    "outputId": "366c8cfa-6eb7-44b4-f24a-154654397cac"
   },
   "outputs": [
    {
     "data": {
      "text/plain": [
       "2"
      ]
     },
     "execution_count": 44,
     "metadata": {},
     "output_type": "execute_result"
    }
   ],
   "source": [
    "arr2.ndim"
   ]
  },
  {
   "cell_type": "code",
   "execution_count": 48,
   "metadata": {
    "id": "AdLCcJk7cKcH"
   },
   "outputs": [],
   "source": [
    "arr3=np.array([[[1,2,3],[4,5,6]],[[1,2,3],[4,5,6]]])   # 3차원"
   ]
  },
  {
   "cell_type": "code",
   "execution_count": 49,
   "metadata": {
    "colab": {
     "base_uri": "https://localhost:8080/"
    },
    "id": "1N9UCuXsc1Hd",
    "outputId": "607e2256-8270-40c4-a413-ac3bcaa6ff7f"
   },
   "outputs": [
    {
     "data": {
      "text/plain": [
       "3"
      ]
     },
     "execution_count": 49,
     "metadata": {},
     "output_type": "execute_result"
    }
   ],
   "source": [
    "arr3.ndim"
   ]
  },
  {
   "cell_type": "code",
   "execution_count": 51,
   "metadata": {
    "colab": {
     "base_uri": "https://localhost:8080/"
    },
    "id": "mmtZ9Ci6c7DS",
    "outputId": "ab741365-2ed8-45e6-e044-33c3088ca472"
   },
   "outputs": [
    {
     "data": {
      "text/plain": [
       "(2, 2, 3)"
      ]
     },
     "execution_count": 51,
     "metadata": {},
     "output_type": "execute_result"
    }
   ],
   "source": [
    "arr3.shape  # (면, 행, 열)"
   ]
  },
  {
   "cell_type": "code",
   "execution_count": 52,
   "metadata": {
    "colab": {
     "base_uri": "https://localhost:8080/"
    },
    "id": "pxAapSq-dDUa",
    "outputId": "2864f6cb-2b8a-4698-a2d9-9c7a4caab7e9"
   },
   "outputs": [
    {
     "data": {
      "text/plain": [
       "12"
      ]
     },
     "execution_count": 52,
     "metadata": {},
     "output_type": "execute_result"
    }
   ],
   "source": [
    "arr3.size"
   ]
  },
  {
   "cell_type": "code",
   "execution_count": 54,
   "metadata": {
    "id": "XFHTixuddR82"
   },
   "outputs": [],
   "source": [
    "arr4 = np.array([[1],\n",
    "                [2],\n",
    "                [-1.0],\n",
    "                [3.14]])"
   ]
  },
  {
   "cell_type": "code",
   "execution_count": 55,
   "metadata": {
    "colab": {
     "base_uri": "https://localhost:8080/"
    },
    "id": "7a3AfTJldlv-",
    "outputId": "d558b9f3-186f-483e-932f-7c9c9b400397"
   },
   "outputs": [
    {
     "data": {
      "text/plain": [
       "array([[ 1.  ],\n",
       "       [ 2.  ],\n",
       "       [-1.  ],\n",
       "       [ 3.14]])"
      ]
     },
     "execution_count": 55,
     "metadata": {},
     "output_type": "execute_result"
    }
   ],
   "source": [
    "arr4"
   ]
  },
  {
   "cell_type": "code",
   "execution_count": 57,
   "metadata": {
    "colab": {
     "base_uri": "https://localhost:8080/"
    },
    "id": "0X6v7m2Zd0eX",
    "outputId": "0da065bd-fce5-4dec-9d93-06d98dc7a02f"
   },
   "outputs": [
    {
     "data": {
      "text/plain": [
       "(4, 1)"
      ]
     },
     "execution_count": 57,
     "metadata": {},
     "output_type": "execute_result"
    }
   ],
   "source": [
    "arr4.shape"
   ]
  },
  {
   "cell_type": "code",
   "execution_count": 58,
   "metadata": {
    "colab": {
     "base_uri": "https://localhost:8080/"
    },
    "id": "MT3Sc__Fd30P",
    "outputId": "589d47ca-d0af-400e-edd5-1a3a0b2cce3c"
   },
   "outputs": [
    {
     "data": {
      "text/plain": [
       "2"
      ]
     },
     "execution_count": 58,
     "metadata": {},
     "output_type": "execute_result"
    }
   ],
   "source": [
    "arr4.ndim"
   ]
  },
  {
   "cell_type": "code",
   "execution_count": 66,
   "metadata": {
    "id": "m33vkEbPd68O"
   },
   "outputs": [],
   "source": [
    "arr4 = np.array([[[[1,2,-1,0,3.14]]]])"
   ]
  },
  {
   "cell_type": "code",
   "execution_count": 67,
   "metadata": {
    "colab": {
     "base_uri": "https://localhost:8080/"
    },
    "id": "AxdbbV-keJLW",
    "outputId": "db80ff8e-4f96-450b-9a1e-1039d22dc85a"
   },
   "outputs": [
    {
     "data": {
      "text/plain": [
       "array([[[[ 1.  ,  2.  , -1.  ,  0.  ,  3.14]]]])"
      ]
     },
     "execution_count": 67,
     "metadata": {},
     "output_type": "execute_result"
    }
   ],
   "source": [
    "arr4"
   ]
  },
  {
   "cell_type": "code",
   "execution_count": 68,
   "metadata": {
    "colab": {
     "base_uri": "https://localhost:8080/"
    },
    "id": "Bnk6IjAKeJ_W",
    "outputId": "b8383822-58c1-4b78-e107-ccba5497934e"
   },
   "outputs": [
    {
     "data": {
      "text/plain": [
       "4"
      ]
     },
     "execution_count": 68,
     "metadata": {},
     "output_type": "execute_result"
    }
   ],
   "source": [
    "arr4.ndim"
   ]
  },
  {
   "cell_type": "code",
   "execution_count": 69,
   "metadata": {
    "colab": {
     "base_uri": "https://localhost:8080/"
    },
    "id": "gTe1-x2VeQWO",
    "outputId": "10f5ac73-779c-4c40-c937-0a5e7316c488"
   },
   "outputs": [
    {
     "data": {
      "text/plain": [
       "(1, 1, 1, 5)"
      ]
     },
     "execution_count": 69,
     "metadata": {},
     "output_type": "execute_result"
    }
   ],
   "source": [
    "arr4.shape"
   ]
  },
  {
   "cell_type": "code",
   "execution_count": 70,
   "metadata": {
    "id": "3t4PzfDdecmm"
   },
   "outputs": [],
   "source": [
    "#  배열(넘파이 배열, np.array) 계산"
   ]
  },
  {
   "cell_type": "code",
   "execution_count": 71,
   "metadata": {
    "id": "kEp39Td1eukQ"
   },
   "outputs": [],
   "source": [
    "mu = np.array([1,2,3])"
   ]
  },
  {
   "cell_type": "code",
   "execution_count": 73,
   "metadata": {
    "id": "iWaS9mxxezvm"
   },
   "outputs": [],
   "source": [
    "nu = np.array([4,4,4])"
   ]
  },
  {
   "cell_type": "code",
   "execution_count": 75,
   "metadata": {
    "colab": {
     "base_uri": "https://localhost:8080/"
    },
    "id": "cEPAaOsFe6CW",
    "outputId": "19afe112-00a1-4c32-c76c-105b45b623ea"
   },
   "outputs": [
    {
     "data": {
      "text/plain": [
       "array([5, 6, 7])"
      ]
     },
     "execution_count": 75,
     "metadata": {},
     "output_type": "execute_result"
    }
   ],
   "source": [
    "mu + nu"
   ]
  },
  {
   "cell_type": "code",
   "execution_count": 76,
   "metadata": {
    "colab": {
     "base_uri": "https://localhost:8080/"
    },
    "id": "RKXr4jusfCF3",
    "outputId": "fd04f8ec-abb6-4432-ab18-7d2139de79a3"
   },
   "outputs": [
    {
     "data": {
      "text/plain": [
       "array([10, 12, 14])"
      ]
     },
     "execution_count": 76,
     "metadata": {},
     "output_type": "execute_result"
    }
   ],
   "source": [
    "2 * (mu + nu)"
   ]
  },
  {
   "cell_type": "code",
   "execution_count": 77,
   "metadata": {
    "id": "z1tPogR-fOLP"
   },
   "outputs": [],
   "source": [
    "#  행렬의 연산"
   ]
  },
  {
   "cell_type": "code",
   "execution_count": 78,
   "metadata": {
    "id": "WkzMEhS5fUVQ"
   },
   "outputs": [],
   "source": [
    "A = np.array([[3,6],[4,5]])"
   ]
  },
  {
   "cell_type": "code",
   "execution_count": 79,
   "metadata": {
    "colab": {
     "base_uri": "https://localhost:8080/"
    },
    "id": "izN0RjvYfbmU",
    "outputId": "0b69c228-da02-40f4-a337-07c3512f8ff0"
   },
   "outputs": [
    {
     "data": {
      "text/plain": [
       "array([[3, 6],\n",
       "       [4, 5]])"
      ]
     },
     "execution_count": 79,
     "metadata": {},
     "output_type": "execute_result"
    }
   ],
   "source": [
    "A"
   ]
  },
  {
   "cell_type": "code",
   "execution_count": 80,
   "metadata": {
    "id": "4Vz8snCBfcxt"
   },
   "outputs": [],
   "source": [
    "B = np.array([[5,8],[6,7]])"
   ]
  },
  {
   "cell_type": "code",
   "execution_count": 81,
   "metadata": {
    "colab": {
     "base_uri": "https://localhost:8080/"
    },
    "id": "8HV06HXYf6iG",
    "outputId": "88236aff-a282-4fcc-868d-3a49265ddccb"
   },
   "outputs": [
    {
     "data": {
      "text/plain": [
       "array([[ 8, 14],\n",
       "       [10, 12]])"
      ]
     },
     "execution_count": 81,
     "metadata": {},
     "output_type": "execute_result"
    }
   ],
   "source": [
    "A + B"
   ]
  },
  {
   "cell_type": "code",
   "execution_count": 82,
   "metadata": {
    "colab": {
     "base_uri": "https://localhost:8080/"
    },
    "id": "_3iC_m8Vf7fm",
    "outputId": "69a879cf-f2c7-4769-94ed-621d8dc3160e"
   },
   "outputs": [
    {
     "data": {
      "text/plain": [
       "array([[-2, -2],\n",
       "       [-2, -2]])"
      ]
     },
     "execution_count": 82,
     "metadata": {},
     "output_type": "execute_result"
    }
   ],
   "source": [
    "A - B"
   ]
  },
  {
   "cell_type": "code",
   "execution_count": 83,
   "metadata": {
    "id": "7oAVlvL3f-5-"
   },
   "outputs": [],
   "source": [
    "C = np.array([[5,8,9],[6,7,3]])"
   ]
  },
  {
   "cell_type": "code",
   "execution_count": 84,
   "metadata": {
    "colab": {
     "base_uri": "https://localhost:8080/",
     "height": 147
    },
    "id": "SuqZRMSagVUe",
    "outputId": "bf013e69-d107-450d-8d9c-e48c5e659b4d"
   },
   "outputs": [
    {
     "ename": "ValueError",
     "evalue": "operands could not be broadcast together with shapes (2,2) (2,3) ",
     "output_type": "error",
     "traceback": [
      "\u001b[0;31m---------------------------------------------------------------------------\u001b[0m",
      "\u001b[0;31mValueError\u001b[0m                                Traceback (most recent call last)",
      "\u001b[0;32m<ipython-input-84-7fef4ff4e8e2>\u001b[0m in \u001b[0;36m<cell line: 1>\u001b[0;34m()\u001b[0m\n\u001b[0;32m----> 1\u001b[0;31m \u001b[0mA\u001b[0m \u001b[0;34m+\u001b[0m \u001b[0mC\u001b[0m  \u001b[0;31m# 오류남 # 차원 오류\u001b[0m\u001b[0;34m\u001b[0m\u001b[0;34m\u001b[0m\u001b[0m\n\u001b[0m",
      "\u001b[0;31mValueError\u001b[0m: operands could not be broadcast together with shapes (2,2) (2,3) "
     ]
    }
   ],
   "source": [
    "# A + C  # 오류남 # 차원 오류"
   ]
  },
  {
   "cell_type": "code",
   "execution_count": 85,
   "metadata": {
    "colab": {
     "base_uri": "https://localhost:8080/"
    },
    "id": "LD-6Ft9Hg-Tf",
    "outputId": "40825036-a2c8-4b88-e6b9-dc7f88b98b20"
   },
   "outputs": [
    {
     "data": {
      "text/plain": [
       "True"
      ]
     },
     "execution_count": 85,
     "metadata": {},
     "output_type": "execute_result"
    }
   ],
   "source": [
    "np.all([True, True, True])"
   ]
  },
  {
   "cell_type": "code",
   "execution_count": 87,
   "metadata": {
    "colab": {
     "base_uri": "https://localhost:8080/"
    },
    "id": "_Q6DKiwpht8M",
    "outputId": "00625032-43b6-42db-e376-2384fbb897b5"
   },
   "outputs": [
    {
     "data": {
      "text/plain": [
       "False"
      ]
     },
     "execution_count": 87,
     "metadata": {},
     "output_type": "execute_result"
    }
   ],
   "source": [
    "np.all([True, True, False])"
   ]
  },
  {
   "cell_type": "code",
   "execution_count": 88,
   "metadata": {
    "colab": {
     "base_uri": "https://localhost:8080/"
    },
    "id": "v0OmH6Tzhv8l",
    "outputId": "ad63d9b2-0fb7-4089-a457-ac7fa1490254"
   },
   "outputs": [
    {
     "data": {
      "text/plain": [
       "False"
      ]
     },
     "execution_count": 88,
     "metadata": {},
     "output_type": "execute_result"
    }
   ],
   "source": [
    "np.any([False, False, False])"
   ]
  },
  {
   "cell_type": "code",
   "execution_count": 90,
   "metadata": {
    "colab": {
     "base_uri": "https://localhost:8080/"
    },
    "id": "beEKu2kYh4td",
    "outputId": "cb37e476-0d26-4ef4-c222-1964f1ccccf3"
   },
   "outputs": [
    {
     "data": {
      "text/plain": [
       "True"
      ]
     },
     "execution_count": 90,
     "metadata": {},
     "output_type": "execute_result"
    }
   ],
   "source": [
    "np.any([True, False, False])"
   ]
  },
  {
   "cell_type": "code",
   "execution_count": null,
   "metadata": {
    "id": "L7INBPThh8K9"
   },
   "outputs": [],
   "source": []
  }
 ],
 "metadata": {
  "accelerator": "TPU",
  "colab": {
   "gpuType": "V28",
   "provenance": []
  },
  "kernelspec": {
   "display_name": "Python 3 (ipykernel)",
   "language": "python",
   "name": "python3"
  },
  "language_info": {
   "codemirror_mode": {
    "name": "ipython",
    "version": 3
   },
   "file_extension": ".py",
   "mimetype": "text/x-python",
   "name": "python",
   "nbconvert_exporter": "python",
   "pygments_lexer": "ipython3",
   "version": "3.12.4"
  }
 },
 "nbformat": 4,
 "nbformat_minor": 4
}
