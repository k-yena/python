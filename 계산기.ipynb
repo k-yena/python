{
 "cells": [
  {
   "cell_type": "code",
   "execution_count": 16,
   "id": "ca3a3e90-6116-4996-9fd9-b4df68894f7e",
   "metadata": {},
   "outputs": [],
   "source": [
    "class Calc:\n",
    "    def __init__(self, num1, num2):\n",
    "        self.num1=num1\n",
    "        self.num2=num2\n",
    "    def add(self):\n",
    "        return self.num1+self.num2\n",
    "    def subtract(self):\n",
    "        return self.num1-self.num2\n",
    "   \n",
    "\n",
    "class CalcChild(Calc):\n",
    "    def divide(self):\n",
    "        if self.num2 == 0:\n",
    "            print(\"0으로 나누면 안돼요\")\n",
    "        else:\n",
    "            return self.num1-self.num2"
   ]
  },
  {
   "cell_type": "code",
   "execution_count": 25,
   "id": "6243bbab-72d3-4b1b-a678-492de4771cc9",
   "metadata": {},
   "outputs": [],
   "source": [
    "calc=Calc(5,3)"
   ]
  },
  {
   "cell_type": "code",
   "execution_count": 26,
   "id": "25cc373a-a580-40c2-a61a-b320d8daf46d",
   "metadata": {},
   "outputs": [
    {
     "data": {
      "text/plain": [
       "8"
      ]
     },
     "execution_count": 26,
     "metadata": {},
     "output_type": "execute_result"
    }
   ],
   "source": [
    "calc.add()"
   ]
  },
  {
   "cell_type": "code",
   "execution_count": 27,
   "id": "220809f1-b1ac-4837-aafe-baa38b2a7611",
   "metadata": {},
   "outputs": [],
   "source": [
    "calcchild=CalcChild(6,3)"
   ]
  },
  {
   "cell_type": "code",
   "execution_count": 29,
   "id": "0bd0c153-5fc9-4508-97b4-49cc13412eef",
   "metadata": {},
   "outputs": [
    {
     "data": {
      "text/plain": [
       "3"
      ]
     },
     "execution_count": 29,
     "metadata": {},
     "output_type": "execute_result"
    }
   ],
   "source": [
    "calcchild.subtract()"
   ]
  },
  {
   "cell_type": "code",
   "execution_count": null,
   "id": "422354b5-ece6-47cd-8536-f2808bd7859d",
   "metadata": {},
   "outputs": [],
   "source": []
  }
 ],
 "metadata": {
  "kernelspec": {
   "display_name": "Python 3 (ipykernel)",
   "language": "python",
   "name": "python3"
  },
  "language_info": {
   "codemirror_mode": {
    "name": "ipython",
    "version": 3
   },
   "file_extension": ".py",
   "mimetype": "text/x-python",
   "name": "python",
   "nbconvert_exporter": "python",
   "pygments_lexer": "ipython3",
   "version": "3.12.4"
  }
 },
 "nbformat": 4,
 "nbformat_minor": 5
}
