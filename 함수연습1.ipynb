{
 "cells": [
  {
   "cell_type": "code",
   "execution_count": 5,
   "id": "1e1c55de-7748-4658-b53a-816e144491f3",
   "metadata": {},
   "outputs": [],
   "source": [
    "def cum_add(*num):\n",
    "    tot=0\n",
    "    for i in num:\n",
    "        tot+=i\n",
    "    return tot        "
   ]
  },
  {
   "cell_type": "code",
   "execution_count": 7,
   "id": "744a88a5-c297-4e87-8f1d-bbd131fbe5bf",
   "metadata": {},
   "outputs": [
    {
     "name": "stdout",
     "output_type": "stream",
     "text": [
      "5\n"
     ]
    }
   ],
   "source": [
    "result=cum_add(5)\n",
    "print(result)"
   ]
  },
  {
   "cell_type": "code",
   "execution_count": 8,
   "id": "19bd1965-19bd-4985-b8c7-59fd15d22ea8",
   "metadata": {},
   "outputs": [
    {
     "name": "stdout",
     "output_type": "stream",
     "text": [
      "13\n"
     ]
    }
   ],
   "source": [
    "result=cum_add(5,8)\n",
    "print(result)"
   ]
  },
  {
   "cell_type": "code",
   "execution_count": 4,
   "id": "b361ce0e-1a76-4192-865c-0eda37448e5b",
   "metadata": {},
   "outputs": [
    {
     "name": "stdout",
     "output_type": "stream",
     "text": [
      "5\n",
      "8\n"
     ]
    }
   ],
   "source": [
    "cum_add(5,8)"
   ]
  },
  {
   "cell_type": "code",
   "execution_count": 9,
   "id": "547271dc-1139-4c9d-826c-f34944afaa4c",
   "metadata": {},
   "outputs": [
    {
     "name": "stdout",
     "output_type": "stream",
     "text": [
      "99\n"
     ]
    }
   ],
   "source": [
    "result=cum_add(5,5,8,9,63,4,5)\n",
    "print(result)"
   ]
  },
  {
   "cell_type": "code",
   "execution_count": 15,
   "id": "78cbb23d-9a4f-44f5-a3b5-1723c5bf8283",
   "metadata": {},
   "outputs": [
    {
     "data": {
      "text/plain": [
       "[0, 0, 0]"
      ]
     },
     "execution_count": 15,
     "metadata": {},
     "output_type": "execute_result"
    }
   ],
   "source": [
    "tot=0\n",
    "[tot for i in [1,2,3]]"
   ]
  },
  {
   "cell_type": "code",
   "execution_count": 16,
   "id": "d7a81b0f-b2e3-49bf-a3d6-ce7ef0bd9e71",
   "metadata": {},
   "outputs": [
    {
     "data": {
      "text/plain": [
       "[1, 2, 3]"
      ]
     },
     "execution_count": 16,
     "metadata": {},
     "output_type": "execute_result"
    }
   ],
   "source": [
    "tot=0\n",
    "[tot+i for i in [1,2,3]]"
   ]
  },
  {
   "cell_type": "code",
   "execution_count": 17,
   "id": "7174d988-6545-46bb-bba2-388987147996",
   "metadata": {},
   "outputs": [
    {
     "name": "stdout",
     "output_type": "stream",
     "text": [
      "hi nice\n"
     ]
    }
   ],
   "source": [
    "print(\"hi\",\"nice\")"
   ]
  },
  {
   "cell_type": "code",
   "execution_count": 18,
   "id": "3ecba45d-8747-4271-837d-3f6e9146ce31",
   "metadata": {},
   "outputs": [
    {
     "name": "stdout",
     "output_type": "stream",
     "text": [
      "hi/nice\n"
     ]
    }
   ],
   "source": [
    "print(\"hi\",\"nice\",sep=\"/\")"
   ]
  },
  {
   "cell_type": "code",
   "execution_count": 19,
   "id": "dcb47a0c-83c8-4e83-841b-5ff0fb9090b4",
   "metadata": {},
   "outputs": [],
   "source": [
    "#  기본 매개변수(기본값이 있는 매개변수)가 있는 함수 정의"
   ]
  },
  {
   "cell_type": "code",
   "execution_count": 21,
   "id": "2072f55f-a631-4c51-a37d-3a38a0354467",
   "metadata": {},
   "outputs": [],
   "source": [
    "def hi():\n",
    "    print(\"hello\")"
   ]
  },
  {
   "cell_type": "code",
   "execution_count": 22,
   "id": "f3aaa0d5-4560-47cf-b30d-a3bef9dc5678",
   "metadata": {},
   "outputs": [
    {
     "name": "stdout",
     "output_type": "stream",
     "text": [
      "hello\n"
     ]
    }
   ],
   "source": [
    "hi()"
   ]
  },
  {
   "cell_type": "code",
   "execution_count": 25,
   "id": "5b34bfde-aacc-40bf-acca-1d7e7cc86b2a",
   "metadata": {},
   "outputs": [],
   "source": [
    "def hi(menu=\"밥\"):\n",
    "    print(menu)"
   ]
  },
  {
   "cell_type": "code",
   "execution_count": 24,
   "id": "454a1d39-d625-472d-b022-be5224a4b1c2",
   "metadata": {},
   "outputs": [
    {
     "name": "stdout",
     "output_type": "stream",
     "text": [
      "삼계탕\n"
     ]
    }
   ],
   "source": [
    "hi(\"삼계탕\")"
   ]
  },
  {
   "cell_type": "code",
   "execution_count": 26,
   "id": "eea414e8-e553-4eaf-8c32-d17c4857da1b",
   "metadata": {},
   "outputs": [
    {
     "name": "stdout",
     "output_type": "stream",
     "text": [
      "밥\n"
     ]
    }
   ],
   "source": [
    "hi()"
   ]
  },
  {
   "cell_type": "code",
   "execution_count": 27,
   "id": "4f144691-0655-4a06-8614-2c2a974ce58a",
   "metadata": {},
   "outputs": [
    {
     "name": "stdout",
     "output_type": "stream",
     "text": [
      "냉면\n"
     ]
    }
   ],
   "source": [
    "hi(menu=\"냉면\")"
   ]
  },
  {
   "cell_type": "code",
   "execution_count": 29,
   "id": "1f94b7d4-1f91-432c-bb30-f622f42c578a",
   "metadata": {},
   "outputs": [],
   "source": [
    "# hi(\"삼계탕\",\"아이스크림\")     두개는 넣으면 안된다."
   ]
  },
  {
   "cell_type": "code",
   "execution_count": 30,
   "id": "a2709155-bb53-4590-9981-62bad624ab9d",
   "metadata": {},
   "outputs": [],
   "source": [
    "def bank(name=\"한국\"):\n",
    "    print(name)"
   ]
  },
  {
   "cell_type": "code",
   "execution_count": 33,
   "id": "01fa4b07-73fc-48ab-8f7f-7334c3fa5489",
   "metadata": {},
   "outputs": [
    {
     "name": "stdout",
     "output_type": "stream",
     "text": [
      "기업\n"
     ]
    }
   ],
   "source": [
    "bank(\"기업\")"
   ]
  },
  {
   "cell_type": "code",
   "execution_count": 34,
   "id": "e0eac872-9c30-4b64-9d16-98df25e5b22f",
   "metadata": {},
   "outputs": [
    {
     "name": "stdout",
     "output_type": "stream",
     "text": [
      "한국\n"
     ]
    }
   ],
   "source": [
    "bank()"
   ]
  },
  {
   "cell_type": "code",
   "execution_count": 35,
   "id": "bac9953a-b6ee-428b-adae-8ebbab10f845",
   "metadata": {},
   "outputs": [
    {
     "name": "stdout",
     "output_type": "stream",
     "text": [
      "국민\n"
     ]
    }
   ],
   "source": [
    "bank(name=\"국민\")"
   ]
  },
  {
   "cell_type": "code",
   "execution_count": null,
   "id": "5f5725cf-65e0-448f-b48d-67e2ad28acaa",
   "metadata": {},
   "outputs": [],
   "source": []
  }
 ],
 "metadata": {
  "kernelspec": {
   "display_name": "Python 3 (ipykernel)",
   "language": "python",
   "name": "python3"
  },
  "language_info": {
   "codemirror_mode": {
    "name": "ipython",
    "version": 3
   },
   "file_extension": ".py",
   "mimetype": "text/x-python",
   "name": "python",
   "nbconvert_exporter": "python",
   "pygments_lexer": "ipython3",
   "version": "3.12.4"
  }
 },
 "nbformat": 4,
 "nbformat_minor": 5
}
