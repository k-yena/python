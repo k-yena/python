{
 "cells": [
  {
   "cell_type": "code",
   "execution_count": 1,
   "id": "7280e63d-2d09-403e-a454-b13e9ef29bb2",
   "metadata": {},
   "outputs": [],
   "source": [
    "# 1) 답 : 2번,3번 "
   ]
  },
  {
   "cell_type": "code",
   "execution_count": 3,
   "id": "df9636b6-44b4-4a74-bf95-7328b8b3934b",
   "metadata": {},
   "outputs": [],
   "source": [
    "# help(enumerate)"
   ]
  },
  {
   "cell_type": "code",
   "execution_count": 4,
   "id": "fc9c6ba8-fddc-4c14-82e2-a5857e6ede92",
   "metadata": {},
   "outputs": [
    {
     "data": {
      "text/plain": [
       "<enumerate at 0x1c545513100>"
      ]
     },
     "execution_count": 4,
     "metadata": {},
     "output_type": "execute_result"
    }
   ],
   "source": [
    "enumerate(['a','b','c'])"
   ]
  },
  {
   "cell_type": "code",
   "execution_count": 5,
   "id": "5ef37d57-b27d-4825-91ea-02a04e7e37ca",
   "metadata": {},
   "outputs": [
    {
     "data": {
      "text/plain": [
       "[(0, 'a'), (1, 'b'), (2, 'c')]"
      ]
     },
     "execution_count": 5,
     "metadata": {},
     "output_type": "execute_result"
    }
   ],
   "source": [
    "list(enumerate(['a','b','c']))"
   ]
  },
  {
   "cell_type": "code",
   "execution_count": 6,
   "id": "5853dd84-314d-4447-8cc9-e6e50ca611f8",
   "metadata": {},
   "outputs": [
    {
     "name": "stdout",
     "output_type": "stream",
     "text": [
      "Help on built-in function items:\n",
      "\n",
      "items(...) method of builtins.dict instance\n",
      "    D.items() -> a set-like object providing a view on D's items\n",
      "\n"
     ]
    }
   ],
   "source": [
    "help({}.items)"
   ]
  },
  {
   "cell_type": "code",
   "execution_count": 7,
   "id": "947e2158-521c-45a6-b649-dc2add0fdeb8",
   "metadata": {},
   "outputs": [],
   "source": [
    "# 2)"
   ]
  },
  {
   "cell_type": "code",
   "execution_count": 8,
   "id": "fe97df59-8e50-43c6-8144-ad03bcbee7b2",
   "metadata": {},
   "outputs": [
    {
     "data": {
      "text/plain": [
       "'0b1010'"
      ]
     },
     "execution_count": 8,
     "metadata": {},
     "output_type": "execute_result"
    }
   ],
   "source": [
    "bin(10)"
   ]
  },
  {
   "cell_type": "code",
   "execution_count": 9,
   "id": "9bdfa4b0-e4ef-41c4-b005-bb81159fce5b",
   "metadata": {},
   "outputs": [
    {
     "data": {
      "text/plain": [
       "'0o12'"
      ]
     },
     "execution_count": 9,
     "metadata": {},
     "output_type": "execute_result"
    }
   ],
   "source": [
    "oct(10)"
   ]
  },
  {
   "cell_type": "code",
   "execution_count": 10,
   "id": "96263dff-fce1-4516-b7eb-d24b10d20063",
   "metadata": {},
   "outputs": [
    {
     "data": {
      "text/plain": [
       "'5'"
      ]
     },
     "execution_count": 10,
     "metadata": {},
     "output_type": "execute_result"
    }
   ],
   "source": [
    "\"{}\".format(5)"
   ]
  },
  {
   "cell_type": "code",
   "execution_count": 12,
   "id": "79af6e4a-9a99-4977-a6f5-59d8154f34c0",
   "metadata": {},
   "outputs": [
    {
     "data": {
      "text/plain": [
       "'5'"
      ]
     },
     "execution_count": 12,
     "metadata": {},
     "output_type": "execute_result"
    }
   ],
   "source": [
    "f\"{5}\""
   ]
  },
  {
   "cell_type": "code",
   "execution_count": 13,
   "id": "0200a1a9-888e-461f-a479-da3524ac7e49",
   "metadata": {},
   "outputs": [
    {
     "data": {
      "text/plain": [
       "' 5'"
      ]
     },
     "execution_count": 13,
     "metadata": {},
     "output_type": "execute_result"
    }
   ],
   "source": [
    "\"{:2}\".format(5)   # 두자리"
   ]
  },
  {
   "cell_type": "code",
   "execution_count": 19,
   "id": "e52b7e95-d93c-4bcd-b8f3-ba40cb290316",
   "metadata": {},
   "outputs": [
    {
     "data": {
      "text/plain": [
       "'  5'"
      ]
     },
     "execution_count": 19,
     "metadata": {},
     "output_type": "execute_result"
    }
   ],
   "source": [
    "\"{:3}\".format(5)   # 세자리"
   ]
  },
  {
   "cell_type": "code",
   "execution_count": 16,
   "id": "f0bce348-7089-4012-b563-ae9e89cbe305",
   "metadata": {},
   "outputs": [
    {
     "data": {
      "text/plain": [
       "'5.000000'"
      ]
     },
     "execution_count": 16,
     "metadata": {},
     "output_type": "execute_result"
    }
   ],
   "source": [
    "\"{:f}\".format(5)   "
   ]
  },
  {
   "cell_type": "code",
   "execution_count": 18,
   "id": "65d7645f-0663-477d-ba80-0e946cd1f81e",
   "metadata": {},
   "outputs": [
    {
     "data": {
      "text/plain": [
       "'1010'"
      ]
     },
     "execution_count": 18,
     "metadata": {},
     "output_type": "execute_result"
    }
   ],
   "source": [
    "\"{:b}\".format(10)   # 2진수"
   ]
  },
  {
   "cell_type": "code",
   "execution_count": 20,
   "id": "75a8ee74-73e4-40fc-9d24-cc7da3d9a83a",
   "metadata": {},
   "outputs": [
    {
     "name": "stdout",
     "output_type": "stream",
     "text": [
      "Help on class int in module builtins:\n",
      "\n",
      "class int(object)\n",
      " |  int([x]) -> integer\n",
      " |  int(x, base=10) -> integer\n",
      " |\n",
      " |  Convert a number or string to an integer, or return 0 if no arguments\n",
      " |  are given.  If x is a number, return x.__int__().  For floating point\n",
      " |  numbers, this truncates towards zero.\n",
      " |\n",
      " |  If x is not a number or if base is given, then x must be a string,\n",
      " |  bytes, or bytearray instance representing an integer literal in the\n",
      " |  given base.  The literal can be preceded by '+' or '-' and be surrounded\n",
      " |  by whitespace.  The base defaults to 10.  Valid bases are 0 and 2-36.\n",
      " |  Base 0 means to interpret the base from the string as an integer literal.\n",
      " |  >>> int('0b100', base=0)\n",
      " |  4\n",
      " |\n",
      " |  Built-in subclasses:\n",
      " |      bool\n",
      " |\n",
      " |  Methods defined here:\n",
      " |\n",
      " |  __abs__(self, /)\n",
      " |      abs(self)\n",
      " |\n",
      " |  __add__(self, value, /)\n",
      " |      Return self+value.\n",
      " |\n",
      " |  __and__(self, value, /)\n",
      " |      Return self&value.\n",
      " |\n",
      " |  __bool__(self, /)\n",
      " |      True if self else False\n",
      " |\n",
      " |  __ceil__(...)\n",
      " |      Ceiling of an Integral returns itself.\n",
      " |\n",
      " |  __divmod__(self, value, /)\n",
      " |      Return divmod(self, value).\n",
      " |\n",
      " |  __eq__(self, value, /)\n",
      " |      Return self==value.\n",
      " |\n",
      " |  __float__(self, /)\n",
      " |      float(self)\n",
      " |\n",
      " |  __floor__(...)\n",
      " |      Flooring an Integral returns itself.\n",
      " |\n",
      " |  __floordiv__(self, value, /)\n",
      " |      Return self//value.\n",
      " |\n",
      " |  __format__(self, format_spec, /)\n",
      " |      Convert to a string according to format_spec.\n",
      " |\n",
      " |  __ge__(self, value, /)\n",
      " |      Return self>=value.\n",
      " |\n",
      " |  __getattribute__(self, name, /)\n",
      " |      Return getattr(self, name).\n",
      " |\n",
      " |  __getnewargs__(self, /)\n",
      " |\n",
      " |  __gt__(self, value, /)\n",
      " |      Return self>value.\n",
      " |\n",
      " |  __hash__(self, /)\n",
      " |      Return hash(self).\n",
      " |\n",
      " |  __index__(self, /)\n",
      " |      Return self converted to an integer, if self is suitable for use as an index into a list.\n",
      " |\n",
      " |  __int__(self, /)\n",
      " |      int(self)\n",
      " |\n",
      " |  __invert__(self, /)\n",
      " |      ~self\n",
      " |\n",
      " |  __le__(self, value, /)\n",
      " |      Return self<=value.\n",
      " |\n",
      " |  __lshift__(self, value, /)\n",
      " |      Return self<<value.\n",
      " |\n",
      " |  __lt__(self, value, /)\n",
      " |      Return self<value.\n",
      " |\n",
      " |  __mod__(self, value, /)\n",
      " |      Return self%value.\n",
      " |\n",
      " |  __mul__(self, value, /)\n",
      " |      Return self*value.\n",
      " |\n",
      " |  __ne__(self, value, /)\n",
      " |      Return self!=value.\n",
      " |\n",
      " |  __neg__(self, /)\n",
      " |      -self\n",
      " |\n",
      " |  __or__(self, value, /)\n",
      " |      Return self|value.\n",
      " |\n",
      " |  __pos__(self, /)\n",
      " |      +self\n",
      " |\n",
      " |  __pow__(self, value, mod=None, /)\n",
      " |      Return pow(self, value, mod).\n",
      " |\n",
      " |  __radd__(self, value, /)\n",
      " |      Return value+self.\n",
      " |\n",
      " |  __rand__(self, value, /)\n",
      " |      Return value&self.\n",
      " |\n",
      " |  __rdivmod__(self, value, /)\n",
      " |      Return divmod(value, self).\n",
      " |\n",
      " |  __repr__(self, /)\n",
      " |      Return repr(self).\n",
      " |\n",
      " |  __rfloordiv__(self, value, /)\n",
      " |      Return value//self.\n",
      " |\n",
      " |  __rlshift__(self, value, /)\n",
      " |      Return value<<self.\n",
      " |\n",
      " |  __rmod__(self, value, /)\n",
      " |      Return value%self.\n",
      " |\n",
      " |  __rmul__(self, value, /)\n",
      " |      Return value*self.\n",
      " |\n",
      " |  __ror__(self, value, /)\n",
      " |      Return value|self.\n",
      " |\n",
      " |  __round__(...)\n",
      " |      Rounding an Integral returns itself.\n",
      " |\n",
      " |      Rounding with an ndigits argument also returns an integer.\n",
      " |\n",
      " |  __rpow__(self, value, mod=None, /)\n",
      " |      Return pow(value, self, mod).\n",
      " |\n",
      " |  __rrshift__(self, value, /)\n",
      " |      Return value>>self.\n",
      " |\n",
      " |  __rshift__(self, value, /)\n",
      " |      Return self>>value.\n",
      " |\n",
      " |  __rsub__(self, value, /)\n",
      " |      Return value-self.\n",
      " |\n",
      " |  __rtruediv__(self, value, /)\n",
      " |      Return value/self.\n",
      " |\n",
      " |  __rxor__(self, value, /)\n",
      " |      Return value^self.\n",
      " |\n",
      " |  __sizeof__(self, /)\n",
      " |      Returns size in memory, in bytes.\n",
      " |\n",
      " |  __sub__(self, value, /)\n",
      " |      Return self-value.\n",
      " |\n",
      " |  __truediv__(self, value, /)\n",
      " |      Return self/value.\n",
      " |\n",
      " |  __trunc__(...)\n",
      " |      Truncating an Integral returns itself.\n",
      " |\n",
      " |  __xor__(self, value, /)\n",
      " |      Return self^value.\n",
      " |\n",
      " |  as_integer_ratio(self, /)\n",
      " |      Return a pair of integers, whose ratio is equal to the original int.\n",
      " |\n",
      " |      The ratio is in lowest terms and has a positive denominator.\n",
      " |\n",
      " |      >>> (10).as_integer_ratio()\n",
      " |      (10, 1)\n",
      " |      >>> (-10).as_integer_ratio()\n",
      " |      (-10, 1)\n",
      " |      >>> (0).as_integer_ratio()\n",
      " |      (0, 1)\n",
      " |\n",
      " |  bit_count(self, /)\n",
      " |      Number of ones in the binary representation of the absolute value of self.\n",
      " |\n",
      " |      Also known as the population count.\n",
      " |\n",
      " |      >>> bin(13)\n",
      " |      '0b1101'\n",
      " |      >>> (13).bit_count()\n",
      " |      3\n",
      " |\n",
      " |  bit_length(self, /)\n",
      " |      Number of bits necessary to represent self in binary.\n",
      " |\n",
      " |      >>> bin(37)\n",
      " |      '0b100101'\n",
      " |      >>> (37).bit_length()\n",
      " |      6\n",
      " |\n",
      " |  conjugate(...)\n",
      " |      Returns self, the complex conjugate of any int.\n",
      " |\n",
      " |  is_integer(self, /)\n",
      " |      Returns True. Exists for duck type compatibility with float.is_integer.\n",
      " |\n",
      " |  to_bytes(self, /, length=1, byteorder='big', *, signed=False)\n",
      " |      Return an array of bytes representing an integer.\n",
      " |\n",
      " |      length\n",
      " |        Length of bytes object to use.  An OverflowError is raised if the\n",
      " |        integer is not representable with the given number of bytes.  Default\n",
      " |        is length 1.\n",
      " |      byteorder\n",
      " |        The byte order used to represent the integer.  If byteorder is 'big',\n",
      " |        the most significant byte is at the beginning of the byte array.  If\n",
      " |        byteorder is 'little', the most significant byte is at the end of the\n",
      " |        byte array.  To request the native byte order of the host system, use\n",
      " |        `sys.byteorder' as the byte order value.  Default is to use 'big'.\n",
      " |      signed\n",
      " |        Determines whether two's complement is used to represent the integer.\n",
      " |        If signed is False and a negative integer is given, an OverflowError\n",
      " |        is raised.\n",
      " |\n",
      " |  ----------------------------------------------------------------------\n",
      " |  Class methods defined here:\n",
      " |\n",
      " |  from_bytes(bytes, byteorder='big', *, signed=False)\n",
      " |      Return the integer represented by the given array of bytes.\n",
      " |\n",
      " |      bytes\n",
      " |        Holds the array of bytes to convert.  The argument must either\n",
      " |        support the buffer protocol or be an iterable object producing bytes.\n",
      " |        Bytes and bytearray are examples of built-in objects that support the\n",
      " |        buffer protocol.\n",
      " |      byteorder\n",
      " |        The byte order used to represent the integer.  If byteorder is 'big',\n",
      " |        the most significant byte is at the beginning of the byte array.  If\n",
      " |        byteorder is 'little', the most significant byte is at the end of the\n",
      " |        byte array.  To request the native byte order of the host system, use\n",
      " |        `sys.byteorder' as the byte order value.  Default is to use 'big'.\n",
      " |      signed\n",
      " |        Indicates whether two's complement is used to represent the integer.\n",
      " |\n",
      " |  ----------------------------------------------------------------------\n",
      " |  Static methods defined here:\n",
      " |\n",
      " |  __new__(*args, **kwargs)\n",
      " |      Create and return a new object.  See help(type) for accurate signature.\n",
      " |\n",
      " |  ----------------------------------------------------------------------\n",
      " |  Data descriptors defined here:\n",
      " |\n",
      " |  denominator\n",
      " |      the denominator of a rational number in lowest terms\n",
      " |\n",
      " |  imag\n",
      " |      the imaginary part of a complex number\n",
      " |\n",
      " |  numerator\n",
      " |      the numerator of a rational number in lowest terms\n",
      " |\n",
      " |  real\n",
      " |      the real part of a complex number\n",
      "\n"
     ]
    }
   ],
   "source": [
    "help(int)"
   ]
  },
  {
   "cell_type": "code",
   "execution_count": 21,
   "id": "2ff3691d-4885-4e89-b815-79469ba4f137",
   "metadata": {},
   "outputs": [
    {
     "data": {
      "text/plain": [
       "10"
      ]
     },
     "execution_count": 21,
     "metadata": {},
     "output_type": "execute_result"
    }
   ],
   "source": [
    "int(\"1010\",base=2)   # base=2 기본값을 받아들이는 형태"
   ]
  },
  {
   "cell_type": "code",
   "execution_count": 22,
   "id": "5d1462f8-5587-4a9c-95c0-01f22fd59a12",
   "metadata": {},
   "outputs": [
    {
     "data": {
      "text/plain": [
       "'12'"
      ]
     },
     "execution_count": 22,
     "metadata": {},
     "output_type": "execute_result"
    }
   ],
   "source": [
    "\"{:o}\".format(10)"
   ]
  },
  {
   "cell_type": "code",
   "execution_count": 24,
   "id": "c27ba9b6-b1d8-4851-9083-1c29341d2386",
   "metadata": {},
   "outputs": [
    {
     "data": {
      "text/plain": [
       "'a'"
      ]
     },
     "execution_count": 24,
     "metadata": {},
     "output_type": "execute_result"
    }
   ],
   "source": [
    "\"{:x}\".format(10)"
   ]
  },
  {
   "cell_type": "code",
   "execution_count": 25,
   "id": "f37e38a1-7b5f-46e1-a38b-5173b7683d68",
   "metadata": {},
   "outputs": [
    {
     "data": {
      "text/plain": [
       "10"
      ]
     },
     "execution_count": 25,
     "metadata": {},
     "output_type": "execute_result"
    }
   ],
   "source": [
    "int(\"12\",base=8)"
   ]
  },
  {
   "cell_type": "code",
   "execution_count": 26,
   "id": "13db2e7e-08ca-44e0-abfa-cdc442123759",
   "metadata": {},
   "outputs": [
    {
     "name": "stdout",
     "output_type": "stream",
     "text": [
      "Help on built-in function count:\n",
      "\n",
      "count(...) method of builtins.str instance\n",
      "    S.count(sub[, start[, end]]) -> int\n",
      "\n",
      "    Return the number of non-overlapping occurrences of substring sub in\n",
      "    string S[start:end].  Optional arguments start and end are\n",
      "    interpreted as in slice notation.\n",
      "\n"
     ]
    }
   ],
   "source": [
    "help(\"\".count)"
   ]
  },
  {
   "cell_type": "code",
   "execution_count": 28,
   "id": "a84cec16-375c-4903-bc27-f851227dfc20",
   "metadata": {},
   "outputs": [
    {
     "data": {
      "text/plain": [
       "2"
      ]
     },
     "execution_count": 28,
     "metadata": {},
     "output_type": "execute_result"
    }
   ],
   "source": [
    "\"안녕안녕하세요\".count(\"안\")  # count() 갯수를 세는 함수"
   ]
  },
  {
   "cell_type": "code",
   "execution_count": 29,
   "id": "40145918-e2f3-4629-aa0b-578e2336a37c",
   "metadata": {},
   "outputs": [],
   "source": [
    "# 확인문제 4가지\n",
    "# 1) 1~100까지 찍어라 --> 리스트 내포\n",
    "# 2) 이진수 변환\n",
    "# 3) 0이 하나만 포함된 숫자를 찾기\n",
    "# 4) 누적합"
   ]
  },
  {
   "cell_type": "code",
   "execution_count": 39,
   "id": "357be7a8-0bc3-4937-b0e8-2bdee09dfe5a",
   "metadata": {},
   "outputs": [
    {
     "data": {
      "text/plain": [
       "[2, 5, 6, 11, 13, 14, 23, 27, 29, 30, 47, 55, 59, 61, 62, 95]"
      ]
     },
     "execution_count": 39,
     "metadata": {},
     "output_type": "execute_result"
    }
   ],
   "source": [
    "# 리스트 내포 (리스트 안에 리스트로 조건을 찍는다)\n",
    "[i for i in range(1,100+1) if \"{:b}\".format(i).count(\"0\") == 1]"
   ]
  },
  {
   "cell_type": "code",
   "execution_count": 33,
   "id": "3c368660-ea3f-4e6b-a8eb-7704c46f50e4",
   "metadata": {},
   "outputs": [
    {
     "data": {
      "text/plain": [
       "'10'"
      ]
     },
     "execution_count": 33,
     "metadata": {},
     "output_type": "execute_result"
    }
   ],
   "source": [
    "\"{:b}\".format(2)"
   ]
  },
  {
   "cell_type": "code",
   "execution_count": 34,
   "id": "a766aa9f-c8c2-4427-8f61-3a5e0d8b842e",
   "metadata": {},
   "outputs": [
    {
     "data": {
      "text/plain": [
       "'1100100'"
      ]
     },
     "execution_count": 34,
     "metadata": {},
     "output_type": "execute_result"
    }
   ],
   "source": [
    "\"{:b}\".format(100)"
   ]
  },
  {
   "cell_type": "code",
   "execution_count": 35,
   "id": "0e4b57ee-1876-48c0-92ec-fdd3494b07aa",
   "metadata": {},
   "outputs": [
    {
     "data": {
      "text/plain": [
       "1"
      ]
     },
     "execution_count": 35,
     "metadata": {},
     "output_type": "execute_result"
    }
   ],
   "source": [
    "\"{:b}\".format(2).count(\"0\") "
   ]
  },
  {
   "cell_type": "code",
   "execution_count": 36,
   "id": "e33938b9-aa57-4e3b-8053-a0c7086c70a1",
   "metadata": {},
   "outputs": [
    {
     "data": {
      "text/plain": [
       "4"
      ]
     },
     "execution_count": 36,
     "metadata": {},
     "output_type": "execute_result"
    }
   ],
   "source": [
    "\"{:b}\".format(100).count(\"0\")"
   ]
  },
  {
   "cell_type": "code",
   "execution_count": 37,
   "id": "d7acc390-91e1-49c4-82a1-92bab041fdb3",
   "metadata": {},
   "outputs": [
    {
     "data": {
      "text/plain": [
       "True"
      ]
     },
     "execution_count": 37,
     "metadata": {},
     "output_type": "execute_result"
    }
   ],
   "source": [
    "\"{:b}\".format(2).count(\"0\") == 1"
   ]
  },
  {
   "cell_type": "code",
   "execution_count": 38,
   "id": "e5003e44-656b-4252-931e-e7a5d61fb334",
   "metadata": {},
   "outputs": [
    {
     "data": {
      "text/plain": [
       "False"
      ]
     },
     "execution_count": 38,
     "metadata": {},
     "output_type": "execute_result"
    }
   ],
   "source": [
    "\"{:b}\".format(100).count(\"0\") == 1"
   ]
  },
  {
   "cell_type": "code",
   "execution_count": 43,
   "id": "3a87a7c3-d251-46b9-aef5-92b20791f69b",
   "metadata": {},
   "outputs": [
    {
     "name": "stdout",
     "output_type": "stream",
     "text": [
      "539\n"
     ]
    }
   ],
   "source": [
    "tot = 0\n",
    "output = [i for i in range(1,100+1) if \"{:b}\".format(i).count(\"0\") == 1]\n",
    "for i in output:\n",
    "    tot += i \n",
    "print(tot)"
   ]
  },
  {
   "cell_type": "code",
   "execution_count": 46,
   "id": "986e6021-a5b0-44d2-b8b3-d535e53d601a",
   "metadata": {},
   "outputs": [
    {
     "name": "stdout",
     "output_type": "stream",
     "text": [
      "2:10\n",
      "5:101\n",
      "6:110\n",
      "11:1011\n",
      "13:1101\n",
      "14:1110\n",
      "23:10111\n",
      "27:11011\n",
      "29:11101\n",
      "30:11110\n",
      "47:101111\n",
      "55:110111\n",
      "59:111011\n",
      "61:111101\n",
      "62:111110\n",
      "95:1011111\n",
      "합계: 539\n"
     ]
    }
   ],
   "source": [
    "for i in output:\n",
    "    print(\"{}:{}\".format(i,\"{:b}\".format(i)))\n",
    "print(\"합계:\", sum(output))    "
   ]
  },
  {
   "cell_type": "code",
   "execution_count": null,
   "id": "382d0c62-93af-44a7-9433-5cba04bee6de",
   "metadata": {},
   "outputs": [],
   "source": [
    "# 1부터 100까지 수 중에서 숫자 맞추기 게임(up and down)"
   ]
  },
  {
   "cell_type": "code",
   "execution_count": null,
   "id": "49e73c88-0f4e-4072-9521-803cb8da899b",
   "metadata": {},
   "outputs": [],
   "source": [
    "#  두개의 숫자가 필요함\n",
    "#  1) 정답 숫자\n",
    "#  2) 예측하는 숫자"
   ]
  },
  {
   "cell_type": "code",
   "execution_count": null,
   "id": "331ec76c-2d86-4e48-9bdf-0db99d71bda4",
   "metadata": {},
   "outputs": [],
   "source": [
    "import random\n",
    "# secret_number = 30\n",
    "# guess = int(input(\"당신이 예측하는 숫자는?\"))\n",
    "# i = 1\n",
    "# while i <= 10 :\n",
    "#     if secret_number > guess :\n",
    "#        print(\"당신이 입력한 숫자는 비밀의 키보다 작습니다.\")\n",
    "#     elif secret_number < guess :\n",
    "#         print(\"당신이 입력한 숫자는 비밀의 키보다 큽니다.\")\n",
    "#     else:\n",
    "#         print(\"정답입니다\")\n",
    "#         break\n",
    "#     i+=1        "
   ]
  },
  {
   "cell_type": "code",
   "execution_count": 61,
   "id": "f64ade57-9162-4ba5-8425-1bb5854e8962",
   "metadata": {},
   "outputs": [
    {
     "name": "stdout",
     "output_type": "stream",
     "text": [
      "정답 93\n"
     ]
    },
    {
     "name": "stdin",
     "output_type": "stream",
     "text": [
      "당신이 예측하는 숫자는? 1\n"
     ]
    },
    {
     "name": "stdout",
     "output_type": "stream",
     "text": [
      "당신이 입력한 숫자는 비밀의 키보다 작습니다.\n"
     ]
    },
    {
     "name": "stdin",
     "output_type": "stream",
     "text": [
      "당신이 예측하는 숫자는? 5\n"
     ]
    },
    {
     "name": "stdout",
     "output_type": "stream",
     "text": [
      "당신이 입력한 숫자는 비밀의 키보다 작습니다.\n"
     ]
    },
    {
     "name": "stdin",
     "output_type": "stream",
     "text": [
      "당신이 예측하는 숫자는? 6\n"
     ]
    },
    {
     "name": "stdout",
     "output_type": "stream",
     "text": [
      "당신이 입력한 숫자는 비밀의 키보다 작습니다.\n"
     ]
    },
    {
     "name": "stdin",
     "output_type": "stream",
     "text": [
      "당신이 예측하는 숫자는? 9\n"
     ]
    },
    {
     "name": "stdout",
     "output_type": "stream",
     "text": [
      "당신이 입력한 숫자는 비밀의 키보다 작습니다.\n"
     ]
    },
    {
     "name": "stdin",
     "output_type": "stream",
     "text": [
      "당신이 예측하는 숫자는? 7\n"
     ]
    },
    {
     "name": "stdout",
     "output_type": "stream",
     "text": [
      "당신이 입력한 숫자는 비밀의 키보다 작습니다.\n",
      "게임 끝\n"
     ]
    }
   ],
   "source": [
    "secret_number = random.randint(1,100)\n",
    "print(\"정답\", secret_number)\n",
    "i = 1\n",
    "while i <= 5:\n",
    "    guess = int(input(\"당신이 예측하는 숫자는?\"))\n",
    "    if secret_number > guess :\n",
    "        print(\"당신이 입력한 숫자는 비밀의 키보다 작습니다.\")\n",
    "    elif secret_number < guess :\n",
    "        print(\"당신이 입력한 숫자는 비밀의 키보다 큽니다.\")\n",
    "    else:\n",
    "        print(\"정답입니다\")\n",
    "        break\n",
    "    i=i+1\n",
    "print(\"게임 끝\")"
   ]
  },
  {
   "cell_type": "code",
   "execution_count": 62,
   "id": "0aa23dc4-d68a-49a0-8741-843e6110dc9b",
   "metadata": {},
   "outputs": [],
   "source": [
    "# 마무리 도전문제 "
   ]
  },
  {
   "cell_type": "code",
   "execution_count": 63,
   "id": "8290ae8a-bbe7-4ea7-8451-6f8ffaa9b778",
   "metadata": {},
   "outputs": [],
   "source": [
    "li = [1,2,3,4,1,2,3,1,4,1,2,3]"
   ]
  },
  {
   "cell_type": "code",
   "execution_count": 64,
   "id": "be0cb358-8b29-474a-b970-dfa6d6615b5d",
   "metadata": {},
   "outputs": [],
   "source": [
    "# 갯수 구하는 문제"
   ]
  },
  {
   "cell_type": "code",
   "execution_count": 65,
   "id": "2ed4db04-d8fd-4a8a-ade0-b9e00df88890",
   "metadata": {},
   "outputs": [],
   "source": [
    "cnt={}"
   ]
  },
  {
   "cell_type": "code",
   "execution_count": 67,
   "id": "41350fb8-2002-4767-bbf6-fe28b014ceeb",
   "metadata": {},
   "outputs": [],
   "source": [
    "#  cnt[키]=cnt[키]+1"
   ]
  },
  {
   "cell_type": "code",
   "execution_count": 69,
   "id": "433820a6-e80e-464b-b5b4-94ef35c55e6c",
   "metadata": {},
   "outputs": [],
   "source": [
    "# 있냐 없냐라는 판단"
   ]
  },
  {
   "cell_type": "code",
   "execution_count": 71,
   "id": "c2d56b3b-1d13-473a-aad5-27d4203a6e94",
   "metadata": {},
   "outputs": [],
   "source": [
    "# if "
   ]
  },
  {
   "cell_type": "code",
   "execution_count": 72,
   "id": "5ad3c9a3-d4d4-4f3c-9f61-f275ed85c228",
   "metadata": {},
   "outputs": [
    {
     "data": {
      "text/plain": [
       "True"
      ]
     },
     "execution_count": 72,
     "metadata": {},
     "output_type": "execute_result"
    }
   ],
   "source": [
    "1 in li"
   ]
  },
  {
   "cell_type": "code",
   "execution_count": 84,
   "id": "259bcc9a-cfb8-4bfc-bb80-ce2bb36e008b",
   "metadata": {},
   "outputs": [],
   "source": [
    "for i in li:\n",
    "    if i in cnt:\n",
    "        cnt[i]=cnt[i]+1\n",
    "    else :\n",
    "        cnt[i]=1       "
   ]
  },
  {
   "cell_type": "code",
   "execution_count": 86,
   "id": "b7f4ea20-04e0-44ef-b0c0-fcc09e4c5335",
   "metadata": {},
   "outputs": [
    {
     "data": {
      "text/plain": [
       "4"
      ]
     },
     "execution_count": 86,
     "metadata": {},
     "output_type": "execute_result"
    }
   ],
   "source": [
    "len(cnt)"
   ]
  },
  {
   "cell_type": "code",
   "execution_count": 75,
   "id": "89708774-fa20-4f78-a4ab-5fb132bf0fe6",
   "metadata": {},
   "outputs": [],
   "source": [
    "# 딕셔너리 복습"
   ]
  },
  {
   "cell_type": "code",
   "execution_count": 76,
   "id": "83e88b5c-89d2-466a-a2d1-84b4ddcbfdcf",
   "metadata": {},
   "outputs": [],
   "source": [
    "di = {'a':'apple'}"
   ]
  },
  {
   "cell_type": "code",
   "execution_count": 77,
   "id": "c86d401b-a40d-495e-8bbd-f211333fb743",
   "metadata": {},
   "outputs": [],
   "source": [
    "di['b']='banana'"
   ]
  },
  {
   "cell_type": "code",
   "execution_count": 78,
   "id": "fed148c4-ab2b-435e-b19c-e79d533f43f2",
   "metadata": {},
   "outputs": [
    {
     "data": {
      "text/plain": [
       "{'a': 'apple', 'b': 'banana'}"
      ]
     },
     "execution_count": 78,
     "metadata": {},
     "output_type": "execute_result"
    }
   ],
   "source": [
    "di"
   ]
  },
  {
   "cell_type": "code",
   "execution_count": 80,
   "id": "974c856e-771f-4224-8668-04ba0e0e03e2",
   "metadata": {},
   "outputs": [],
   "source": [
    "#  간결한 코드"
   ]
  },
  {
   "cell_type": "code",
   "execution_count": 87,
   "id": "da10ff21-ba0e-4900-9ef3-252b82bb71c4",
   "metadata": {},
   "outputs": [
    {
     "data": {
      "text/plain": [
       "[1, 2, 3, 4, 1, 2, 3, 1, 4, 1, 2, 3]"
      ]
     },
     "execution_count": 87,
     "metadata": {},
     "output_type": "execute_result"
    }
   ],
   "source": [
    "li"
   ]
  },
  {
   "cell_type": "code",
   "execution_count": 88,
   "id": "640af431-1d95-48a5-92e2-27986b1e772d",
   "metadata": {},
   "outputs": [],
   "source": [
    "# help(set) 집합(수학에서 집합은 중복이 되지 않게하고, 순서가 없다.)"
   ]
  },
  {
   "cell_type": "code",
   "execution_count": 89,
   "id": "210c46f6-e825-4d3e-b4cb-f5dafdc920ba",
   "metadata": {},
   "outputs": [
    {
     "data": {
      "text/plain": [
       "{1, 2, 3, 4}"
      ]
     },
     "execution_count": 89,
     "metadata": {},
     "output_type": "execute_result"
    }
   ],
   "source": [
    "set(li)"
   ]
  },
  {
   "cell_type": "code",
   "execution_count": 90,
   "id": "0d15109b-626a-44c8-b870-1e6614e29778",
   "metadata": {},
   "outputs": [
    {
     "data": {
      "text/plain": [
       "{'apple', 'banana'}"
      ]
     },
     "execution_count": 90,
     "metadata": {},
     "output_type": "execute_result"
    }
   ],
   "source": [
    "set([\"apple\",\"apple\",\"banana\"])"
   ]
  },
  {
   "cell_type": "code",
   "execution_count": 91,
   "id": "9c66b0b6-330b-490d-9071-6662b650a2ca",
   "metadata": {},
   "outputs": [
    {
     "data": {
      "text/plain": [
       "4"
      ]
     },
     "execution_count": 91,
     "metadata": {},
     "output_type": "execute_result"
    }
   ],
   "source": [
    "len(set(li))"
   ]
  },
  {
   "cell_type": "code",
   "execution_count": 92,
   "id": "e6c5e53f-2baf-4771-b2e3-fa4985f6dd2c",
   "metadata": {},
   "outputs": [
    {
     "name": "stdout",
     "output_type": "stream",
     "text": [
      "[1, 2, 3, 4, 1, 2, 3, 1, 4, 1, 2, 3]\n"
     ]
    }
   ],
   "source": [
    "print(li)"
   ]
  },
  {
   "cell_type": "code",
   "execution_count": 94,
   "id": "34efd1e1-2eb9-4f2f-860e-302a6e30d99f",
   "metadata": {},
   "outputs": [
    {
     "name": "stdout",
     "output_type": "stream",
     "text": [
      "[1, 2, 3, 4, 1, 2, 3, 1, 4, 1, 2, 3]\n"
     ]
    }
   ],
   "source": [
    "print(f\"{li}\")"
   ]
  },
  {
   "cell_type": "code",
   "execution_count": 96,
   "id": "75ba1761-22e5-43cc-a2ca-8e27fcc18ebf",
   "metadata": {},
   "outputs": [
    {
     "name": "stdout",
     "output_type": "stream",
     "text": [
      "[1, 2, 3, 4, 1, 2, 3, 1, 4, 1, 2, 3]에서 사용된 숫자의 종류는 4개 입니다.\n"
     ]
    }
   ],
   "source": [
    "print(f\"{li}에서 사용된 숫자의 종류는 {len(set(li))}개 입니다.\")"
   ]
  },
  {
   "cell_type": "code",
   "execution_count": 97,
   "id": "a6b583da-67fc-433b-8638-43ba5d6b0d73",
   "metadata": {},
   "outputs": [],
   "source": [
    "li2=['apple','apple','banana']"
   ]
  },
  {
   "cell_type": "code",
   "execution_count": 98,
   "id": "05fe89cf-9d27-4778-a018-2174d6b47bdf",
   "metadata": {},
   "outputs": [
    {
     "name": "stdout",
     "output_type": "stream",
     "text": [
      "['apple', 'apple', 'banana']에서 사용된 중복된 단어 제거 후 사용된 단어의 갯수는 2개 입니다.\n"
     ]
    }
   ],
   "source": [
    "print(f\"{li2}에서 사용된 중복된 단어 제거 후 사용된 단어의 갯수는 {len(set(li2))}개 입니다.\")"
   ]
  },
  {
   "cell_type": "code",
   "execution_count": 100,
   "id": "63f6f44d-a8d7-47bf-8015-f676ce892dfb",
   "metadata": {},
   "outputs": [],
   "source": [
    "#  염기의 개수"
   ]
  },
  {
   "cell_type": "code",
   "execution_count": 101,
   "id": "ececc897-251a-4aa5-a72d-5f5018e81eba",
   "metadata": {},
   "outputs": [
    {
     "name": "stdin",
     "output_type": "stream",
     "text": [
      "염기 서열을 입력해주세요 ctacaatgtcagtatacccattgcattagccgg\n"
     ]
    }
   ],
   "source": [
    "str1=input(\"염기 서열을 입력해주세요\")\n",
    "cnt ={}\n",
    "for i in str1:\n",
    "    if i in cnt:\n",
    "        cnt[i]=cnt[i]+1\n",
    "    else :\n",
    "        cnt[i]=1       "
   ]
  },
  {
   "cell_type": "code",
   "execution_count": 102,
   "id": "6844e297-aa3a-423b-a3a3-de80213f7e02",
   "metadata": {},
   "outputs": [
    {
     "data": {
      "text/plain": [
       "{'c': 9, 't': 9, 'a': 9, 'g': 6}"
      ]
     },
     "execution_count": 102,
     "metadata": {},
     "output_type": "execute_result"
    }
   ],
   "source": [
    "cnt"
   ]
  },
  {
   "cell_type": "code",
   "execution_count": 103,
   "id": "fc13c4d5-f679-45cd-88eb-6c4e38197cf9",
   "metadata": {},
   "outputs": [],
   "source": [
    "#  도전문제 "
   ]
  },
  {
   "cell_type": "code",
   "execution_count": 105,
   "id": "74d4a927-00a0-4b26-8555-cd6dbadf0e67",
   "metadata": {},
   "outputs": [
    {
     "name": "stdin",
     "output_type": "stream",
     "text": [
      "염기 서열을 입력해주세요 ctacaatgtcagtatacccattgcattagccgg\n"
     ]
    }
   ],
   "source": [
    "dna=input(\"염기 서열을 입력해주세요\")"
   ]
  },
  {
   "cell_type": "code",
   "execution_count": 106,
   "id": "166f9b42-9cb0-4c16-8a38-9bbba897ac4b",
   "metadata": {},
   "outputs": [
    {
     "data": {
      "text/plain": [
       "33"
      ]
     },
     "execution_count": 106,
     "metadata": {},
     "output_type": "execute_result"
    }
   ],
   "source": [
    "len(dna)"
   ]
  },
  {
   "cell_type": "code",
   "execution_count": 108,
   "id": "bf574223-66fa-44cd-a693-a56c7f408544",
   "metadata": {},
   "outputs": [
    {
     "name": "stdout",
     "output_type": "stream",
     "text": [
      "c t a c a a t g t c a g t a t a c c c a t t g c a t t a g c c g g "
     ]
    }
   ],
   "source": [
    "for i in range(0,len(dna)):\n",
    "    print(dna[i],end=\" \")"
   ]
  },
  {
   "cell_type": "code",
   "execution_count": 109,
   "id": "0b066d97-ae5b-4b3c-b08a-a45c2162b277",
   "metadata": {},
   "outputs": [
    {
     "name": "stdout",
     "output_type": "stream",
     "text": [
      "cta caa tgt cag tat acc cat tgc att agc cgg "
     ]
    }
   ],
   "source": [
    "for i in range(0,len(dna),3):\n",
    "    print(dna[i:i+3],end=\" \")"
   ]
  },
  {
   "cell_type": "code",
   "execution_count": 110,
   "id": "8510df34-4cd2-4811-8e91-b0d3df6e3bee",
   "metadata": {},
   "outputs": [
    {
     "name": "stdin",
     "output_type": "stream",
     "text": [
      "염기 서열을 입력해주세요 ctacaatgtcagtatacccattgcattagccgg\n"
     ]
    }
   ],
   "source": [
    "dna=input(\"염기 서열을 입력해주세요\")\n",
    "cnt ={}\n",
    "for i in range(0,len(dna),3):\n",
    "    codon=dna[i:i+3]\n",
    "    if len(codon) == 3:\n",
    "        if codon in cnt:\n",
    "            cnt[codon]=cnt[codon]+1\n",
    "        else :\n",
    "            cnt[codon]=1    "
   ]
  },
  {
   "cell_type": "code",
   "execution_count": 111,
   "id": "65921766-dc8c-4db5-8e77-076a8b151c5e",
   "metadata": {},
   "outputs": [
    {
     "data": {
      "text/plain": [
       "{'cta': 1,\n",
       " 'caa': 1,\n",
       " 'tgt': 1,\n",
       " 'cag': 1,\n",
       " 'tat': 1,\n",
       " 'acc': 1,\n",
       " 'cat': 1,\n",
       " 'tgc': 1,\n",
       " 'att': 1,\n",
       " 'agc': 1,\n",
       " 'cgg': 1}"
      ]
     },
     "execution_count": 111,
     "metadata": {},
     "output_type": "execute_result"
    }
   ],
   "source": [
    "cnt"
   ]
  },
  {
   "cell_type": "code",
   "execution_count": 112,
   "id": "e2a259d1-42f3-477d-829f-407e95f3e082",
   "metadata": {},
   "outputs": [
    {
     "name": "stdin",
     "output_type": "stream",
     "text": [
      "염기 서열을 입력해주세요 ctaca\n"
     ]
    }
   ],
   "source": [
    "dna=input(\"염기 서열을 입력해주세요\")\n",
    "cnt ={}\n",
    "for i in range(0,len(dna),3):\n",
    "    codon=dna[i:i+3]\n",
    "    if len(codon) == 3:\n",
    "        if codon in cnt:\n",
    "            cnt[codon]=cnt[codon]+1\n",
    "        else :\n",
    "            cnt[codon]=1  "
   ]
  },
  {
   "cell_type": "code",
   "execution_count": 113,
   "id": "5c130edf-bf99-4eb9-95d4-1ca9c0b5730f",
   "metadata": {},
   "outputs": [
    {
     "data": {
      "text/plain": [
       "{'cta': 1}"
      ]
     },
     "execution_count": 113,
     "metadata": {},
     "output_type": "execute_result"
    }
   ],
   "source": [
    "cnt"
   ]
  },
  {
   "cell_type": "code",
   "execution_count": 114,
   "id": "fcb30f2b-ab8d-462e-b325-42ee1749d1ed",
   "metadata": {},
   "outputs": [],
   "source": [
    "#  리스트 평탄화 "
   ]
  },
  {
   "cell_type": "code",
   "execution_count": 115,
   "id": "ff16a848-7178-4d34-bce3-5b49c6f4043d",
   "metadata": {},
   "outputs": [
    {
     "name": "stdout",
     "output_type": "stream",
     "text": [
      "[1, 2, 3, 4, 5, 6, 7, 8, 9]\n"
     ]
    }
   ],
   "source": [
    "li = [1,2,[3,4],5,[6,7],[8,9]]\n",
    "li_new=[]\n",
    "\n",
    "for i in li:\n",
    "    if type(i) is list:\n",
    "        for j in i:\n",
    "            li_new.append(j)\n",
    "    else:\n",
    "        li_new.append(i)         \n",
    "print(li_new)"
   ]
  },
  {
   "cell_type": "code",
   "execution_count": null,
   "id": "30460bd2-1d2c-4489-aa9f-5eca66cfaf61",
   "metadata": {},
   "outputs": [],
   "source": []
  }
 ],
 "metadata": {
  "kernelspec": {
   "display_name": "Python 3 (ipykernel)",
   "language": "python",
   "name": "python3"
  },
  "language_info": {
   "codemirror_mode": {
    "name": "ipython",
    "version": 3
   },
   "file_extension": ".py",
   "mimetype": "text/x-python",
   "name": "python",
   "nbconvert_exporter": "python",
   "pygments_lexer": "ipython3",
   "version": "3.12.4"
  }
 },
 "nbformat": 4,
 "nbformat_minor": 5
}
