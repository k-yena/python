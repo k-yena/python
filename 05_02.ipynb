{
 "cells": [
  {
   "cell_type": "code",
   "execution_count": 1,
   "id": "b94c5c81-ba87-4000-8933-db1db57df6e3",
   "metadata": {},
   "outputs": [],
   "source": [
    "# 재귀(recursion) 함수"
   ]
  },
  {
   "cell_type": "code",
   "execution_count": 2,
   "id": "4f411a70-7cc4-4fe3-a11f-2b33269fd6e5",
   "metadata": {},
   "outputs": [],
   "source": [
    "def f1():\n",
    "    print(\"hi\")\n",
    "    h1()"
   ]
  },
  {
   "cell_type": "code",
   "execution_count": 3,
   "id": "37dec196-53e3-4c8e-82fb-32e4538a9865",
   "metadata": {},
   "outputs": [
    {
     "name": "stdout",
     "output_type": "stream",
     "text": [
      "hi\n"
     ]
    },
    {
     "ename": "NameError",
     "evalue": "name 'h1' is not defined",
     "output_type": "error",
     "traceback": [
      "\u001b[1;31m---------------------------------------------------------------------------\u001b[0m",
      "\u001b[1;31mNameError\u001b[0m                                 Traceback (most recent call last)",
      "Cell \u001b[1;32mIn[3], line 1\u001b[0m\n\u001b[1;32m----> 1\u001b[0m f1()\n",
      "Cell \u001b[1;32mIn[2], line 3\u001b[0m, in \u001b[0;36mf1\u001b[1;34m()\u001b[0m\n\u001b[0;32m      1\u001b[0m \u001b[38;5;28;01mdef\u001b[39;00m \u001b[38;5;21mf1\u001b[39m():\n\u001b[0;32m      2\u001b[0m     \u001b[38;5;28mprint\u001b[39m(\u001b[38;5;124m\"\u001b[39m\u001b[38;5;124mhi\u001b[39m\u001b[38;5;124m\"\u001b[39m)\n\u001b[1;32m----> 3\u001b[0m     h1()\n",
      "\u001b[1;31mNameError\u001b[0m: name 'h1' is not defined"
     ]
    }
   ],
   "source": [
    "f1()"
   ]
  },
  {
   "cell_type": "code",
   "execution_count": 5,
   "id": "c52ab28d-6065-4951-a090-a1365e4aec3f",
   "metadata": {},
   "outputs": [],
   "source": [
    "# 팩토리얼 함수 정의"
   ]
  },
  {
   "cell_type": "code",
   "execution_count": null,
   "id": "bfa1c2ed-54fe-45b5-9741-ac43745335f6",
   "metadata": {},
   "outputs": [],
   "source": []
  },
  {
   "cell_type": "code",
   "execution_count": 2,
   "id": "9e729865-0832-4391-b47f-caa323c267e0",
   "metadata": {},
   "outputs": [],
   "source": [
    "def factorial(n):\n",
    "    if n ==1:\n",
    "        return 1\n",
    "    return n*factorial(n-1)"
   ]
  },
  {
   "cell_type": "code",
   "execution_count": 3,
   "id": "b4153f6e-f5ec-408b-b14e-4dc0b9e45d2b",
   "metadata": {},
   "outputs": [
    {
     "data": {
      "text/plain": [
       "2"
      ]
     },
     "execution_count": 3,
     "metadata": {},
     "output_type": "execute_result"
    }
   ],
   "source": [
    "factorial(2)"
   ]
  },
  {
   "cell_type": "code",
   "execution_count": 4,
   "id": "ff02e0fb-ec27-4206-9d20-dd0a12e8805c",
   "metadata": {},
   "outputs": [
    {
     "data": {
      "text/plain": [
       "6"
      ]
     },
     "execution_count": 4,
     "metadata": {},
     "output_type": "execute_result"
    }
   ],
   "source": [
    "factorial(3)"
   ]
  },
  {
   "cell_type": "code",
   "execution_count": 6,
   "id": "9b46756c-afbf-46dc-99b3-ab72f3943b68",
   "metadata": {},
   "outputs": [],
   "source": [
    "# 피보나치 : 첫째 및 둘째 항이 1이며 그 뒤의 모든 항은 바로 앞 두 항의 합인 수열"
   ]
  },
  {
   "cell_type": "code",
   "execution_count": 7,
   "id": "07f2f033-8edb-4f7d-ac0b-30ffdff33265",
   "metadata": {},
   "outputs": [],
   "source": [
    "def fibonacci(n):\n",
    "    if n == 1:\n",
    "        return 1\n",
    "    if n == 2:\n",
    "        return 1\n",
    "    return fibonacci(n-1)+fibonacci(n-2)   # n번째 일 때 n = 그 앞 두 항을 더한 값(n-1)+(n-2) "
   ]
  },
  {
   "cell_type": "code",
   "execution_count": 10,
   "id": "fa1f337d-1036-40b4-921f-72d6d1bac8bf",
   "metadata": {},
   "outputs": [
    {
     "data": {
      "text/plain": [
       "2"
      ]
     },
     "execution_count": 10,
     "metadata": {},
     "output_type": "execute_result"
    }
   ],
   "source": [
    "fibonacci(3)"
   ]
  },
  {
   "cell_type": "code",
   "execution_count": 11,
   "id": "df58d04d-076c-4078-a9ef-63ba4a21c771",
   "metadata": {},
   "outputs": [],
   "source": [
    "# 메모화"
   ]
  },
  {
   "cell_type": "code",
   "execution_count": 20,
   "id": "7ab61fea-6ca2-42c9-b560-0c89a8fc0f63",
   "metadata": {},
   "outputs": [],
   "source": [
    "dictionary = {\n",
    "    1:1,\n",
    "    2:1\n",
    "}"
   ]
  },
  {
   "cell_type": "code",
   "execution_count": 26,
   "id": "1ddb34b3-d8a1-4dd4-8d8a-c956f59ef6ef",
   "metadata": {},
   "outputs": [],
   "source": [
    "def fibonacci(n):\n",
    "    if n in dictionary:\n",
    "        return dictionary[n]\n",
    "    else:\n",
    "        output = fibonacci(n-1)+fibonacci(n-2)\n",
    "        dictionary[n] = output\n",
    "        return output"
   ]
  },
  {
   "cell_type": "code",
   "execution_count": 27,
   "id": "99ef0efc-523d-492a-8b48-706f0b265fcb",
   "metadata": {},
   "outputs": [
    {
     "data": {
      "text/plain": [
       "3"
      ]
     },
     "execution_count": 27,
     "metadata": {},
     "output_type": "execute_result"
    }
   ],
   "source": [
    "fibonacci(4)"
   ]
  },
  {
   "cell_type": "code",
   "execution_count": null,
   "id": "d0637f94-a76c-4a2c-be51-780c385553e8",
   "metadata": {},
   "outputs": [],
   "source": []
  },
  {
   "cell_type": "code",
   "execution_count": null,
   "id": "92e20fae-d675-4d1d-8a92-892ddc0be1ed",
   "metadata": {},
   "outputs": [],
   "source": []
  }
 ],
 "metadata": {
  "kernelspec": {
   "display_name": "Python 3 (ipykernel)",
   "language": "python",
   "name": "python3"
  },
  "language_info": {
   "codemirror_mode": {
    "name": "ipython",
    "version": 3
   },
   "file_extension": ".py",
   "mimetype": "text/x-python",
   "name": "python",
   "nbconvert_exporter": "python",
   "pygments_lexer": "ipython3",
   "version": "3.12.4"
  }
 },
 "nbformat": 4,
 "nbformat_minor": 5
}
