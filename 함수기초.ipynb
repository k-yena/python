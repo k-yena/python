{
 "cells": [
  {
   "cell_type": "code",
   "execution_count": 1,
   "id": "3895fab5-2eda-4c55-9d06-512919386189",
   "metadata": {},
   "outputs": [],
   "source": [
    " # 함수 기초 4가지"
   ]
  },
  {
   "cell_type": "code",
   "execution_count": 2,
   "id": "fcd23096-859a-40a7-8ad5-dca1e2789abe",
   "metadata": {},
   "outputs": [],
   "source": [
    "#  1) 매개변수 x , 리턴값 x"
   ]
  },
  {
   "cell_type": "code",
   "execution_count": 3,
   "id": "8463af5c-3cdb-49aa-9697-7c1234181688",
   "metadata": {},
   "outputs": [],
   "source": [
    "def yena1():\n",
    "    print(\"hi\")"
   ]
  },
  {
   "cell_type": "code",
   "execution_count": 4,
   "id": "d5953ce3-2d80-41a9-a36a-52663cd5b9d0",
   "metadata": {},
   "outputs": [
    {
     "name": "stdout",
     "output_type": "stream",
     "text": [
      "hi\n"
     ]
    }
   ],
   "source": [
    "yena1()"
   ]
  },
  {
   "cell_type": "code",
   "execution_count": null,
   "id": "bffa13f0-7f61-4679-860a-ab6a2db62c5e",
   "metadata": {},
   "outputs": [],
   "source": [
    "# 매개변수 o. 리턴값 x"
   ]
  },
  {
   "cell_type": "code",
   "execution_count": 5,
   "id": "08c5f632-18c2-4515-82a8-498a9bb2a598",
   "metadata": {},
   "outputs": [],
   "source": [
    "def yena2(gift):\n",
    "    print(gift+\"를 받음\")   "
   ]
  },
  {
   "cell_type": "code",
   "execution_count": 7,
   "id": "2ff734e1-06c4-4215-9950-bc1a954872df",
   "metadata": {},
   "outputs": [
    {
     "name": "stdout",
     "output_type": "stream",
     "text": [
      "사탕를 받음\n"
     ]
    }
   ],
   "source": [
    "yena2(\"사탕\")"
   ]
  },
  {
   "cell_type": "code",
   "execution_count": null,
   "id": "359e4a7a-c113-4063-a7ff-0a5a4e5712ab",
   "metadata": {},
   "outputs": [],
   "source": [
    "# 매개변수 x, 리턴값 o"
   ]
  },
  {
   "cell_type": "code",
   "execution_count": 8,
   "id": "4fc57773-a521-4296-aadb-fdaf0e1de9db",
   "metadata": {},
   "outputs": [],
   "source": [
    "def yena3():\n",
    "    return \"집\"\n",
    "result1=yena3()    "
   ]
  },
  {
   "cell_type": "code",
   "execution_count": 9,
   "id": "01ac76d3-4639-400f-b097-352ddc51c5d4",
   "metadata": {},
   "outputs": [
    {
     "data": {
      "text/plain": [
       "'집'"
      ]
     },
     "execution_count": 9,
     "metadata": {},
     "output_type": "execute_result"
    }
   ],
   "source": [
    "result1"
   ]
  },
  {
   "cell_type": "code",
   "execution_count": null,
   "id": "1bc042b6-0dc3-44e1-b35f-3fc3305f90d3",
   "metadata": {},
   "outputs": [],
   "source": [
    "# 매개변수 o, 리턴값 o"
   ]
  },
  {
   "cell_type": "code",
   "execution_count": 10,
   "id": "0afe50c8-1d2e-4de0-a79b-3515066b9267",
   "metadata": {},
   "outputs": [],
   "source": [
    "def yena4(gift):\n",
    "    print(gift+\"를 받음\")\n",
    "    return \"자동차\""
   ]
  },
  {
   "cell_type": "code",
   "execution_count": 12,
   "id": "36cc7bd1-c55b-430e-b4f2-23378e422a86",
   "metadata": {},
   "outputs": [
    {
     "name": "stdout",
     "output_type": "stream",
     "text": [
      "땅를 받음\n"
     ]
    }
   ],
   "source": [
    "result2=yena4(\"땅\")"
   ]
  },
  {
   "cell_type": "code",
   "execution_count": 13,
   "id": "ac08285b-b0fa-44dd-a2b0-26ac2337c4cd",
   "metadata": {},
   "outputs": [
    {
     "data": {
      "text/plain": [
       "'자동차'"
      ]
     },
     "execution_count": 13,
     "metadata": {},
     "output_type": "execute_result"
    }
   ],
   "source": [
    "result2"
   ]
  },
  {
   "cell_type": "code",
   "execution_count": 14,
   "id": "cc215ece-1497-4b7e-b750-5ad5432ac3f6",
   "metadata": {},
   "outputs": [],
   "source": [
    "#  함수의 다양한 매개변수"
   ]
  },
  {
   "cell_type": "code",
   "execution_count": 3,
   "id": "6e385d44-36ae-474f-9936-d238c7270f71",
   "metadata": {},
   "outputs": [],
   "source": [
    "def f5(*values):      \n",
    "    print(values)"
   ]
  },
  {
   "cell_type": "code",
   "execution_count": 8,
   "id": "ddacdae0-0aa6-4b82-b039-259f2b8b24c0",
   "metadata": {},
   "outputs": [
    {
     "name": "stdout",
     "output_type": "stream",
     "text": [
      "()\n"
     ]
    }
   ],
   "source": [
    "f5()     # (*value) type은 튜플"
   ]
  },
  {
   "cell_type": "code",
   "execution_count": 5,
   "id": "b8455423-2120-4f24-bbad-c5cfc559fe57",
   "metadata": {},
   "outputs": [
    {
     "name": "stdout",
     "output_type": "stream",
     "text": [
      "(1,)\n"
     ]
    }
   ],
   "source": [
    "f5(1)   # 매개변수가 1개인 경우 찍히는 형태 기억해두기"
   ]
  },
  {
   "cell_type": "code",
   "execution_count": 6,
   "id": "46f8b171-6ef8-4b8b-a8a8-2d617b59410c",
   "metadata": {},
   "outputs": [
    {
     "name": "stdout",
     "output_type": "stream",
     "text": [
      "(1, 8)\n"
     ]
    }
   ],
   "source": [
    "f5(1,8)"
   ]
  },
  {
   "cell_type": "code",
   "execution_count": 7,
   "id": "928e03e6-785f-48b0-9589-bfee1959fa65",
   "metadata": {},
   "outputs": [
    {
     "name": "stdout",
     "output_type": "stream",
     "text": [
      "(1, 8, 9)\n"
     ]
    }
   ],
   "source": [
    "f5(1,8,9)"
   ]
  },
  {
   "cell_type": "code",
   "execution_count": 9,
   "id": "461f9a3d-4bd3-4d64-af6e-ca6246e1f38e",
   "metadata": {},
   "outputs": [],
   "source": [
    "def f6(gift, *values):      # def 함수명(일반 매개변수, 가변 매개변수):\n",
    "    print(gift,values)"
   ]
  },
  {
   "cell_type": "code",
   "execution_count": 23,
   "id": "0601f1db-db85-448d-99e9-8edeb3fa1a10",
   "metadata": {},
   "outputs": [
    {
     "name": "stdout",
     "output_type": "stream",
     "text": [
      "수박 ()\n"
     ]
    }
   ],
   "source": [
    "f6(\"수박\")"
   ]
  },
  {
   "cell_type": "code",
   "execution_count": 24,
   "id": "fde9fdac-fe4e-4198-93a1-61e18374abed",
   "metadata": {},
   "outputs": [
    {
     "name": "stdout",
     "output_type": "stream",
     "text": [
      "수박 (1,)\n"
     ]
    }
   ],
   "source": [
    "f6(\"수박\",1)"
   ]
  },
  {
   "cell_type": "code",
   "execution_count": 25,
   "id": "96689b22-0597-4ff2-9966-d268a2d0d44b",
   "metadata": {},
   "outputs": [
    {
     "name": "stdout",
     "output_type": "stream",
     "text": [
      "수박 (1, 8)\n"
     ]
    }
   ],
   "source": [
    "f6(\"수박\",1,8)"
   ]
  },
  {
   "cell_type": "code",
   "execution_count": null,
   "id": "63579c2d-318f-407b-bf3d-3afbf4d05e55",
   "metadata": {},
   "outputs": [],
   "source": [
    "#가변 매개변수 뒤에는 일반 매개변수 올 수 없음 \n",
    "#가변 매개변수는 하나만 사용할 수 있음"
   ]
  },
  {
   "cell_type": "code",
   "execution_count": 27,
   "id": "44dc034a-7534-42c4-82bd-de733eb97427",
   "metadata": {},
   "outputs": [],
   "source": [
    "def f7(*values, gift):\n",
    "    pass"
   ]
  },
  {
   "cell_type": "code",
   "execution_count": 28,
   "id": "5c6c22ce-2d7e-41ab-9ba8-58c117bcd66e",
   "metadata": {},
   "outputs": [],
   "source": [
    "def f7(*values, gift):\n",
    "    print(values, gift)"
   ]
  },
  {
   "cell_type": "code",
   "execution_count": 29,
   "id": "27382c73-ff12-403c-8d9f-62ed7bd12029",
   "metadata": {},
   "outputs": [
    {
     "ename": "TypeError",
     "evalue": "f7() missing 1 required keyword-only argument: 'gift'",
     "output_type": "error",
     "traceback": [
      "\u001b[1;31m---------------------------------------------------------------------------\u001b[0m",
      "\u001b[1;31mTypeError\u001b[0m                                 Traceback (most recent call last)",
      "Cell \u001b[1;32mIn[29], line 1\u001b[0m\n\u001b[1;32m----> 1\u001b[0m f7(\u001b[38;5;124m\"\u001b[39m\u001b[38;5;124m빵\u001b[39m\u001b[38;5;124m\"\u001b[39m)\n",
      "\u001b[1;31mTypeError\u001b[0m: f7() missing 1 required keyword-only argument: 'gift'"
     ]
    }
   ],
   "source": [
    "f7(\"빵\")"
   ]
  },
  {
   "cell_type": "code",
   "execution_count": null,
   "id": "67928bff-dc9b-4445-9ac2-90c1d7c59588",
   "metadata": {},
   "outputs": [],
   "source": [
    "# 기본 매개변수(기본값이 있는 매개변수 이므로 그 해당되는 매개변수자리에 실제 값을 넣어도 에러가 안나고\n",
    "# 기본값이 출력)"
   ]
  },
  {
   "cell_type": "code",
   "execution_count": 32,
   "id": "2cdbda8a-5866-46f6-a274-df5b71174d0d",
   "metadata": {},
   "outputs": [],
   "source": [
    "def f9(menu=\"빵\"):\n",
    "    print(menu)"
   ]
  },
  {
   "cell_type": "code",
   "execution_count": 33,
   "id": "348fe2de-2337-4359-9b5a-469ab94fa8c0",
   "metadata": {},
   "outputs": [
    {
     "name": "stdout",
     "output_type": "stream",
     "text": [
      "빵\n"
     ]
    }
   ],
   "source": [
    "f9()"
   ]
  },
  {
   "cell_type": "code",
   "execution_count": 34,
   "id": "16b9c80a-d430-4951-a74b-1fc9409b3e5e",
   "metadata": {},
   "outputs": [
    {
     "name": "stdout",
     "output_type": "stream",
     "text": [
      "밥\n"
     ]
    }
   ],
   "source": [
    "f9(\"밥\")"
   ]
  },
  {
   "cell_type": "code",
   "execution_count": 35,
   "id": "a93d7c3f-b066-4a6c-b587-22df88446dde",
   "metadata": {},
   "outputs": [
    {
     "name": "stdout",
     "output_type": "stream",
     "text": [
      "비빔밥\n"
     ]
    }
   ],
   "source": [
    "f9(menu=\"비빔밥\")"
   ]
  },
  {
   "cell_type": "code",
   "execution_count": 36,
   "id": "0f51112f-fd39-49be-bd8a-6f3c2510462a",
   "metadata": {},
   "outputs": [
    {
     "ename": "TypeError",
     "evalue": "f9() takes from 0 to 1 positional arguments but 2 were given",
     "output_type": "error",
     "traceback": [
      "\u001b[1;31m---------------------------------------------------------------------------\u001b[0m",
      "\u001b[1;31mTypeError\u001b[0m                                 Traceback (most recent call last)",
      "Cell \u001b[1;32mIn[36], line 1\u001b[0m\n\u001b[1;32m----> 1\u001b[0m f9(\u001b[38;5;124m\"\u001b[39m\u001b[38;5;124m밥\u001b[39m\u001b[38;5;124m\"\u001b[39m,\u001b[38;5;124m\"\u001b[39m\u001b[38;5;124m두부\u001b[39m\u001b[38;5;124m\"\u001b[39m)\n",
      "\u001b[1;31mTypeError\u001b[0m: f9() takes from 0 to 1 positional arguments but 2 were given"
     ]
    }
   ],
   "source": [
    "f9(\"밥\",\"두부\")     # 처음 정의된 매개변수 갯수가 1개 이므로 1개만 찍을 수 있다."
   ]
  },
  {
   "cell_type": "code",
   "execution_count": 37,
   "id": "1b4c2a56-cbcd-4924-820e-e4fec018284e",
   "metadata": {},
   "outputs": [],
   "source": [
    "def f10(gift, menu=\"밥\"):\n",
    "    print(gift, menu)"
   ]
  },
  {
   "cell_type": "code",
   "execution_count": 39,
   "id": "0bf475b8-bf84-4d10-ad33-b6072c6720ff",
   "metadata": {},
   "outputs": [
    {
     "name": "stdout",
     "output_type": "stream",
     "text": [
      "초콜릿 밥\n"
     ]
    }
   ],
   "source": [
    "f10(\"초콜릿\")"
   ]
  },
  {
   "cell_type": "code",
   "execution_count": 41,
   "id": "23f3b59f-e931-4a52-ae31-dc6bad448577",
   "metadata": {},
   "outputs": [
    {
     "ename": "SyntaxError",
     "evalue": "parameter without a default follows parameter with a default (1915227023.py, line 1)",
     "output_type": "error",
     "traceback": [
      "\u001b[1;36m  Cell \u001b[1;32mIn[41], line 1\u001b[1;36m\u001b[0m\n\u001b[1;33m    def f11(menu=\"밥\",gift):\u001b[0m\n\u001b[1;37m                     ^\u001b[0m\n\u001b[1;31mSyntaxError\u001b[0m\u001b[1;31m:\u001b[0m parameter without a default follows parameter with a default\n"
     ]
    }
   ],
   "source": [
    "def f11(menu=\"밥\",gift):\n",
    "    pass"
   ]
  },
  {
   "cell_type": "code",
   "execution_count": null,
   "id": "35d4dc7d-28cc-4a51-84b4-830fbb6953e7",
   "metadata": {},
   "outputs": [],
   "source": [
    "# 가변 매개변수 뒤에 기본 매개변수는 올 수 있음"
   ]
  },
  {
   "cell_type": "code",
   "execution_count": 48,
   "id": "26ad90a7-000c-400a-be6c-55171535e6bf",
   "metadata": {},
   "outputs": [],
   "source": [
    "def f12(*values, menu=\"밥\"):      \n",
    "    print(values, menu)"
   ]
  },
  {
   "cell_type": "code",
   "execution_count": 49,
   "id": "c5c067dc-a904-438b-b22a-4004b8a386d3",
   "metadata": {},
   "outputs": [
    {
     "name": "stdout",
     "output_type": "stream",
     "text": [
      "() 밥\n"
     ]
    }
   ],
   "source": [
    "f12()"
   ]
  },
  {
   "cell_type": "code",
   "execution_count": 45,
   "id": "1b23031c-8954-40df-9eb6-429388c2d27e",
   "metadata": {},
   "outputs": [
    {
     "name": "stdout",
     "output_type": "stream",
     "text": [
      "('빵',) 밥\n"
     ]
    }
   ],
   "source": [
    "f12(\"삼겹살\")"
   ]
  },
  {
   "cell_type": "code",
   "execution_count": 50,
   "id": "7742cac0-59a2-47fa-a9f1-1d7f417de62c",
   "metadata": {},
   "outputs": [
    {
     "name": "stdout",
     "output_type": "stream",
     "text": [
      "('삼겹살', '상추') 밥\n"
     ]
    }
   ],
   "source": [
    "f12(\"삼겹살\",\"상추\")"
   ]
  },
  {
   "cell_type": "code",
   "execution_count": 52,
   "id": "379397f4-53f6-491b-87d1-72e76579c3b7",
   "metadata": {},
   "outputs": [
    {
     "name": "stdout",
     "output_type": "stream",
     "text": [
      "('삼겹살', '상추') 냉면\n"
     ]
    }
   ],
   "source": [
    "f12(\"삼겹살\",\"상추\",menu=\"냉면\")"
   ]
  },
  {
   "cell_type": "code",
   "execution_count": 46,
   "id": "bb07378a-2c82-4d6d-b839-483c3c03b3e4",
   "metadata": {},
   "outputs": [],
   "source": [
    "def f13(*values, menu=\"밥\"):      \n",
    "    print(menu, values)"
   ]
  },
  {
   "cell_type": "code",
   "execution_count": 47,
   "id": "f9ce9e0f-151d-464d-9b07-2c68f5837d92",
   "metadata": {},
   "outputs": [
    {
     "name": "stdout",
     "output_type": "stream",
     "text": [
      "밥 ()\n"
     ]
    }
   ],
   "source": [
    "f13()"
   ]
  },
  {
   "cell_type": "code",
   "execution_count": 54,
   "id": "bdbfa0c7-ce9f-4ef1-b67f-d0b3e998314c",
   "metadata": {},
   "outputs": [],
   "source": [
    "def f14(menu=\"밥\", *values):      \n",
    "    print(menu, values)"
   ]
  },
  {
   "cell_type": "code",
   "execution_count": 55,
   "id": "91a4a775-6225-4cce-ade2-1289befd0b29",
   "metadata": {},
   "outputs": [
    {
     "name": "stdout",
     "output_type": "stream",
     "text": [
      "밥 ()\n"
     ]
    }
   ],
   "source": [
    "f14()"
   ]
  },
  {
   "cell_type": "code",
   "execution_count": 56,
   "id": "06c19158-740d-4bb7-93ee-5538ece1ef31",
   "metadata": {},
   "outputs": [
    {
     "name": "stdout",
     "output_type": "stream",
     "text": [
      "삼겹살 ()\n"
     ]
    }
   ],
   "source": [
    "f14(\"삼겹살\")"
   ]
  },
  {
   "cell_type": "code",
   "execution_count": 57,
   "id": "ace507b9-9d11-44c2-b4c8-432bf3955758",
   "metadata": {},
   "outputs": [
    {
     "name": "stdout",
     "output_type": "stream",
     "text": [
      "삼겹살 ('냉면',)\n"
     ]
    }
   ],
   "source": [
    "f14(\"삼겹살\",\"냉면\")"
   ]
  },
  {
   "cell_type": "code",
   "execution_count": 58,
   "id": "38463f40-42c6-4d4c-be83-99ed2c795d36",
   "metadata": {},
   "outputs": [
    {
     "name": "stdout",
     "output_type": "stream",
     "text": [
      "삼겹살 ('냉면', '된장')\n"
     ]
    }
   ],
   "source": [
    "f14(\"삼겹살\",\"냉면\",\"된장\")"
   ]
  },
  {
   "cell_type": "code",
   "execution_count": null,
   "id": "5078d443-05a8-42af-a93c-f64739a619ab",
   "metadata": {},
   "outputs": [],
   "source": [
    "# 매개변수 앞에 *는 튜플 **는 딕셔너리"
   ]
  },
  {
   "cell_type": "code",
   "execution_count": 62,
   "id": "3fbb56f3-b995-4153-bbf9-272d0ed6f870",
   "metadata": {},
   "outputs": [],
   "source": [
    "def f15(**dic):\n",
    "    print(dic)"
   ]
  },
  {
   "cell_type": "code",
   "execution_count": 63,
   "id": "ebe28c77-2f45-40b7-a0dc-0afe7c8f3495",
   "metadata": {},
   "outputs": [
    {
     "name": "stdout",
     "output_type": "stream",
     "text": [
      "{}\n"
     ]
    }
   ],
   "source": [
    "f15()"
   ]
  },
  {
   "cell_type": "code",
   "execution_count": 64,
   "id": "f303de7a-a457-48d7-8e61-da19d25c9f0f",
   "metadata": {},
   "outputs": [
    {
     "data": {
      "text/plain": [
       "dict"
      ]
     },
     "execution_count": 64,
     "metadata": {},
     "output_type": "execute_result"
    }
   ],
   "source": [
    "type({})"
   ]
  },
  {
   "cell_type": "code",
   "execution_count": null,
   "id": "41c3f6b3-a9ff-4677-b6e6-7c3b46f730fb",
   "metadata": {},
   "outputs": [],
   "source": [
    "# 집합 set(), 집합은 순서 없고, 중복을 제거"
   ]
  },
  {
   "cell_type": "code",
   "execution_count": 65,
   "id": "5b2a7a70-b8e7-48de-b047-5ade6c83ad35",
   "metadata": {},
   "outputs": [
    {
     "data": {
      "text/plain": [
       "set"
      ]
     },
     "execution_count": 65,
     "metadata": {},
     "output_type": "execute_result"
    }
   ],
   "source": [
    "type({1,2,3})"
   ]
  },
  {
   "cell_type": "code",
   "execution_count": 66,
   "id": "447f313e-d751-4637-9a0c-753fe7de9482",
   "metadata": {},
   "outputs": [
    {
     "data": {
      "text/plain": [
       "{1, 2, 3}"
      ]
     },
     "execution_count": 66,
     "metadata": {},
     "output_type": "execute_result"
    }
   ],
   "source": [
    "{1,2,3,3,3,3,3,3,3}"
   ]
  },
  {
   "cell_type": "code",
   "execution_count": 70,
   "id": "98d4a56e-cff9-4c2c-875a-ae6747d6a959",
   "metadata": {},
   "outputs": [
    {
     "ename": "TypeError",
     "evalue": "unhashable type: 'list'",
     "output_type": "error",
     "traceback": [
      "\u001b[1;31m---------------------------------------------------------------------------\u001b[0m",
      "\u001b[1;31mTypeError\u001b[0m                                 Traceback (most recent call last)",
      "Cell \u001b[1;32mIn[70], line 1\u001b[0m\n\u001b[1;32m----> 1\u001b[0m {\u001b[38;5;241m1\u001b[39m,\u001b[38;5;241m2\u001b[39m,[\u001b[38;5;124m'\u001b[39m\u001b[38;5;124mhi\u001b[39m\u001b[38;5;124m'\u001b[39m,\u001b[38;5;241m5\u001b[39m]}\n",
      "\u001b[1;31mTypeError\u001b[0m: unhashable type: 'list'"
     ]
    }
   ],
   "source": [
    "{1,2,['hi',5]}"
   ]
  },
  {
   "cell_type": "code",
   "execution_count": 71,
   "id": "0c7a0876-758b-4139-b8de-ff1353bc5fa7",
   "metadata": {},
   "outputs": [
    {
     "ename": "TypeError",
     "evalue": "unhashable type: 'dict'",
     "output_type": "error",
     "traceback": [
      "\u001b[1;31m---------------------------------------------------------------------------\u001b[0m",
      "\u001b[1;31mTypeError\u001b[0m                                 Traceback (most recent call last)",
      "Cell \u001b[1;32mIn[71], line 1\u001b[0m\n\u001b[1;32m----> 1\u001b[0m {\u001b[38;5;241m1\u001b[39m,\u001b[38;5;241m2\u001b[39m,{\u001b[38;5;124m'\u001b[39m\u001b[38;5;124mhi\u001b[39m\u001b[38;5;124m'\u001b[39m:\u001b[38;5;241m5\u001b[39m}}\n",
      "\u001b[1;31mTypeError\u001b[0m: unhashable type: 'dict'"
     ]
    }
   ],
   "source": [
    "{1,2,{'hi':5}}"
   ]
  },
  {
   "cell_type": "code",
   "execution_count": 72,
   "id": "ac484d8c-7bfb-4868-a27b-935f2dace204",
   "metadata": {},
   "outputs": [
    {
     "name": "stdout",
     "output_type": "stream",
     "text": [
      "1\n",
      "2\n",
      "3\n"
     ]
    }
   ],
   "source": [
    "for i in {1,2,3,3,3,3,3,3,3}:\n",
    "    print(i)"
   ]
  },
  {
   "cell_type": "code",
   "execution_count": 73,
   "id": "4649456a-a6a2-4363-8a16-ded707f999b2",
   "metadata": {},
   "outputs": [],
   "source": [
    "def f15(**dic):\n",
    "    print(dic)"
   ]
  },
  {
   "cell_type": "code",
   "execution_count": 81,
   "id": "267e465f-c1eb-4379-bb96-1224ed170ad3",
   "metadata": {},
   "outputs": [
    {
     "ename": "SyntaxError",
     "evalue": "invalid syntax (2861557803.py, line 1)",
     "output_type": "error",
     "traceback": [
      "\u001b[1;36m  Cell \u001b[1;32mIn[81], line 1\u001b[1;36m\u001b[0m\n\u001b[1;33m    f15('a':'apple')\u001b[0m\n\u001b[1;37m           ^\u001b[0m\n\u001b[1;31mSyntaxError\u001b[0m\u001b[1;31m:\u001b[0m invalid syntax\n"
     ]
    }
   ],
   "source": [
    "f15('a':'apple')"
   ]
  },
  {
   "cell_type": "code",
   "execution_count": 82,
   "id": "c79110c1-c8e5-4e17-962a-747fcc01b22b",
   "metadata": {},
   "outputs": [
    {
     "ename": "TypeError",
     "evalue": "f15() takes 0 positional arguments but 1 was given",
     "output_type": "error",
     "traceback": [
      "\u001b[1;31m---------------------------------------------------------------------------\u001b[0m",
      "\u001b[1;31mTypeError\u001b[0m                                 Traceback (most recent call last)",
      "Cell \u001b[1;32mIn[82], line 1\u001b[0m\n\u001b[1;32m----> 1\u001b[0m f15({\u001b[38;5;124m'\u001b[39m\u001b[38;5;124ma\u001b[39m\u001b[38;5;124m'\u001b[39m:\u001b[38;5;124m'\u001b[39m\u001b[38;5;124mapple\u001b[39m\u001b[38;5;124m'\u001b[39m})\n",
      "\u001b[1;31mTypeError\u001b[0m: f15() takes 0 positional arguments but 1 was given"
     ]
    }
   ],
   "source": [
    "f15({'a':'apple'})"
   ]
  },
  {
   "cell_type": "code",
   "execution_count": 83,
   "id": "852fd873-6937-4543-b1bb-9678737e7405",
   "metadata": {},
   "outputs": [
    {
     "ename": "SyntaxError",
     "evalue": "expression cannot contain assignment, perhaps you meant \"==\"? (3455366398.py, line 1)",
     "output_type": "error",
     "traceback": [
      "\u001b[1;36m  Cell \u001b[1;32mIn[83], line 1\u001b[1;36m\u001b[0m\n\u001b[1;33m    f15('a'='apple')\u001b[0m\n\u001b[1;37m        ^\u001b[0m\n\u001b[1;31mSyntaxError\u001b[0m\u001b[1;31m:\u001b[0m expression cannot contain assignment, perhaps you meant \"==\"?\n"
     ]
    }
   ],
   "source": [
    "f15('a'='apple')"
   ]
  },
  {
   "cell_type": "code",
   "execution_count": 85,
   "id": "73946014-01bf-4806-8623-f42b3660bde6",
   "metadata": {},
   "outputs": [
    {
     "name": "stdout",
     "output_type": "stream",
     "text": [
      "{'a': 'apple'}\n"
     ]
    }
   ],
   "source": [
    "f15(a='apple')"
   ]
  },
  {
   "cell_type": "code",
   "execution_count": 86,
   "id": "425c633d-f9fc-4416-a38e-118bce64ca3a",
   "metadata": {},
   "outputs": [
    {
     "name": "stdout",
     "output_type": "stream",
     "text": [
      "{'a': 'apple', 'b': 'banana'}\n"
     ]
    }
   ],
   "source": [
    "f15(a='apple',b='banana')"
   ]
  },
  {
   "cell_type": "code",
   "execution_count": 87,
   "id": "532be71d-da66-453a-8dd2-0622f7672df6",
   "metadata": {},
   "outputs": [],
   "source": [
    "def f16(gift,**dic):\n",
    "    print(gift,dic)"
   ]
  },
  {
   "cell_type": "code",
   "execution_count": 88,
   "id": "f301abca-b9d4-46af-a3d6-8f30656b594e",
   "metadata": {},
   "outputs": [
    {
     "name": "stdout",
     "output_type": "stream",
     "text": [
      "홍삼 {}\n"
     ]
    }
   ],
   "source": [
    "f16(\"홍삼\")"
   ]
  },
  {
   "cell_type": "code",
   "execution_count": null,
   "id": "494e84e0-fcbf-42f1-bbb4-26a35b4c0241",
   "metadata": {},
   "outputs": [],
   "source": [
    "# 가변 매개변수는 뒤에 일반 매개변수 올 수 없다"
   ]
  },
  {
   "cell_type": "code",
   "execution_count": 89,
   "id": "2b21dbe6-92dc-4ea5-a8f5-8837bae40735",
   "metadata": {},
   "outputs": [
    {
     "ename": "SyntaxError",
     "evalue": "arguments cannot follow var-keyword argument (1381661840.py, line 1)",
     "output_type": "error",
     "traceback": [
      "\u001b[1;36m  Cell \u001b[1;32mIn[89], line 1\u001b[1;36m\u001b[0m\n\u001b[1;33m    def f16(**dic,gift):\u001b[0m\n\u001b[1;37m                  ^\u001b[0m\n\u001b[1;31mSyntaxError\u001b[0m\u001b[1;31m:\u001b[0m arguments cannot follow var-keyword argument\n"
     ]
    }
   ],
   "source": [
    "def f17(**dic,gift):\n",
    "    print(dic,gift)"
   ]
  },
  {
   "cell_type": "code",
   "execution_count": 93,
   "id": "c078ab67-bf06-4b48-ab6f-f449a1b653d8",
   "metadata": {},
   "outputs": [],
   "source": [
    "def f18(menu=\"밥\",**dic):\n",
    "    print(menu,dic)"
   ]
  },
  {
   "cell_type": "code",
   "execution_count": 94,
   "id": "4801df77-209a-4421-a33a-24d0f26fae32",
   "metadata": {},
   "outputs": [
    {
     "name": "stdout",
     "output_type": "stream",
     "text": [
      "밥 {}\n"
     ]
    }
   ],
   "source": [
    "f18()"
   ]
  },
  {
   "cell_type": "code",
   "execution_count": 95,
   "id": "9be74fb2-9ce5-445d-82c9-d83dded87de9",
   "metadata": {},
   "outputs": [
    {
     "name": "stdout",
     "output_type": "stream",
     "text": [
      "면 {}\n"
     ]
    }
   ],
   "source": [
    "f18(\"면\")"
   ]
  },
  {
   "cell_type": "code",
   "execution_count": 96,
   "id": "c7820b4c-7739-4efb-92f9-230dc2a6ceb0",
   "metadata": {},
   "outputs": [
    {
     "ename": "TypeError",
     "evalue": "f18() takes from 0 to 1 positional arguments but 2 were given",
     "output_type": "error",
     "traceback": [
      "\u001b[1;31m---------------------------------------------------------------------------\u001b[0m",
      "\u001b[1;31mTypeError\u001b[0m                                 Traceback (most recent call last)",
      "Cell \u001b[1;32mIn[96], line 1\u001b[0m\n\u001b[1;32m----> 1\u001b[0m f18(\u001b[38;5;124m\"\u001b[39m\u001b[38;5;124m면\u001b[39m\u001b[38;5;124m\"\u001b[39m,\u001b[38;5;124m\"\u001b[39m\u001b[38;5;124m탕수육\u001b[39m\u001b[38;5;124m\"\u001b[39m)\n",
      "\u001b[1;31mTypeError\u001b[0m: f18() takes from 0 to 1 positional arguments but 2 were given"
     ]
    }
   ],
   "source": [
    "f18(\"면\",\"탕수육\")"
   ]
  },
  {
   "cell_type": "code",
   "execution_count": 97,
   "id": "e5191ff3-7992-4af7-a227-713cda7bdc3f",
   "metadata": {},
   "outputs": [
    {
     "name": "stdout",
     "output_type": "stream",
     "text": [
      "면 {'sub': '탕수육'}\n"
     ]
    }
   ],
   "source": [
    "f18(\"면\",sub=\"탕수육\")"
   ]
  },
  {
   "cell_type": "code",
   "execution_count": 98,
   "id": "584ab139-d6e1-4823-8b4e-45f9a2456280",
   "metadata": {},
   "outputs": [
    {
     "name": "stdout",
     "output_type": "stream",
     "text": [
      "면 {'sub': '탕수육', 'source': '간장'}\n"
     ]
    }
   ],
   "source": [
    "f18(\"면\",sub=\"탕수육\", source=\"간장\")"
   ]
  },
  {
   "cell_type": "code",
   "execution_count": 99,
   "id": "e7b3c3ef-c054-4849-90f8-0fed7b43320a",
   "metadata": {},
   "outputs": [
    {
     "name": "stdout",
     "output_type": "stream",
     "text": [
      "면 {'sub': '탕수육', 'source': '간장'}\n"
     ]
    }
   ],
   "source": [
    "f18(menu=\"면\",sub=\"탕수육\", source=\"간장\")"
   ]
  },
  {
   "cell_type": "code",
   "execution_count": 100,
   "id": "c0ed1f0a-6a48-41a7-b167-153860185b1e",
   "metadata": {},
   "outputs": [],
   "source": [
    "def f19(gift, menu=\"밥\",**dic):\n",
    "    print(gift, menu,dic)"
   ]
  },
  {
   "cell_type": "code",
   "execution_count": 101,
   "id": "cf129c67-07eb-4fb8-851f-c27467592c09",
   "metadata": {},
   "outputs": [
    {
     "name": "stdout",
     "output_type": "stream",
     "text": [
      "파인애플 밥 {}\n"
     ]
    }
   ],
   "source": [
    "f19(\"파인애플\")"
   ]
  },
  {
   "cell_type": "code",
   "execution_count": 102,
   "id": "5375accb-5a67-4220-a1b7-6e2f8ea4b2fc",
   "metadata": {},
   "outputs": [
    {
     "name": "stdout",
     "output_type": "stream",
     "text": [
      "파인애플 면 {}\n"
     ]
    }
   ],
   "source": [
    "f19(\"파인애플\",\"면\")"
   ]
  },
  {
   "cell_type": "code",
   "execution_count": 103,
   "id": "17f0162f-91ec-4db1-941d-d10631d01336",
   "metadata": {},
   "outputs": [
    {
     "name": "stdout",
     "output_type": "stream",
     "text": [
      "파인애플 면 {'plus': '짬뽕'}\n"
     ]
    }
   ],
   "source": [
    "f19(\"파인애플\",\"면\",plus=\"짬뽕\")"
   ]
  },
  {
   "cell_type": "code",
   "execution_count": 104,
   "id": "d9e17f4a-11f0-4c14-92d6-0f8178f1be48",
   "metadata": {},
   "outputs": [],
   "source": [
    "def f20(gift, menu=\"밥\",*values,**dic):\n",
    "    print(gift, menu,values,dic)"
   ]
  },
  {
   "cell_type": "code",
   "execution_count": 105,
   "id": "26f94e67-bd03-4e86-b328-93ef75733160",
   "metadata": {},
   "outputs": [
    {
     "ename": "TypeError",
     "evalue": "f20() missing 1 required positional argument: 'gift'",
     "output_type": "error",
     "traceback": [
      "\u001b[1;31m---------------------------------------------------------------------------\u001b[0m",
      "\u001b[1;31mTypeError\u001b[0m                                 Traceback (most recent call last)",
      "Cell \u001b[1;32mIn[105], line 1\u001b[0m\n\u001b[1;32m----> 1\u001b[0m f20()\n",
      "\u001b[1;31mTypeError\u001b[0m: f20() missing 1 required positional argument: 'gift'"
     ]
    }
   ],
   "source": [
    "f20()"
   ]
  },
  {
   "cell_type": "code",
   "execution_count": 106,
   "id": "9b4de61e-671c-4a37-843f-fc9466362031",
   "metadata": {},
   "outputs": [
    {
     "name": "stdout",
     "output_type": "stream",
     "text": [
      "꽃 밥 () {}\n"
     ]
    }
   ],
   "source": [
    "f20(\"꽃\")"
   ]
  },
  {
   "cell_type": "code",
   "execution_count": 107,
   "id": "dbcdc70e-117a-4ed9-8800-6d35d215b4fd",
   "metadata": {},
   "outputs": [
    {
     "name": "stdout",
     "output_type": "stream",
     "text": [
      "꽃 면 () {}\n"
     ]
    }
   ],
   "source": [
    "f20(\"꽃\",\"면\")"
   ]
  },
  {
   "cell_type": "code",
   "execution_count": 108,
   "id": "c7a47909-c72d-439d-aec4-f51c34620d9b",
   "metadata": {},
   "outputs": [
    {
     "name": "stdout",
     "output_type": "stream",
     "text": [
      "꽃 면 (1, 2, 3) {'a': 'apple'}\n"
     ]
    }
   ],
   "source": [
    "f20(\"꽃\",\"면\",1,2,3,a='apple')"
   ]
  },
  {
   "cell_type": "code",
   "execution_count": 109,
   "id": "9bb905d1-db47-427a-9d40-454a107a67fe",
   "metadata": {},
   "outputs": [
    {
     "name": "stdout",
     "output_type": "stream",
     "text": [
      "꽃 면 (1, 2, 3) {'a': 'apple', 'b': 'banana'}\n"
     ]
    }
   ],
   "source": [
    "f20(\"꽃\",\"면\",1,2,3,a='apple', b='banana')"
   ]
  },
  {
   "cell_type": "code",
   "execution_count": null,
   "id": "8b8a630e-3257-4275-9951-438e3e48a4f2",
   "metadata": {},
   "outputs": [],
   "source": []
  }
 ],
 "metadata": {
  "kernelspec": {
   "display_name": "Python 3 (ipykernel)",
   "language": "python",
   "name": "python3"
  },
  "language_info": {
   "codemirror_mode": {
    "name": "ipython",
    "version": 3
   },
   "file_extension": ".py",
   "mimetype": "text/x-python",
   "name": "python",
   "nbconvert_exporter": "python",
   "pygments_lexer": "ipython3",
   "version": "3.12.4"
  }
 },
 "nbformat": 4,
 "nbformat_minor": 5
}
